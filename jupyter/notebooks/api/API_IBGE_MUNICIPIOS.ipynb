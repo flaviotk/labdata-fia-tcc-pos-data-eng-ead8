{
 "cells": [
  {
   "cell_type": "code",
   "execution_count": 11,
   "id": "77f34095-e15b-4a69-ab2f-776469a49e54",
   "metadata": {},
   "outputs": [],
   "source": [
    "import requests\n",
    "import json\n",
    "from pyspark.sql import SparkSession\n",
    "from pyspark.sql.functions import col\n",
    "from pyspark.sql.types import StructField, StructType, StringType, IntegerType"
   ]
  },
  {
   "cell_type": "code",
   "execution_count": 12,
   "id": "84f9cc35-5357-4636-afdd-101f74ffb4f0",
   "metadata": {},
   "outputs": [],
   "source": [
    "spark = (SparkSession.builder\n",
    "         .config(\"spark.jars\",\"\"\"/home/jovyan/jars/aws-java-sdk-core-1.11.534.jar,\n",
    "                                 /home/jovyan/jars/aws-java-sdk-dynamodb-1.11.534.jar,\n",
    "                                 /home/jovyan/jars/aws-java-sdk-s3-1.11.534.jar,\n",
    "                                 /home/jovyan/jars/hadoop-aws-3.2.2.jar\"\"\")\n",
    "         .config(\"spark.hadoop.fs.s3a.endpoint\", \"http://minio:9000\")\n",
    "         .config(\"spark.hadoop.fs.s3a.access.key\", \"aulafia\")\n",
    "         .config(\"spark.hadoop.fs.s3a.secret.key\", \"aulafia@123\")\n",
    "         .config(\"spark.hadoop.fs.s3a.path.style.access\", True)\n",
    "         .config(\"spark.hadoop.fs.s3a.impl\", \"org.apache.hadoop.fs.s3a.S3AFileSystem\")\n",
    "         .config(\"spark.hadoop.fs.s3a.aws.credentials.provider\", \"org.apache.hadoop.fs.s3a.SimpleAWSCredentialsProvider\")\n",
    "         .getOrCreate()\n",
    "        )"
   ]
  },
  {
   "cell_type": "code",
   "execution_count": 13,
   "id": "f512de0f-5cab-4563-a58b-20e8089d8757",
   "metadata": {},
   "outputs": [],
   "source": [
    "schema = StructType([\n",
    "    StructField(\"id\", IntegerType(), True),\n",
    "    StructField(\"nome\", StringType(), True),\n",
    "    StructField(\"microrregiao\", StructType([\n",
    "        StructField(\"id\", IntegerType(), True),\n",
    "        StructField(\"nome\", StringType(), True),\n",
    "        StructField(\"mesorregiao\", StructType([\n",
    "            StructField(\"id\", IntegerType(), True),\n",
    "            StructField(\"nome\", StringType(), True),\n",
    "            StructField(\"UF\", StructType([\n",
    "                StructField(\"id\", IntegerType(), True),\n",
    "                StructField(\"sigla\", StringType(), True),\n",
    "                StructField(\"nome\", StringType(), True),\n",
    "                StructField(\"regiao\", StructType([\n",
    "                    StructField(\"id\", IntegerType(), True),\n",
    "                    StructField(\"sigla\", StringType(), True),\n",
    "                    StructField(\"nome\", StringType(), True)\n",
    "                ]))\n",
    "            ]))\n",
    "        ]))\n",
    "    ])),\n",
    "    StructField(\"regiao-imediata\", StructType([\n",
    "        StructField(\"id\", IntegerType(), True),\n",
    "        StructField(\"nome\", StringType(), True),\n",
    "        StructField(\"regiao-intermediaria\", StructType([\n",
    "            StructField(\"id\", IntegerType(), True),\n",
    "            StructField(\"nome\", StringType(), True),\n",
    "            StructField(\"UF\", StructType([\n",
    "                StructField(\"id\", IntegerType(), True),\n",
    "                StructField(\"sigla\", StringType(), True),\n",
    "                StructField(\"nome\", StringType(), True),\n",
    "                StructField(\"regiao\", StructType([\n",
    "                    StructField(\"id\", IntegerType(), True),\n",
    "                    StructField(\"sigla\", StringType(), True),\n",
    "                    StructField(\"nome\", StringType(), True)\n",
    "                ]))\n",
    "            ]))\n",
    "        ]))\n",
    "    ]))\n",
    "])"
   ]
  },
  {
   "cell_type": "code",
   "execution_count": 15,
   "id": "7a151e88-baf2-4cb0-a0b5-f40cc25ae863",
   "metadata": {},
   "outputs": [],
   "source": [
    "url = \"https://servicodados.ibge.gov.br/api/v1/localidades/municipios\"\n",
    "response = requests.get(url)\n",
    "j_resp = json.loads(response.text)"
   ]
  },
  {
   "cell_type": "code",
   "execution_count": 16,
   "id": "d17ac1c4-dd23-4c1c-9074-ea53ea75de68",
   "metadata": {},
   "outputs": [],
   "source": [
    "df_municipio = spark.createDataFrame(data=j_resp, schema=schema)"
   ]
  },
  {
   "cell_type": "code",
   "execution_count": 17,
   "id": "4a84f6c5-c74c-459f-9c7e-f4d707a3f248",
   "metadata": {},
   "outputs": [
    {
     "name": "stdout",
     "output_type": "stream",
     "text": [
      "+-------+---------------------+----------------------------------------------------------------------------------------+---------------------------------------------------------------------------+\n",
      "|id     |nome                 |microrregiao                                                                            |regiao-imediata                                                            |\n",
      "+-------+---------------------+----------------------------------------------------------------------------------------+---------------------------------------------------------------------------+\n",
      "|1100015|Alta Floresta D'Oeste|{11006, Cacoal, {1102, Leste Rondoniense, {11, RO, Rondônia, {1, N, Norte}}}}           |{110005, Cacoal, {1102, Ji-Paraná, {11, RO, Rondônia, {1, N, Norte}}}}     |\n",
      "|1100023|Ariquemes            |{11003, Ariquemes, {1102, Leste Rondoniense, {11, RO, Rondônia, {1, N, Norte}}}}        |{110002, Ariquemes, {1101, Porto Velho, {11, RO, Rondônia, {1, N, Norte}}}}|\n",
      "|1100031|Cabixi               |{11008, Colorado do Oeste, {1102, Leste Rondoniense, {11, RO, Rondônia, {1, N, Norte}}}}|{110006, Vilhena, {1102, Ji-Paraná, {11, RO, Rondônia, {1, N, Norte}}}}    |\n",
      "|1100049|Cacoal               |{11006, Cacoal, {1102, Leste Rondoniense, {11, RO, Rondônia, {1, N, Norte}}}}           |{110005, Cacoal, {1102, Ji-Paraná, {11, RO, Rondônia, {1, N, Norte}}}}     |\n",
      "|1100056|Cerejeiras           |{11008, Colorado do Oeste, {1102, Leste Rondoniense, {11, RO, Rondônia, {1, N, Norte}}}}|{110006, Vilhena, {1102, Ji-Paraná, {11, RO, Rondônia, {1, N, Norte}}}}    |\n",
      "+-------+---------------------+----------------------------------------------------------------------------------------+---------------------------------------------------------------------------+\n",
      "only showing top 5 rows\n",
      "\n"
     ]
    }
   ],
   "source": [
    "df_municipio.show(5, False)"
   ]
  },
  {
   "cell_type": "code",
   "execution_count": 18,
   "id": "df527582-076a-432a-a004-f8e90021d013",
   "metadata": {},
   "outputs": [],
   "source": [
    "(df_municipio\n",
    " .write\n",
    " .format('parquet')\n",
    " .mode('overwrite')\n",
    " .save('s3a://bronze/ibge/municipio')\n",
    " )"
   ]
  },
  {
   "cell_type": "code",
   "execution_count": null,
   "id": "58ce8e21-0ca5-4a8b-8319-1a79e64d9823",
   "metadata": {},
   "outputs": [],
   "source": []
  }
 ],
 "metadata": {
  "kernelspec": {
   "display_name": "Python 3 (ipykernel)",
   "language": "python",
   "name": "python3"
  },
  "language_info": {
   "codemirror_mode": {
    "name": "ipython",
    "version": 3
   },
   "file_extension": ".py",
   "mimetype": "text/x-python",
   "name": "python",
   "nbconvert_exporter": "python",
   "pygments_lexer": "ipython3",
   "version": "3.10.5"
  }
 },
 "nbformat": 4,
 "nbformat_minor": 5
}
