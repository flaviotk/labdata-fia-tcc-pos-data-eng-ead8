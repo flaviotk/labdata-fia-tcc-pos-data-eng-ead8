{
 "cells": [
  {
   "cell_type": "code",
   "execution_count": 3,
   "id": "14055cc5-0d25-488d-8df8-f27dd4879a80",
   "metadata": {},
   "outputs": [
    {
     "data": {
      "text/html": [
       "<style>pre { white-space: pre !important; }</style>"
      ],
      "text/plain": [
       "<IPython.core.display.HTML object>"
      ]
     },
     "metadata": {},
     "output_type": "display_data"
    }
   ],
   "source": [
    "from pyspark.sql.types import *\n",
    "from pyspark.sql.window import Window\n",
    "import pyspark.sql.functions as fn\n",
    "from pyspark.sql import SparkSession\n",
    "from IPython.core.display import HTML\n",
    "display(HTML(\"<style>pre { white-space: pre !important; }</style>\"))"
   ]
  },
  {
   "cell_type": "code",
   "execution_count": 4,
   "id": "57a6a529-163a-428b-892e-643051efe946",
   "metadata": {},
   "outputs": [],
   "source": [
    "spark = (SparkSession.builder\n",
    "         .config(\"spark.jars\",\"\"\"/home/jovyan/jars/aws-java-sdk-core-1.11.534.jar,\n",
    "                                 /home/jovyan/jars/aws-java-sdk-dynamodb-1.11.534.jar,\n",
    "                                 /home/jovyan/jars/aws-java-sdk-s3-1.11.534.jar,\n",
    "                                 /home/jovyan/jars/hadoop-aws-3.2.2.jar\"\"\")\n",
    "         .config(\"spark.hadoop.fs.s3a.endpoint\", \"http://minio:9000\")\n",
    "         .config(\"spark.hadoop.fs.s3a.access.key\", \"aulafia\")\n",
    "         .config(\"spark.hadoop.fs.s3a.secret.key\", \"aulafia@123\")\n",
    "         .config(\"spark.hadoop.fs.s3a.path.style.access\", True)\n",
    "         .config(\"spark.hadoop.fs.s3a.impl\", \"org.apache.hadoop.fs.s3a.S3AFileSystem\")\n",
    "         .config(\"spark.hadoop.fs.s3a.aws.credentials.provider\", \"org.apache.hadoop.fs.s3a.SimpleAWSCredentialsProvider\")\n",
    "         .getOrCreate()\n",
    "        )"
   ]
  },
  {
   "cell_type": "code",
   "execution_count": 3,
   "id": "80234134-352d-47bb-8989-b5e9c7cbec74",
   "metadata": {},
   "outputs": [
    {
     "name": "stdout",
     "output_type": "stream",
     "text": [
      "[('estado_id', 'int'), ('estado_nome', 'string'), ('estado_sigla', 'string'), ('regiao_id', 'int'), ('regiao_nome', 'string'), ('regiao_sigla', 'string')]\n",
      "27\n",
      "+---------+-------------------+------------+---------+-----------+------------+\n",
      "|estado_id|estado_nome        |estado_sigla|regiao_id|regiao_nome|regiao_sigla|\n",
      "+---------+-------------------+------------+---------+-----------+------------+\n",
      "|11       |Rondônia           |RO          |1        |Norte      |N           |\n",
      "|12       |Acre               |AC          |1        |Norte      |N           |\n",
      "|13       |Amazonas           |AM          |1        |Norte      |N           |\n",
      "|14       |Roraima            |RR          |1        |Norte      |N           |\n",
      "|15       |Pará               |PA          |1        |Norte      |N           |\n",
      "|16       |Amapá              |AP          |1        |Norte      |N           |\n",
      "|17       |Tocantins          |TO          |1        |Norte      |N           |\n",
      "|21       |Maranhão           |MA          |2        |Nordeste   |NE          |\n",
      "|22       |Piauí              |PI          |2        |Nordeste   |NE          |\n",
      "|23       |Ceará              |CE          |2        |Nordeste   |NE          |\n",
      "|24       |Rio Grande do Norte|RN          |2        |Nordeste   |NE          |\n",
      "|25       |Paraíba            |PB          |2        |Nordeste   |NE          |\n",
      "+---------+-------------------+------------+---------+-----------+------------+\n",
      "only showing top 12 rows\n",
      "\n"
     ]
    }
   ],
   "source": [
    "df_estado = spark.read.format('parquet').load('s3a://silver/dado_geografico/estado')\n",
    "print(df_estado.dtypes)\n",
    "print(df_estado.count())\n",
    "df_estado.show(12, False)"
   ]
  },
  {
   "cell_type": "code",
   "execution_count": 4,
   "id": "f7ed6b5f-948d-4e4b-b6b2-b6866a58f391",
   "metadata": {},
   "outputs": [
    {
     "name": "stdout",
     "output_type": "stream",
     "text": [
      "[('municipio_id', 'bigint'), ('municipio_nome', 'string'), ('microregiao_id', 'bigint'), ('microregiao_nome', 'string'), ('microregiao_mesoregiao_id', 'bigint'), ('microregiao_mesoregiao_nome', 'string'), ('microregiao_mesoregiao_uf_id', 'int'), ('microregiao_mesoregiao_uf_sigla', 'string'), ('microregiao_mesoregiao_uf_nome', 'string'), ('microregiao_mesoregiao_uf_regiao_id', 'int'), ('microregiao_mesoregiao_uf_regiao_sigla', 'string'), ('microregiao_mesoregiao_uf_regiao_nome', 'string'), ('regiao_imediata_id', 'int'), ('regiao_imediata_nome', 'string'), ('regiao_imediata_intermediaria_id', 'int'), ('regiao_imediata_intermediaria_nome', 'string'), ('regiao_imediata_intermediaria_uf_id', 'int'), ('regiao_imediata_intermediaria_uf_sigla', 'string'), ('regiao_imediata_intermediaria_uf_nome', 'string'), ('regiao_imediata_intermediaria_uf_regiao_id', 'int'), ('regiao_imediata_intermediaria_uf_regiao_sigla', 'string'), ('regiao_imediata_intermediaria_uf_regiao_nome', 'string')]\n",
      "5570\n",
      "+------------+---------------------+--------------+-----------------+-------------------------+---------------------------+----------------------------+-------------------------------+------------------------------+-----------------------------------+--------------------------------------+-------------------------------------+------------------+--------------------+--------------------------------+----------------------------------+-----------------------------------+--------------------------------------+-------------------------------------+------------------------------------------+---------------------------------------------+--------------------------------------------+\n",
      "|municipio_id|municipio_nome       |microregiao_id|microregiao_nome |microregiao_mesoregiao_id|microregiao_mesoregiao_nome|microregiao_mesoregiao_uf_id|microregiao_mesoregiao_uf_sigla|microregiao_mesoregiao_uf_nome|microregiao_mesoregiao_uf_regiao_id|microregiao_mesoregiao_uf_regiao_sigla|microregiao_mesoregiao_uf_regiao_nome|regiao_imediata_id|regiao_imediata_nome|regiao_imediata_intermediaria_id|regiao_imediata_intermediaria_nome|regiao_imediata_intermediaria_uf_id|regiao_imediata_intermediaria_uf_sigla|regiao_imediata_intermediaria_uf_nome|regiao_imediata_intermediaria_uf_regiao_id|regiao_imediata_intermediaria_uf_regiao_sigla|regiao_imediata_intermediaria_uf_regiao_nome|\n",
      "+------------+---------------------+--------------+-----------------+-------------------------+---------------------------+----------------------------+-------------------------------+------------------------------+-----------------------------------+--------------------------------------+-------------------------------------+------------------+--------------------+--------------------------------+----------------------------------+-----------------------------------+--------------------------------------+-------------------------------------+------------------------------------------+---------------------------------------------+--------------------------------------------+\n",
      "|1100015     |Alta Floresta D'Oeste|11006         |Cacoal           |1102                     |Leste Rondoniense          |11                          |RO                             |Rondônia                      |1                                  |N                                     |Norte                                |110005            |Cacoal              |1102                            |Ji-Paraná                         |11                                 |RO                                    |Rondônia                             |1                                         |N                                            |Norte                                       |\n",
      "|1100023     |Ariquemes            |11003         |Ariquemes        |1102                     |Leste Rondoniense          |11                          |RO                             |Rondônia                      |1                                  |N                                     |Norte                                |110002            |Ariquemes           |1101                            |Porto Velho                       |11                                 |RO                                    |Rondônia                             |1                                         |N                                            |Norte                                       |\n",
      "|1100031     |Cabixi               |11008         |Colorado do Oeste|1102                     |Leste Rondoniense          |11                          |RO                             |Rondônia                      |1                                  |N                                     |Norte                                |110006            |Vilhena             |1102                            |Ji-Paraná                         |11                                 |RO                                    |Rondônia                             |1                                         |N                                            |Norte                                       |\n",
      "|1100049     |Cacoal               |11006         |Cacoal           |1102                     |Leste Rondoniense          |11                          |RO                             |Rondônia                      |1                                  |N                                     |Norte                                |110005            |Cacoal              |1102                            |Ji-Paraná                         |11                                 |RO                                    |Rondônia                             |1                                         |N                                            |Norte                                       |\n",
      "|1100056     |Cerejeiras           |11008         |Colorado do Oeste|1102                     |Leste Rondoniense          |11                          |RO                             |Rondônia                      |1                                  |N                                     |Norte                                |110006            |Vilhena             |1102                            |Ji-Paraná                         |11                                 |RO                                    |Rondônia                             |1                                         |N                                            |Norte                                       |\n",
      "|1100064     |Colorado do Oeste    |11008         |Colorado do Oeste|1102                     |Leste Rondoniense          |11                          |RO                             |Rondônia                      |1                                  |N                                     |Norte                                |110006            |Vilhena             |1102                            |Ji-Paraná                         |11                                 |RO                                    |Rondônia                             |1                                         |N                                            |Norte                                       |\n",
      "|1100072     |Corumbiara           |11008         |Colorado do Oeste|1102                     |Leste Rondoniense          |11                          |RO                             |Rondônia                      |1                                  |N                                     |Norte                                |110006            |Vilhena             |1102                            |Ji-Paraná                         |11                                 |RO                                    |Rondônia                             |1                                         |N                                            |Norte                                       |\n",
      "|1100080     |Costa Marques        |11002         |Guajará-Mirim    |1101                     |Madeira-Guaporé            |11                          |RO                             |Rondônia                      |1                                  |N                                     |Norte                                |110004            |Ji-Paraná           |1102                            |Ji-Paraná                         |11                                 |RO                                    |Rondônia                             |1                                         |N                                            |Norte                                       |\n",
      "|1100098     |Espigão D'Oeste      |11006         |Cacoal           |1102                     |Leste Rondoniense          |11                          |RO                             |Rondônia                      |1                                  |N                                     |Norte                                |110005            |Cacoal              |1102                            |Ji-Paraná                         |11                                 |RO                                    |Rondônia                             |1                                         |N                                            |Norte                                       |\n",
      "|1100106     |Guajará-Mirim        |11002         |Guajará-Mirim    |1101                     |Madeira-Guaporé            |11                          |RO                             |Rondônia                      |1                                  |N                                     |Norte                                |110001            |Porto Velho         |1101                            |Porto Velho                       |11                                 |RO                                    |Rondônia                             |1                                         |N                                            |Norte                                       |\n",
      "|1100114     |Jaru                 |11004         |Ji-Paraná        |1102                     |Leste Rondoniense          |11                          |RO                             |Rondônia                      |1                                  |N                                     |Norte                                |110003            |Jaru                |1101                            |Porto Velho                       |11                                 |RO                                    |Rondônia                             |1                                         |N                                            |Norte                                       |\n",
      "|1100122     |Ji-Paraná            |11004         |Ji-Paraná        |1102                     |Leste Rondoniense          |11                          |RO                             |Rondônia                      |1                                  |N                                     |Norte                                |110004            |Ji-Paraná           |1102                            |Ji-Paraná                         |11                                 |RO                                    |Rondônia                             |1                                         |N                                            |Norte                                       |\n",
      "+------------+---------------------+--------------+-----------------+-------------------------+---------------------------+----------------------------+-------------------------------+------------------------------+-----------------------------------+--------------------------------------+-------------------------------------+------------------+--------------------+--------------------------------+----------------------------------+-----------------------------------+--------------------------------------+-------------------------------------+------------------------------------------+---------------------------------------------+--------------------------------------------+\n",
      "only showing top 12 rows\n",
      "\n"
     ]
    }
   ],
   "source": [
    "df_municipio = spark.read.format('parquet').load('s3a://silver/dado_geografico/municipio')\n",
    "print(df_municipio.dtypes)\n",
    "print(df_municipio.count())\n",
    "df_municipio.show(12, False)"
   ]
  },
  {
   "cell_type": "code",
   "execution_count": 5,
   "id": "3f01774d-590e-47ff-9c76-2314b67c431e",
   "metadata": {},
   "outputs": [
    {
     "name": "stdout",
     "output_type": "stream",
     "text": [
      "[('codigo_instituicao', 'bigint'), ('nome_instituicao', 'string'), ('categoria_administrativa', 'int'), ('organizacao_academica', 'int'), ('codigo_curso_graduacao', 'bigint'), ('nome_curso_graduacao', 'string'), ('codigo_regiao_geografica_curso', 'int'), ('nome_regiao_geografica_curso', 'string'), ('codigo_unidade_federativa_curso', 'int'), ('nome_unidade_federativa_curso', 'string'), ('codigo_municipio_curso', 'bigint'), ('nome_municipio_curso', 'string'), ('tipo_grau_academico', 'int'), ('tipo_modalidade_ensino', 'int'), ('codigo_area_curso_classificacao_cine_brasil', 'string'), ('nome_area_curso_classificacao_cine_brasil', 'string'), ('codigo_grande_area_curso_classificacao_cine_brasil', 'int'), ('nome_grande_area_curso_classificacao_cine_brasil', 'string'), ('ano_ingresso', 'int'), ('ano_referencia', 'int'), ('prazo_integralizacao_anos', 'int'), ('ano_integralizacao_curso', 'int'), ('prazo_acompanhamento_curso_anos', 'int'), ('ano_maximo_acompanhamento_curso', 'int'), ('quantidade_ingressante_curso', 'bigint'), ('quantidade_permanencia_curso_ano_referencia', 'bigint'), ('quantidade_concluinte_curso_ano_referencia', 'bigint'), ('quantidade_desistencia_curso_ano_referencia', 'bigint'), ('quantidade_falecimento_curso_ano_referencia', 'bigint'), ('taxa_permanencia_tap', 'double'), ('taxa_conclusao_acumulada_tca', 'double'), ('taxa_desistencia_acumulada_tda', 'double'), ('taxa_conclusso_anual_tcan', 'double'), ('taxa_desistencia_anual_tada', 'double')]\n",
      "259230\n",
      "+------------------+-----------------------------------+------------------------+---------------------+----------------------+--------------------+------------------------------+----------------------------+-------------------------------+-----------------------------+----------------------+--------------------+-------------------+----------------------+-------------------------------------------+-----------------------------------------+--------------------------------------------------+------------------------------------------------+------------+--------------+-------------------------+------------------------+-------------------------------+-------------------------------+----------------------------+-------------------------------------------+------------------------------------------+-------------------------------------------+-------------------------------------------+--------------------+----------------------------+------------------------------+-------------------------+---------------------------+\n",
      "|codigo_instituicao|nome_instituicao                   |categoria_administrativa|organizacao_academica|codigo_curso_graduacao|nome_curso_graduacao|codigo_regiao_geografica_curso|nome_regiao_geografica_curso|codigo_unidade_federativa_curso|nome_unidade_federativa_curso|codigo_municipio_curso|nome_municipio_curso|tipo_grau_academico|tipo_modalidade_ensino|codigo_area_curso_classificacao_cine_brasil|nome_area_curso_classificacao_cine_brasil|codigo_grande_area_curso_classificacao_cine_brasil|nome_grande_area_curso_classificacao_cine_brasil|ano_ingresso|ano_referencia|prazo_integralizacao_anos|ano_integralizacao_curso|prazo_acompanhamento_curso_anos|ano_maximo_acompanhamento_curso|quantidade_ingressante_curso|quantidade_permanencia_curso_ano_referencia|quantidade_concluinte_curso_ano_referencia|quantidade_desistencia_curso_ano_referencia|quantidade_falecimento_curso_ano_referencia|taxa_permanencia_tap|taxa_conclusao_acumulada_tca|taxa_desistencia_acumulada_tda|taxa_conclusso_anual_tcan|taxa_desistencia_anual_tada|\n",
      "+------------------+-----------------------------------+------------------------+---------------------+----------------------+--------------------+------------------------------+----------------------------+-------------------------------+-----------------------------+----------------------+--------------------+-------------------+----------------------+-------------------------------------------+-----------------------------------------+--------------------------------------------------+------------------------------------------------+------------+--------------+-------------------------+------------------------+-------------------------------+-------------------------------+----------------------------+-------------------------------------------+------------------------------------------+-------------------------------------------+-------------------------------------------+--------------------+----------------------------+------------------------------+-------------------------+---------------------------+\n",
      "|1                 |UNIVERSIDADE FEDERAL DE MATO GROSSO|1                       |1                    |1                     |DIREITO             |5                             |Centro-Oeste                |51                             |Mato Grosso                  |5103403               |Cuiabá              |1                  |1                     |0421D01                                    |Direito                                  |4                                                 |Negócios, administração e direito               |2010        |2010          |6                        |2015                    |10                             |2019                           |107                         |98                                         |1                                         |8                                          |0                                          |91.58878504672897   |0.9345794392523364          |7.4766355140186915            |0.9345794392523364       |7.4766355140186915         |\n",
      "|1                 |UNIVERSIDADE FEDERAL DE MATO GROSSO|1                       |1                    |1                     |DIREITO             |5                             |Centro-Oeste                |51                             |Mato Grosso                  |5103403               |Cuiabá              |1                  |1                     |0421D01                                    |Direito                                  |4                                                 |Negócios, administração e direito               |2010        |2011          |6                        |2015                    |10                             |2019                           |107                         |90                                         |0                                         |8                                          |0                                          |84.11214953271028   |0.9345794392523364          |14.953271028037383            |0.0                      |7.4766355140186915         |\n",
      "|1                 |UNIVERSIDADE FEDERAL DE MATO GROSSO|1                       |1                    |1                     |DIREITO             |5                             |Centro-Oeste                |51                             |Mato Grosso                  |5103403               |Cuiabá              |1                  |1                     |0421D01                                    |Direito                                  |4                                                 |Negócios, administração e direito               |2010        |2012          |6                        |2015                    |10                             |2019                           |107                         |87                                         |2                                         |1                                          |0                                          |81.30841121495327   |2.803738317757009           |15.88785046728972             |1.8691588785046729       |0.9345794392523364         |\n",
      "|1                 |UNIVERSIDADE FEDERAL DE MATO GROSSO|1                       |1                    |1                     |DIREITO             |5                             |Centro-Oeste                |51                             |Mato Grosso                  |5103403               |Cuiabá              |1                  |1                     |0421D01                                    |Direito                                  |4                                                 |Negócios, administração e direito               |2010        |2013          |6                        |2015                    |10                             |2019                           |107                         |83                                         |2                                         |2                                          |0                                          |77.57009345794393   |4.672897196261682           |17.757009345794394            |1.8691588785046729       |1.8691588785046729         |\n",
      "|1                 |UNIVERSIDADE FEDERAL DE MATO GROSSO|1                       |1                    |1                     |DIREITO             |5                             |Centro-Oeste                |51                             |Mato Grosso                  |5103403               |Cuiabá              |1                  |1                     |0421D01                                    |Direito                                  |4                                                 |Negócios, administração e direito               |2010        |2014          |6                        |2015                    |10                             |2019                           |107                         |27                                         |54                                        |2                                          |0                                          |25.233644859813083  |55.14018691588785           |19.626168224299064            |50.467289719626166       |1.8691588785046729         |\n",
      "|1                 |UNIVERSIDADE FEDERAL DE MATO GROSSO|1                       |1                    |1                     |DIREITO             |5                             |Centro-Oeste                |51                             |Mato Grosso                  |5103403               |Cuiabá              |1                  |1                     |0421D01                                    |Direito                                  |4                                                 |Negócios, administração e direito               |2010        |2015          |6                        |2015                    |10                             |2019                           |107                         |24                                         |2                                         |1                                          |0                                          |22.429906542056074  |57.00934579439252           |20.560747663551403            |1.8691588785046729       |0.9345794392523364         |\n",
      "|1                 |UNIVERSIDADE FEDERAL DE MATO GROSSO|1                       |1                    |1                     |DIREITO             |5                             |Centro-Oeste                |51                             |Mato Grosso                  |5103403               |Cuiabá              |1                  |1                     |0421D01                                    |Direito                                  |4                                                 |Negócios, administração e direito               |2010        |2016          |6                        |2015                    |10                             |2019                           |107                         |13                                         |3                                         |8                                          |0                                          |12.149532710280374  |59.81308411214953           |28.037383177570092            |2.803738317757009        |7.4766355140186915         |\n",
      "|1                 |UNIVERSIDADE FEDERAL DE MATO GROSSO|1                       |1                    |1                     |DIREITO             |5                             |Centro-Oeste                |51                             |Mato Grosso                  |5103403               |Cuiabá              |1                  |1                     |0421D01                                    |Direito                                  |4                                                 |Negócios, administração e direito               |2010        |2017          |6                        |2015                    |10                             |2019                           |107                         |7                                          |1                                         |5                                          |0                                          |6.542056074766355   |60.74766355140187           |32.71028037383178             |0.9345794392523364       |4.672897196261682          |\n",
      "|1                 |UNIVERSIDADE FEDERAL DE MATO GROSSO|1                       |1                    |1                     |DIREITO             |5                             |Centro-Oeste                |51                             |Mato Grosso                  |5103403               |Cuiabá              |1                  |1                     |0421D01                                    |Direito                                  |4                                                 |Negócios, administração e direito               |2010        |2018          |6                        |2015                    |10                             |2019                           |107                         |5                                          |1                                         |1                                          |0                                          |4.672897196261682   |61.6822429906542            |33.64485981308411             |0.9345794392523364       |0.9345794392523364         |\n",
      "|1                 |UNIVERSIDADE FEDERAL DE MATO GROSSO|1                       |1                    |1                     |DIREITO             |5                             |Centro-Oeste                |51                             |Mato Grosso                  |5103403               |Cuiabá              |1                  |1                     |0421D01                                    |Direito                                  |4                                                 |Negócios, administração e direito               |2010        |2019          |6                        |2015                    |10                             |2019                           |107                         |5                                          |0                                         |0                                          |0                                          |4.672897196261682   |61.6822429906542            |33.64485981308411             |0.0                      |0.0                        |\n",
      "|1                 |UNIVERSIDADE FEDERAL DE MATO GROSSO|1                       |1                    |2                     |CIÊNCIAS ECONÔMICAS |5                             |Centro-Oeste                |51                             |Mato Grosso                  |5103403               |Cuiabá              |1                  |1                     |0311E01                                    |Economia                                 |3                                                 |Ciências sociais, comunicação e informação      |2010        |2010          |5                        |2014                    |8                              |2017                           |113                         |103                                        |0                                         |10                                         |0                                          |91.15044247787611   |0.0                         |8.849557522123893             |0.0                      |8.849557522123893          |\n",
      "|1                 |UNIVERSIDADE FEDERAL DE MATO GROSSO|1                       |1                    |2                     |CIÊNCIAS ECONÔMICAS |5                             |Centro-Oeste                |51                             |Mato Grosso                  |5103403               |Cuiabá              |1                  |1                     |0311E01                                    |Economia                                 |3                                                 |Ciências sociais, comunicação e informação      |2010        |2011          |5                        |2014                    |8                              |2017                           |113                         |100                                        |0                                         |3                                          |0                                          |88.49557522123894   |0.0                         |11.504424778761061            |0.0                      |2.6548672566371683         |\n",
      "+------------------+-----------------------------------+------------------------+---------------------+----------------------+--------------------+------------------------------+----------------------------+-------------------------------+-----------------------------+----------------------+--------------------+-------------------+----------------------+-------------------------------------------+-----------------------------------------+--------------------------------------------------+------------------------------------------------+------------+--------------+-------------------------+------------------------+-------------------------------+-------------------------------+----------------------------+-------------------------------------------+------------------------------------------+-------------------------------------------+-------------------------------------------+--------------------+----------------------------+------------------------------+-------------------------+---------------------------+\n",
      "only showing top 12 rows\n",
      "\n"
     ]
    }
   ],
   "source": [
    "df_indicadores_fluxo_educacao_superior = spark.read.format('parquet').load('s3a://silver/educacao_superior/indicadores_fluxo_educacao_superior')\n",
    "print(df_indicadores_fluxo_educacao_superior.dtypes)\n",
    "print(df_indicadores_fluxo_educacao_superior.count())\n",
    "df_indicadores_fluxo_educacao_superior.show(12, False)"
   ]
  },
  {
   "cell_type": "markdown",
   "id": "b53ae17e-fb2f-4b69-aef3-9e39db73812f",
   "metadata": {},
   "source": [
    "<b>Camada Silver - silver/dado_geografico/estado</b>"
   ]
  },
  {
   "cell_type": "code",
   "execution_count": 9,
   "id": "ca44531d-2927-4909-a1f9-889b496e7aa4",
   "metadata": {},
   "outputs": [
    {
     "name": "stdout",
     "output_type": "stream",
     "text": [
      "+---------+-----------+------------+---------+-----------+------------+\n",
      "|estado_id|estado_nome|estado_sigla|regiao_id|regiao_nome|regiao_sigla|\n",
      "+---------+-----------+------------+---------+-----------+------------+\n",
      "|11       |Rondônia   |RO          |1        |Norte      |N           |\n",
      "|12       |Acre       |AC          |1        |Norte      |N           |\n",
      "|13       |Amazonas   |AM          |1        |Norte      |N           |\n",
      "|14       |Roraima    |RR          |1        |Norte      |N           |\n",
      "|15       |Pará       |PA          |1        |Norte      |N           |\n",
      "+---------+-----------+------------+---------+-----------+------------+\n",
      "only showing top 5 rows\n",
      "\n"
     ]
    }
   ],
   "source": [
    "df_estado = spark.read.format('parquet') \\\n",
    "   .load('s3a://silver/dado_geografico/estado')\n",
    "df_estado.show(5, False)"
   ]
  },
  {
   "cell_type": "markdown",
   "id": "a89a8286-6a50-4f2f-9ccb-13a82009c2c4",
   "metadata": {},
   "source": [
    "<b>Camada Silver - silver/dado_geografico/municipio</b>"
   ]
  },
  {
   "cell_type": "code",
   "execution_count": 10,
   "id": "a2bb8045-4628-4004-a89c-5dc8224819fb",
   "metadata": {},
   "outputs": [
    {
     "name": "stdout",
     "output_type": "stream",
     "text": [
      "+------------+---------------------+--------------+-----------------+-------------------------+---------------------------+----------------------------+-------------------------------+------------------------------+-----------------------------------+--------------------------------------+-------------------------------------+------------------+--------------------+--------------------------------+----------------------------------+-----------------------------------+--------------------------------------+-------------------------------------+------------------------------------------+---------------------------------------------+--------------------------------------------+\n",
      "|municipio_id|municipio_nome       |microregiao_id|microregiao_nome |microregiao_mesoregiao_id|microregiao_mesoregiao_nome|microregiao_mesoregiao_uf_id|microregiao_mesoregiao_uf_sigla|microregiao_mesoregiao_uf_nome|microregiao_mesoregiao_uf_regiao_id|microregiao_mesoregiao_uf_regiao_sigla|microregiao_mesoregiao_uf_regiao_nome|regiao_imediata_id|regiao_imediata_nome|regiao_imediata_intermediaria_id|regiao_imediata_intermediaria_nome|regiao_imediata_intermediaria_uf_id|regiao_imediata_intermediaria_uf_sigla|regiao_imediata_intermediaria_uf_nome|regiao_imediata_intermediaria_uf_regiao_id|regiao_imediata_intermediaria_uf_regiao_sigla|regiao_imediata_intermediaria_uf_regiao_nome|\n",
      "+------------+---------------------+--------------+-----------------+-------------------------+---------------------------+----------------------------+-------------------------------+------------------------------+-----------------------------------+--------------------------------------+-------------------------------------+------------------+--------------------+--------------------------------+----------------------------------+-----------------------------------+--------------------------------------+-------------------------------------+------------------------------------------+---------------------------------------------+--------------------------------------------+\n",
      "|1100015     |Alta Floresta D'Oeste|11006         |Cacoal           |1102                     |Leste Rondoniense          |11                          |RO                             |Rondônia                      |1                                  |N                                     |Norte                                |110005            |Cacoal              |1102                            |Ji-Paraná                         |11                                 |RO                                    |Rondônia                             |1                                         |N                                            |Norte                                       |\n",
      "|1100023     |Ariquemes            |11003         |Ariquemes        |1102                     |Leste Rondoniense          |11                          |RO                             |Rondônia                      |1                                  |N                                     |Norte                                |110002            |Ariquemes           |1101                            |Porto Velho                       |11                                 |RO                                    |Rondônia                             |1                                         |N                                            |Norte                                       |\n",
      "|1100031     |Cabixi               |11008         |Colorado do Oeste|1102                     |Leste Rondoniense          |11                          |RO                             |Rondônia                      |1                                  |N                                     |Norte                                |110006            |Vilhena             |1102                            |Ji-Paraná                         |11                                 |RO                                    |Rondônia                             |1                                         |N                                            |Norte                                       |\n",
      "|1100049     |Cacoal               |11006         |Cacoal           |1102                     |Leste Rondoniense          |11                          |RO                             |Rondônia                      |1                                  |N                                     |Norte                                |110005            |Cacoal              |1102                            |Ji-Paraná                         |11                                 |RO                                    |Rondônia                             |1                                         |N                                            |Norte                                       |\n",
      "|1100056     |Cerejeiras           |11008         |Colorado do Oeste|1102                     |Leste Rondoniense          |11                          |RO                             |Rondônia                      |1                                  |N                                     |Norte                                |110006            |Vilhena             |1102                            |Ji-Paraná                         |11                                 |RO                                    |Rondônia                             |1                                         |N                                            |Norte                                       |\n",
      "+------------+---------------------+--------------+-----------------+-------------------------+---------------------------+----------------------------+-------------------------------+------------------------------+-----------------------------------+--------------------------------------+-------------------------------------+------------------+--------------------+--------------------------------+----------------------------------+-----------------------------------+--------------------------------------+-------------------------------------+------------------------------------------+---------------------------------------------+--------------------------------------------+\n",
      "only showing top 5 rows\n",
      "\n"
     ]
    }
   ],
   "source": [
    "df_municipio = spark.read.format('parquet') \\\n",
    "   .load('s3a://silver/dado_geografico/municipio')\n",
    "df_municipio.show(5, False)"
   ]
  },
  {
   "cell_type": "markdown",
   "id": "ff6ec083-2086-419b-a7a7-baf741c67ef4",
   "metadata": {},
   "source": [
    "<b>Camada Silver - silver/educacao_superior/indicadores_fluxo_educacao_superior</b>"
   ]
  },
  {
   "cell_type": "code",
   "execution_count": 11,
   "id": "64f4af4e-be3e-4fa4-95cb-f3fbfecf2158",
   "metadata": {},
   "outputs": [
    {
     "name": "stdout",
     "output_type": "stream",
     "text": [
      "+------------------+-----------------------------------+------------------------+---------------------+----------------------+--------------------+------------------------------+----------------------------+-------------------------------+-----------------------------+----------------------+--------------------+-------------------+----------------------+-------------------------------------------+-----------------------------------------+--------------------------------------------------+------------------------------------------------+------------+--------------+-------------------------+------------------------+-------------------------------+-------------------------------+----------------------------+-------------------------------------------+------------------------------------------+-------------------------------------------+-------------------------------------------+--------------------+----------------------------+------------------------------+-------------------------+---------------------------+\n",
      "|codigo_instituicao|nome_instituicao                   |categoria_administrativa|organizacao_academica|codigo_curso_graduacao|nome_curso_graduacao|codigo_regiao_geografica_curso|nome_regiao_geografica_curso|codigo_unidade_federativa_curso|nome_unidade_federativa_curso|codigo_municipio_curso|nome_municipio_curso|tipo_grau_academico|tipo_modalidade_ensino|codigo_area_curso_classificacao_cine_brasil|nome_area_curso_classificacao_cine_brasil|codigo_grande_area_curso_classificacao_cine_brasil|nome_grande_area_curso_classificacao_cine_brasil|ano_ingresso|ano_referencia|prazo_integralizacao_anos|ano_integralizacao_curso|prazo_acompanhamento_curso_anos|ano_maximo_acompanhamento_curso|quantidade_ingressante_curso|quantidade_permanencia_curso_ano_referencia|quantidade_concluinte_curso_ano_referencia|quantidade_desistencia_curso_ano_referencia|quantidade_falecimento_curso_ano_referencia|taxa_permanencia_tap|taxa_conclusao_acumulada_tca|taxa_desistencia_acumulada_tda|taxa_conclusso_anual_tcan|taxa_desistencia_anual_tada|\n",
      "+------------------+-----------------------------------+------------------------+---------------------+----------------------+--------------------+------------------------------+----------------------------+-------------------------------+-----------------------------+----------------------+--------------------+-------------------+----------------------+-------------------------------------------+-----------------------------------------+--------------------------------------------------+------------------------------------------------+------------+--------------+-------------------------+------------------------+-------------------------------+-------------------------------+----------------------------+-------------------------------------------+------------------------------------------+-------------------------------------------+-------------------------------------------+--------------------+----------------------------+------------------------------+-------------------------+---------------------------+\n",
      "|1                 |UNIVERSIDADE FEDERAL DE MATO GROSSO|1                       |1                    |1                     |DIREITO             |5                             |Centro-Oeste                |51                             |Mato Grosso                  |5103403               |Cuiabá              |1                  |1                     |0421D01                                    |Direito                                  |4                                                 |Negócios, administração e direito               |2010        |2010          |6                        |2015                    |10                             |2019                           |107                         |98                                         |1                                         |8                                          |0                                          |91.58878504672897   |0.9345794392523364          |7.4766355140186915            |0.9345794392523364       |7.4766355140186915         |\n",
      "|1                 |UNIVERSIDADE FEDERAL DE MATO GROSSO|1                       |1                    |1                     |DIREITO             |5                             |Centro-Oeste                |51                             |Mato Grosso                  |5103403               |Cuiabá              |1                  |1                     |0421D01                                    |Direito                                  |4                                                 |Negócios, administração e direito               |2010        |2011          |6                        |2015                    |10                             |2019                           |107                         |90                                         |0                                         |8                                          |0                                          |84.11214953271028   |0.9345794392523364          |14.953271028037383            |0.0                      |7.4766355140186915         |\n",
      "|1                 |UNIVERSIDADE FEDERAL DE MATO GROSSO|1                       |1                    |1                     |DIREITO             |5                             |Centro-Oeste                |51                             |Mato Grosso                  |5103403               |Cuiabá              |1                  |1                     |0421D01                                    |Direito                                  |4                                                 |Negócios, administração e direito               |2010        |2012          |6                        |2015                    |10                             |2019                           |107                         |87                                         |2                                         |1                                          |0                                          |81.30841121495327   |2.803738317757009           |15.88785046728972             |1.8691588785046729       |0.9345794392523364         |\n",
      "|1                 |UNIVERSIDADE FEDERAL DE MATO GROSSO|1                       |1                    |1                     |DIREITO             |5                             |Centro-Oeste                |51                             |Mato Grosso                  |5103403               |Cuiabá              |1                  |1                     |0421D01                                    |Direito                                  |4                                                 |Negócios, administração e direito               |2010        |2013          |6                        |2015                    |10                             |2019                           |107                         |83                                         |2                                         |2                                          |0                                          |77.57009345794393   |4.672897196261682           |17.757009345794394            |1.8691588785046729       |1.8691588785046729         |\n",
      "|1                 |UNIVERSIDADE FEDERAL DE MATO GROSSO|1                       |1                    |1                     |DIREITO             |5                             |Centro-Oeste                |51                             |Mato Grosso                  |5103403               |Cuiabá              |1                  |1                     |0421D01                                    |Direito                                  |4                                                 |Negócios, administração e direito               |2010        |2014          |6                        |2015                    |10                             |2019                           |107                         |27                                         |54                                        |2                                          |0                                          |25.233644859813083  |55.14018691588785           |19.626168224299064            |50.467289719626166       |1.8691588785046729         |\n",
      "+------------------+-----------------------------------+------------------------+---------------------+----------------------+--------------------+------------------------------+----------------------------+-------------------------------+-----------------------------+----------------------+--------------------+-------------------+----------------------+-------------------------------------------+-----------------------------------------+--------------------------------------------------+------------------------------------------------+------------+--------------+-------------------------+------------------------+-------------------------------+-------------------------------+----------------------------+-------------------------------------------+------------------------------------------+-------------------------------------------+-------------------------------------------+--------------------+----------------------------+------------------------------+-------------------------+---------------------------+\n",
      "only showing top 5 rows\n",
      "\n"
     ]
    }
   ],
   "source": [
    "df_educacao = spark.read.format('parquet') \\\n",
    "   .load('s3a://silver/educacao_superior/indicadores_fluxo_educacao_superior')\n",
    "df_educacao.show(5, False)"
   ]
  },
  {
   "cell_type": "code",
   "execution_count": null,
   "id": "15f108b0-4391-45f1-88bd-903e0df7a3a3",
   "metadata": {},
   "outputs": [],
   "source": []
  }
 ],
 "metadata": {
  "kernelspec": {
   "display_name": "Python 3 (ipykernel)",
   "language": "python",
   "name": "python3"
  },
  "language_info": {
   "codemirror_mode": {
    "name": "ipython",
    "version": 3
   },
   "file_extension": ".py",
   "mimetype": "text/x-python",
   "name": "python",
   "nbconvert_exporter": "python",
   "pygments_lexer": "ipython3",
   "version": "3.10.5"
  }
 },
 "nbformat": 4,
 "nbformat_minor": 5
}
