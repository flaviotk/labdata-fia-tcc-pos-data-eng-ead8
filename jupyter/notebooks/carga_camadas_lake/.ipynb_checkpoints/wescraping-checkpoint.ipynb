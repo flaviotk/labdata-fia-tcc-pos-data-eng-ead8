{
 "cells": [
  {
   "cell_type": "code",
   "execution_count": 1,
   "id": "ffb52a9a-16a0-47e5-bd96-be7af306019c",
   "metadata": {},
   "outputs": [],
   "source": [
    "import pandas as pd\n",
    "import numpy as np\n",
    "import zipfile\n",
    "import requests\n",
    "import os\n",
    "import glob\n",
    "from os import chdir, getcwd, listdir\n",
    "from io import BytesIO\n",
    "\n",
    "from pyspark.sql.types import *\n",
    "import pyspark.sql.functions as fn\n",
    "from pyspark.sql import SparkSession\n",
    "\n",
    "#-------------------------------\n",
    "# bibliotecas webscraping\n",
    "import urllib3\n",
    "from bs4 import BeautifulSoup\n",
    "\n",
    "urllib3.disable_warnings()\n",
    "\n",
    "spark = (SparkSession.builder\n",
    "         .config(\"spark.jars\",\"\"\"/home/jovyan/jars/aws-java-sdk-core-1.11.534.jar,\n",
    "                                 /home/jovyan/jars/aws-java-sdk-dynamodb-1.11.534.jar,\n",
    "                                 /home/jovyan/jars/aws-java-sdk-s3-1.11.534.jar,\n",
    "                                 /home/jovyan/jars/hadoop-aws-3.2.2.jar\"\"\")\n",
    "         .config(\"spark.hadoop.fs.s3a.endpoint\", \"http://minio:9000\")\n",
    "         .config(\"spark.hadoop.fs.s3a.access.key\", \"aulafia\")\n",
    "         .config(\"spark.hadoop.fs.s3a.secret.key\", \"aulafia@123\")\n",
    "         .config(\"spark.hadoop.fs.s3a.path.style.access\", True)\n",
    "         .config(\"spark.hadoop.fs.s3a.impl\", \"org.apache.hadoop.fs.s3a.S3AFileSystem\")\n",
    "         .config(\"spark.hadoop.fs.s3a.aws.credentials.provider\", \"org.apache.hadoop.fs.s3a.SimpleAWSCredentialsProvider\")\n",
    "         .getOrCreate()\n",
    "        )\n",
    "\n",
    "url = 'https://www.gov.br/inep/pt-br/acesso-a-informacao/dados-abertos/indicadores-educacionais/indicadores-de-fluxo-da-educacao-superior/2010-2019'\n",
    "folder = 'indicadores_fluxo_educacao_superior'\n",
    "path = '/tmp/'"
   ]
  },
  {
   "cell_type": "code",
   "execution_count": 2,
   "id": "0e8c1067-bece-46fd-b0c2-fb56c796ba8e",
   "metadata": {},
   "outputs": [
    {
     "name": "stdout",
     "output_type": "stream",
     "text": [
      "============ ============ ============ ============ ============ ============ ============ ============ ============\n",
      "============ Criando diretório para armazenar o conteúdo do INEP ============\n",
      "============ ============ ============ ============ ============ ============ ============ ============ ============\n",
      "============ ============ ============ ============ ============ ============ ============ ============ ============\n",
      "============ Efetuando busca webscraping da URL de download do arquivo ZIP ============\n",
      "============ ============ ============ ============ ============ ============ ============ ============ ============\n",
      "============ ============ ============ ============ ============ ============ ============ ============ ============\n",
      "============ Efetuando download do arquivo Zip ============\n",
      "============ ============ ============ ============ ============ ============ ============ ============ ============\n",
      "============ ============ ============ ============ ============ ============ ============ ============ ============\n",
      "============ Descompactando arquivo Zip no Lake ============\n",
      "============ ============ ============ ============ ============ ============ ============ ============ ============\n",
      "============ ============ ============ ============ ============ ============ ============ ============ ============\n",
      "============ Descompactação efetuada ============\n",
      "============ ============ ============ ============ ============ ============ ============ ============ ============\n",
      "/tmp/indicadores_fluxo_educacao_superior\n",
      "indicadores_trajetoria_educacao_superior_2010_2019.xlsx\n",
      "Dicionário_acompanhamento_trajetória.docx\n",
      "md5_indicadores_trajetoria_educacao_superior_2010_2019.txt\n",
      "indicadores_trajetoria_educacao_superior_2010_2019.ods\n"
     ]
    }
   ],
   "source": [
    "print('============ ============ ============ ============ ============ ============ ============ ============ ============')\n",
    "print('============ Criando diretório para armazenar o conteúdo do INEP ============')\n",
    "print('============ ============ ============ ============ ============ ============ ============ ============ ============')\n",
    "os.makedirs(folder, exist_ok=True)\n",
    "\n",
    "print('============ ============ ============ ============ ============ ============ ============ ============ ============')\n",
    "print('============ Efetuando busca webscraping da URL de download do arquivo ZIP ============')\n",
    "print('============ ============ ============ ============ ============ ============ ============ ============ ============')\n",
    "conexao = urllib3.PoolManager()\n",
    "retorno = conexao.request('GET', url)\n",
    "\n",
    "pagina = BeautifulSoup(retorno.data,\"html.parser\")\n",
    "\n",
    "dado = []\n",
    "for link in pagina.find_all('a',class_ = 'external-link'):\n",
    "    dado.append(link.get('href'))\n",
    "\n",
    "url_download = str(dado[0])\n",
    "\n",
    "print('============ ============ ============ ============ ============ ============ ============ ============ ============')\n",
    "print('============ Efetuando download do arquivo Zip ============')\n",
    "print('============ ============ ============ ============ ============ ============ ============ ============ ============')\n",
    "# Desabilitar temporariamente a verificação SSL\n",
    "response = requests.get(url_download, verify=False)\n",
    "filebytes = BytesIO(response.content)\n",
    "\n",
    "print('============ ============ ============ ============ ============ ============ ============ ============ ============')\n",
    "print('============ Descompactando arquivo Zip no Lake ============')\n",
    "print('============ ============ ============ ============ ============ ============ ============ ============ ============')\n",
    "\n",
    "myzip = zipfile.ZipFile(filebytes)\n",
    "myzip.extractall(path + folder)\n",
    "print('============ ============ ============ ============ ============ ============ ============ ============ ============')\n",
    "print('============ Descompactação efetuada ============')\n",
    "print('============ ============ ============ ============ ============ ============ ============ ============ ============')\n",
    "\n",
    "chdir(path + folder)\n",
    "print(getcwd())\n",
    "for c in listdir():\n",
    "    print(c)"
   ]
  },
  {
   "cell_type": "code",
   "execution_count": 3,
   "id": "e4a133e5-e8ea-438b-a7ba-0d32caa423ab",
   "metadata": {},
   "outputs": [],
   "source": [
    "# arquivo = url_download.split('/')[-1]\n",
    "# print(arquivo)\n",
    "# type(arquivo)"
   ]
  },
  {
   "cell_type": "code",
   "execution_count": 4,
   "id": "e0989693-36b6-4be7-af30-3daf72de9f96",
   "metadata": {},
   "outputs": [],
   "source": [
    "# pip install openpyxl"
   ]
  },
  {
   "cell_type": "code",
   "execution_count": 5,
   "id": "3db57a1a-eda8-441a-8c80-9b99a34a6bdd",
   "metadata": {},
   "outputs": [],
   "source": [
    "# targetPattern = r\"/tmp/indicadores_fluxo_educacao_superior/*.xlsx\"\n",
    "# file = str(glob.glob(targetPattern)).replace(\"['\",\"\").replace(\"']\",\"\")\n",
    "# print(file)"
   ]
  },
  {
   "cell_type": "code",
   "execution_count": 6,
   "id": "01c87eca-dabe-4fa6-a373-2d6a1dbdd6a8",
   "metadata": {},
   "outputs": [
    {
     "name": "stdout",
     "output_type": "stream",
     "text": [
      "============ ============ ============ ============ ============ ============ ============ ============ ============\n",
      "============ Efetuando Busca do nome do Arquivo XLSX ============\n",
      "============ ============ ============ ============ ============ ============ ============ ============ ============\n",
      "Arquivo: /tmp/indicadores_fluxo_educacao_superior/indicadores_trajetoria_educacao_superior_2010_2019.xlsx\n",
      "============ ============ ============ ============ ============ ============ ============ ============ ============\n",
      "============ Carregando Dataframe com os dados do Excel ============\n",
      "============ ============ ============ ============ ============ ============ ============ ============ ============\n"
     ]
    }
   ],
   "source": [
    "print('============ ============ ============ ============ ============ ============ ============ ============ ============')\n",
    "print('============ Efetuando Busca do nome do Arquivo XLSX ============')\n",
    "print('============ ============ ============ ============ ============ ============ ============ ============ ============')\n",
    "\n",
    "targetPattern = r\"{path}{folder}/*.xlsx\".format(path=path, folder=folder)\n",
    "file = str(glob.glob(targetPattern)).replace(\"['\",\"\").replace(\"']\",\"\")\n",
    "print(\"Arquivo:\", file)\n",
    "\n",
    "print('============ ============ ============ ============ ============ ============ ============ ============ ============')\n",
    "print('============ Carregando Dataframe com os dados do Excel ============')\n",
    "print('============ ============ ============ ============ ============ ============ ============ ============ ============')\n",
    "\n",
    "df = pd.read_excel(file, usecols= 'A:AE', skiprows= lambda x: x < 8 or x > 259238, sheet_name='INDICADORES_TRAJETORIA' )"
   ]
  },
  {
   "cell_type": "code",
   "execution_count": 7,
   "id": "fb454e04-5482-42cf-8659-98672d0aa027",
   "metadata": {},
   "outputs": [],
   "source": [
    "# df.head()"
   ]
  },
  {
   "cell_type": "code",
   "execution_count": 8,
   "id": "3de2c4dc-1a23-436b-a288-e3da6d995189",
   "metadata": {},
   "outputs": [
    {
     "name": "stdout",
     "output_type": "stream",
     "text": [
      "============ ============ ============ ============ ============ ============ ============ ============ ============\n",
      "============ Convertendo Dataframe para SPARK ============\n",
      "============ ============ ============ ============ ============ ============ ============ ============ ============\n"
     ]
    }
   ],
   "source": [
    "print('============ ============ ============ ============ ============ ============ ============ ============ ============')\n",
    "print('============ Convertendo Dataframe para SPARK ============')\n",
    "print('============ ============ ============ ============ ============ ============ ============ ============ ============')\n",
    "\n",
    "sparkDF=spark.createDataFrame(df) \n",
    "# sparkDF.printSchema()\n",
    "# sparkDF.show()"
   ]
  },
  {
   "cell_type": "code",
   "execution_count": 9,
   "id": "2dff56cb-9b28-48da-9c7e-36394d71b8d0",
   "metadata": {},
   "outputs": [
    {
     "name": "stdout",
     "output_type": "stream",
     "text": [
      "============ ============ ============ ============ ============ ============ ============ ============ ============\n",
      "============ Gravando Dados na Camada Raw  ============\n",
      "============ ============ ============ ============ ============ ============ ============ ============ ============\n"
     ]
    }
   ],
   "source": [
    "print('============ ============ ============ ============ ============ ============ ============ ============ ============')\n",
    "print('============ Gravando Dados na Camada BRONZE  ============')\n",
    "print('============ ============ ============ ============ ============ ============ ============ ============ ============')\n",
    "\n",
    "(sparkDF\n",
    " .write\n",
    " .format('parquet')\n",
    " .mode('overwrite')\n",
    " .save('s3a://landing/indicadores_fluxo_educacao_superior')\n",
    " )"
   ]
  },
  {
   "cell_type": "code",
   "execution_count": 10,
   "id": "84a25279-b831-4cb7-a294-c8db9a47d651",
   "metadata": {},
   "outputs": [],
   "source": [
    "# sparkDF.printSchema()"
   ]
  },
  {
   "cell_type": "code",
   "execution_count": 11,
   "id": "a8a4adcb-6851-4286-ad5f-b1e5b21f27b3",
   "metadata": {},
   "outputs": [
    {
     "name": "stdout",
     "output_type": "stream",
     "text": [
      "============ ============ ============ ============ ============ ============ ============ ============ ============\n",
      "============ Carregando Dataframe a partir do Arquivo Parquet ============\n",
      "============ ============ ============ ============ ============ ============ ============ ============ ============\n"
     ]
    }
   ],
   "source": [
    "print('============ ============ ============ ============ ============ ============ ============ ============ ============')\n",
    "print('============ Carregando Dataframe a partir do Arquivo Parquet ============')\n",
    "print('============ ============ ============ ============ ============ ============ ============ ============ ============')\n",
    "\n",
    "dfIndicador = (spark.read.format('parquet')\n",
    "             .load('s3a://landing/indicadores_fluxo_educacao_superior'))"
   ]
  },
  {
   "cell_type": "code",
   "execution_count": 12,
   "id": "3c2bd174-603c-4092-9efd-7285b282e515",
   "metadata": {},
   "outputs": [
    {
     "name": "stdout",
     "output_type": "stream",
     "text": [
      "============ ============ ============ ============ ============ ============ ============ ============ ============\n",
      "============ Evidência de Gravação ============\n",
      "============ ============ ============ ============ ============ ============ ============ ============ ============\n",
      "+------+-----------------------------------+---------------------------+------------------------+--------+--------+---------+-----+------------+-----------------+--------------------+--------------+--------------+------------------+---------------------------------+---------------+-----------------+-----------------------+---------------------+-----------------------+----------------------------+--------------+--------------+-------------+--------------+-----------+------------------+------------------+------------------+------------------+------------------+\n",
      "|CO_IES|NO_IES                             |TP_CATEGORIA_ADMINISTRATIVA|TP_ORGANIZACAO_ACADEMICA|CO_CURSO|NO_CURSO|CO_REGIAO|CO_UF|CO_MUNICIPIO|TP_GRAU_ACADEMICO|TP_MODALIDADE_ENSINO|CO_CINE_ROTULO|NO_CINE_ROTULO|CO_CINE_AREA_GERAL|NO_CINE_AREA_GERAL               |NU_ANO_INGRESSO|NU_ANO_REFERENCIA|NU_PRAZO_INTEGRALIZACAO|NU_ANO_INTEGRALIZACAO|NU_PRAZO_ACOMPANHAMENTO|NU_ANO_MAXIMO_ACOMPANHAMENTO|QT_INGRESSANTE|QT_PERMANENCIA|QT_CONCLUINTE|QT_DESISTENCIA|QT_FALECIDO|TAP               |TCA               |TDA               |TCAN              |TADA              |\n",
      "+------+-----------------------------------+---------------------------+------------------------+--------+--------+---------+-----+------------+-----------------+--------------------+--------------+--------------+------------------+---------------------------------+---------------+-----------------+-----------------------+---------------------+-----------------------+----------------------------+--------------+--------------+-------------+--------------+-----------+------------------+------------------+------------------+------------------+------------------+\n",
      "|1     |UNIVERSIDADE FEDERAL DE MATO GROSSO|1                          |1                       |1       |DIREITO |5.0      |51.0 |5103403.0   |1                |1                   |0421D01       |Direito       |4                 |Negócios, administração e direito|2010           |2010             |6                      |2015                 |10                     |2019                        |107           |98            |1            |8             |0          |91.58878504672897 |0.9345794392523364|7.4766355140186915|0.9345794392523364|7.4766355140186915|\n",
      "|1     |UNIVERSIDADE FEDERAL DE MATO GROSSO|1                          |1                       |1       |DIREITO |5.0      |51.0 |5103403.0   |1                |1                   |0421D01       |Direito       |4                 |Negócios, administração e direito|2010           |2011             |6                      |2015                 |10                     |2019                        |107           |90            |0            |8             |0          |84.11214953271028 |0.9345794392523364|14.953271028037383|0.0               |7.4766355140186915|\n",
      "|1     |UNIVERSIDADE FEDERAL DE MATO GROSSO|1                          |1                       |1       |DIREITO |5.0      |51.0 |5103403.0   |1                |1                   |0421D01       |Direito       |4                 |Negócios, administração e direito|2010           |2012             |6                      |2015                 |10                     |2019                        |107           |87            |2            |1             |0          |81.30841121495327 |2.803738317757009 |15.88785046728972 |1.8691588785046729|0.9345794392523364|\n",
      "|1     |UNIVERSIDADE FEDERAL DE MATO GROSSO|1                          |1                       |1       |DIREITO |5.0      |51.0 |5103403.0   |1                |1                   |0421D01       |Direito       |4                 |Negócios, administração e direito|2010           |2013             |6                      |2015                 |10                     |2019                        |107           |83            |2            |2             |0          |77.57009345794393 |4.672897196261682 |17.757009345794394|1.8691588785046729|1.8691588785046729|\n",
      "|1     |UNIVERSIDADE FEDERAL DE MATO GROSSO|1                          |1                       |1       |DIREITO |5.0      |51.0 |5103403.0   |1                |1                   |0421D01       |Direito       |4                 |Negócios, administração e direito|2010           |2014             |6                      |2015                 |10                     |2019                        |107           |27            |54           |2             |0          |25.233644859813083|55.14018691588785 |19.626168224299064|50.467289719626166|1.8691588785046729|\n",
      "+------+-----------------------------------+---------------------------+------------------------+--------+--------+---------+-----+------------+-----------------+--------------------+--------------+--------------+------------------+---------------------------------+---------------+-----------------+-----------------------+---------------------+-----------------------+----------------------------+--------------+--------------+-------------+--------------+-----------+------------------+------------------+------------------+------------------+------------------+\n",
      "only showing top 5 rows\n",
      "\n"
     ]
    }
   ],
   "source": [
    "print('============ ============ ============ ============ ============ ============ ============ ============ ============')\n",
    "print('============ Evidência de Gravação ============')\n",
    "print('============ ============ ============ ============ ============ ============ ============ ============ ============')\n",
    "\n",
    "dfIndicador.show(5, False)"
   ]
  },
  {
   "cell_type": "code",
   "execution_count": 15,
   "id": "7a8467de-f3e3-40d9-9da2-c82a8d24ae5c",
   "metadata": {},
   "outputs": [
    {
     "name": "stdout",
     "output_type": "stream",
     "text": [
      "Total de registros Carregados no Arquivo Parquet: 259230\n"
     ]
    }
   ],
   "source": [
    "print(\"Total de registros Carregados no Arquivo Parquet:\", dfIndicador.count())"
   ]
  },
  {
   "cell_type": "code",
   "execution_count": null,
   "id": "70dad6ea-0952-49b0-8671-68b6c4ae293a",
   "metadata": {},
   "outputs": [],
   "source": []
  }
 ],
 "metadata": {
  "kernelspec": {
   "display_name": "Python 3 (ipykernel)",
   "language": "python",
   "name": "python3"
  },
  "language_info": {
   "codemirror_mode": {
    "name": "ipython",
    "version": 3
   },
   "file_extension": ".py",
   "mimetype": "text/x-python",
   "name": "python",
   "nbconvert_exporter": "python",
   "pygments_lexer": "ipython3",
   "version": "3.10.5"
  }
 },
 "nbformat": 4,
 "nbformat_minor": 5
}
