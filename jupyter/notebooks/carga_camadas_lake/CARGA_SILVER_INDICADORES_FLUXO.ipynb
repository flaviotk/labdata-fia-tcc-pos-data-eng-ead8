{
 "cells": [
  {
   "cell_type": "code",
   "execution_count": 1,
   "id": "c3755299-b6a0-4b00-b53d-333374e6396f",
   "metadata": {},
   "outputs": [
    {
     "data": {
      "text/html": [
       "<style>pre { white-space: pre !important; }</style>"
      ],
      "text/plain": [
       "<IPython.core.display.HTML object>"
      ]
     },
     "metadata": {},
     "output_type": "display_data"
    }
   ],
   "source": [
    "from pyspark.sql.types import *\n",
    "from pyspark.sql.window import Window\n",
    "import pyspark.sql.functions as fn\n",
    "from pyspark.sql import SparkSession\n",
    "from IPython.core.display import HTML\n",
    "display(HTML(\"<style>pre { white-space: pre !important; }</style>\"))"
   ]
  },
  {
   "cell_type": "code",
   "execution_count": 2,
   "id": "c5ba4c08-3899-4731-b516-5ee714e1fc34",
   "metadata": {},
   "outputs": [],
   "source": [
    "spark = (SparkSession.builder\n",
    "         .config(\"spark.jars\",\"\"\"/home/jovyan/jars/aws-java-sdk-core-1.11.534.jar,\n",
    "                                 /home/jovyan/jars/aws-java-sdk-dynamodb-1.11.534.jar,\n",
    "                                 /home/jovyan/jars/aws-java-sdk-s3-1.11.534.jar,\n",
    "                                 /home/jovyan/jars/hadoop-aws-3.2.2.jar\"\"\")\n",
    "         .config(\"spark.hadoop.fs.s3a.endpoint\", \"http://minio:9000\")\n",
    "         .config(\"spark.hadoop.fs.s3a.access.key\", \"aulafia\")\n",
    "         .config(\"spark.hadoop.fs.s3a.secret.key\", \"aulafia@123\")\n",
    "         .config(\"spark.hadoop.fs.s3a.path.style.access\", True)\n",
    "         .config(\"spark.hadoop.fs.s3a.impl\", \"org.apache.hadoop.fs.s3a.S3AFileSystem\")\n",
    "         .config(\"spark.hadoop.fs.s3a.aws.credentials.provider\", \"org.apache.hadoop.fs.s3a.SimpleAWSCredentialsProvider\")\n",
    "         .getOrCreate()\n",
    "        )"
   ]
  },
  {
   "cell_type": "code",
   "execution_count": 3,
   "id": "ec82d376-0572-463a-a7ef-cf119e4cf940",
   "metadata": {},
   "outputs": [
    {
     "name": "stdout",
     "output_type": "stream",
     "text": [
      "root\n",
      " |-- estado_id: integer (nullable = true)\n",
      " |-- estado_nome: string (nullable = true)\n",
      " |-- estado_sigla: string (nullable = true)\n",
      " |-- regiao_id: integer (nullable = true)\n",
      " |-- regiao_nome: string (nullable = true)\n",
      " |-- regiao_sigla: string (nullable = true)\n",
      "\n",
      "==========> df_estado.printSchema():  None\n",
      "==========> df_estado.count():  27\n",
      "+---------+-----------+------------+---------+-----------+------------+\n",
      "|estado_id|estado_nome|estado_sigla|regiao_id|regiao_nome|regiao_sigla|\n",
      "+---------+-----------+------------+---------+-----------+------------+\n",
      "|11       |Rondônia   |RO          |1        |Norte      |N           |\n",
      "|12       |Acre       |AC          |1        |Norte      |N           |\n",
      "|13       |Amazonas   |AM          |1        |Norte      |N           |\n",
      "|14       |Roraima    |RR          |1        |Norte      |N           |\n",
      "|15       |Pará       |PA          |1        |Norte      |N           |\n",
      "+---------+-----------+------------+---------+-----------+------------+\n",
      "only showing top 5 rows\n",
      "\n",
      "==========> df_estado.show(5, False):  None\n"
     ]
    }
   ],
   "source": [
    "df_estado = spark.read.format('parquet').load('s3a://silver/dado_geografico/estado')\n",
    "print('==========> df_estado.printSchema(): ', df_estado.printSchema())\n",
    "print('==========> df_estado.count(): ', df_estado.count())\n",
    "print('==========> df_estado.show(5, False): ', df_estado.show(5, False))"
   ]
  },
  {
   "cell_type": "code",
   "execution_count": 4,
   "id": "5cbde827-eb0f-473d-b263-498b46dbaef0",
   "metadata": {},
   "outputs": [
    {
     "name": "stdout",
     "output_type": "stream",
     "text": [
      "root\n",
      " |-- municipio_id: long (nullable = true)\n",
      " |-- municipio_nome: string (nullable = true)\n",
      " |-- microregiao_id: long (nullable = true)\n",
      " |-- microregiao_nome: string (nullable = true)\n",
      " |-- microregiao_mesoregiao_id: long (nullable = true)\n",
      " |-- microregiao_mesoregiao_nome: string (nullable = true)\n",
      " |-- microregiao_mesoregiao_uf_id: integer (nullable = true)\n",
      " |-- microregiao_mesoregiao_uf_sigla: string (nullable = true)\n",
      " |-- microregiao_mesoregiao_uf_nome: string (nullable = true)\n",
      " |-- microregiao_mesoregiao_uf_regiao_id: integer (nullable = true)\n",
      " |-- microregiao_mesoregiao_uf_regiao_sigla: string (nullable = true)\n",
      " |-- microregiao_mesoregiao_uf_regiao_nome: string (nullable = true)\n",
      " |-- regiao_imediata_id: integer (nullable = true)\n",
      " |-- regiao_imediata_nome: string (nullable = true)\n",
      " |-- regiao_imediata_intermediaria_id: integer (nullable = true)\n",
      " |-- regiao_imediata_intermediaria_nome: string (nullable = true)\n",
      " |-- regiao_imediata_intermediaria_uf_id: integer (nullable = true)\n",
      " |-- regiao_imediata_intermediaria_uf_sigla: string (nullable = true)\n",
      " |-- regiao_imediata_intermediaria_uf_nome: string (nullable = true)\n",
      " |-- regiao_imediata_intermediaria_uf_regiao_id: integer (nullable = true)\n",
      " |-- regiao_imediata_intermediaria_uf_regiao_sigla: string (nullable = true)\n",
      " |-- regiao_imediata_intermediaria_uf_regiao_nome: string (nullable = true)\n",
      "\n",
      "==========> df_municipio.printSchema():  None\n",
      "==========> df_municipio.count():  5570\n",
      "+------------+---------------------+--------------+-----------------+-------------------------+---------------------------+----------------------------+-------------------------------+------------------------------+-----------------------------------+--------------------------------------+-------------------------------------+------------------+--------------------+--------------------------------+----------------------------------+-----------------------------------+--------------------------------------+-------------------------------------+------------------------------------------+---------------------------------------------+--------------------------------------------+\n",
      "|municipio_id|municipio_nome       |microregiao_id|microregiao_nome |microregiao_mesoregiao_id|microregiao_mesoregiao_nome|microregiao_mesoregiao_uf_id|microregiao_mesoregiao_uf_sigla|microregiao_mesoregiao_uf_nome|microregiao_mesoregiao_uf_regiao_id|microregiao_mesoregiao_uf_regiao_sigla|microregiao_mesoregiao_uf_regiao_nome|regiao_imediata_id|regiao_imediata_nome|regiao_imediata_intermediaria_id|regiao_imediata_intermediaria_nome|regiao_imediata_intermediaria_uf_id|regiao_imediata_intermediaria_uf_sigla|regiao_imediata_intermediaria_uf_nome|regiao_imediata_intermediaria_uf_regiao_id|regiao_imediata_intermediaria_uf_regiao_sigla|regiao_imediata_intermediaria_uf_regiao_nome|\n",
      "+------------+---------------------+--------------+-----------------+-------------------------+---------------------------+----------------------------+-------------------------------+------------------------------+-----------------------------------+--------------------------------------+-------------------------------------+------------------+--------------------+--------------------------------+----------------------------------+-----------------------------------+--------------------------------------+-------------------------------------+------------------------------------------+---------------------------------------------+--------------------------------------------+\n",
      "|1100015     |Alta Floresta D'Oeste|11006         |Cacoal           |1102                     |Leste Rondoniense          |11                          |RO                             |Rondônia                      |1                                  |N                                     |Norte                                |110005            |Cacoal              |1102                            |Ji-Paraná                         |11                                 |RO                                    |Rondônia                             |1                                         |N                                            |Norte                                       |\n",
      "|1100023     |Ariquemes            |11003         |Ariquemes        |1102                     |Leste Rondoniense          |11                          |RO                             |Rondônia                      |1                                  |N                                     |Norte                                |110002            |Ariquemes           |1101                            |Porto Velho                       |11                                 |RO                                    |Rondônia                             |1                                         |N                                            |Norte                                       |\n",
      "|1100031     |Cabixi               |11008         |Colorado do Oeste|1102                     |Leste Rondoniense          |11                          |RO                             |Rondônia                      |1                                  |N                                     |Norte                                |110006            |Vilhena             |1102                            |Ji-Paraná                         |11                                 |RO                                    |Rondônia                             |1                                         |N                                            |Norte                                       |\n",
      "|1100049     |Cacoal               |11006         |Cacoal           |1102                     |Leste Rondoniense          |11                          |RO                             |Rondônia                      |1                                  |N                                     |Norte                                |110005            |Cacoal              |1102                            |Ji-Paraná                         |11                                 |RO                                    |Rondônia                             |1                                         |N                                            |Norte                                       |\n",
      "|1100056     |Cerejeiras           |11008         |Colorado do Oeste|1102                     |Leste Rondoniense          |11                          |RO                             |Rondônia                      |1                                  |N                                     |Norte                                |110006            |Vilhena             |1102                            |Ji-Paraná                         |11                                 |RO                                    |Rondônia                             |1                                         |N                                            |Norte                                       |\n",
      "+------------+---------------------+--------------+-----------------+-------------------------+---------------------------+----------------------------+-------------------------------+------------------------------+-----------------------------------+--------------------------------------+-------------------------------------+------------------+--------------------+--------------------------------+----------------------------------+-----------------------------------+--------------------------------------+-------------------------------------+------------------------------------------+---------------------------------------------+--------------------------------------------+\n",
      "only showing top 5 rows\n",
      "\n",
      "==========> df_municipio.show(5, False):  None\n"
     ]
    }
   ],
   "source": [
    "df_municipio = spark.read.format('parquet').load('s3a://silver/dado_geografico/municipio')\n",
    "print('==========> df_municipio.printSchema(): ', df_municipio.printSchema())\n",
    "print('==========> df_municipio.count(): ', df_municipio.count())\n",
    "print('==========> df_municipio.show(5, False): ', df_municipio.show(5, False))"
   ]
  },
  {
   "cell_type": "code",
   "execution_count": 5,
   "id": "d0f8a306-9e3d-495f-9745-067c6da0abcf",
   "metadata": {},
   "outputs": [
    {
     "name": "stdout",
     "output_type": "stream",
     "text": [
      "root\n",
      " |-- CO_IES: long (nullable = true)\n",
      " |-- NO_IES: string (nullable = true)\n",
      " |-- TP_CATEGORIA_ADMINISTRATIVA: integer (nullable = true)\n",
      " |-- TP_ORGANIZACAO_ACADEMICA: integer (nullable = true)\n",
      " |-- CO_CURSO: long (nullable = true)\n",
      " |-- NO_CURSO: string (nullable = true)\n",
      " |-- CO_REGIAO: integer (nullable = true)\n",
      " |-- CO_UF: integer (nullable = true)\n",
      " |-- CO_MUNICIPIO: long (nullable = true)\n",
      " |-- TP_GRAU_ACADEMICO: integer (nullable = true)\n",
      " |-- TP_MODALIDADE_ENSINO: integer (nullable = true)\n",
      " |-- CO_CINE_ROTULO: string (nullable = true)\n",
      " |-- NO_CINE_ROTULO: string (nullable = true)\n",
      " |-- CO_CINE_AREA_GERAL: integer (nullable = true)\n",
      " |-- NO_CINE_AREA_GERAL: string (nullable = true)\n",
      " |-- NU_ANO_INGRESSO: integer (nullable = true)\n",
      " |-- NU_ANO_REFERENCIA: integer (nullable = true)\n",
      " |-- NU_PRAZO_INTEGRALIZACAO: integer (nullable = true)\n",
      " |-- NU_ANO_INTEGRALIZACAO: integer (nullable = true)\n",
      " |-- NU_PRAZO_ACOMPANHAMENTO: integer (nullable = true)\n",
      " |-- NU_ANO_MAXIMO_ACOMPANHAMENTO: integer (nullable = true)\n",
      " |-- QT_INGRESSANTE: long (nullable = true)\n",
      " |-- QT_PERMANENCIA: long (nullable = true)\n",
      " |-- QT_CONCLUINTE: long (nullable = true)\n",
      " |-- QT_DESISTENCIA: long (nullable = true)\n",
      " |-- QT_FALECIDO: long (nullable = true)\n",
      " |-- TAP: double (nullable = true)\n",
      " |-- TCA: double (nullable = true)\n",
      " |-- TDA: double (nullable = true)\n",
      " |-- TCAN: double (nullable = true)\n",
      " |-- TADA: double (nullable = true)\n",
      "\n",
      "==========> df_fluxo_educ_superior.printSchema():  None\n",
      "==========> df_fluxo_educ_superior.count():  259230\n",
      "+------+-----------------------------------+---------------------------+------------------------+--------+--------+---------+-----+------------+-----------------+--------------------+--------------+--------------+------------------+---------------------------------+---------------+-----------------+-----------------------+---------------------+-----------------------+----------------------------+--------------+--------------+-------------+--------------+-----------+------------------+------------------+------------------+------------------+------------------+\n",
      "|CO_IES|NO_IES                             |TP_CATEGORIA_ADMINISTRATIVA|TP_ORGANIZACAO_ACADEMICA|CO_CURSO|NO_CURSO|CO_REGIAO|CO_UF|CO_MUNICIPIO|TP_GRAU_ACADEMICO|TP_MODALIDADE_ENSINO|CO_CINE_ROTULO|NO_CINE_ROTULO|CO_CINE_AREA_GERAL|NO_CINE_AREA_GERAL               |NU_ANO_INGRESSO|NU_ANO_REFERENCIA|NU_PRAZO_INTEGRALIZACAO|NU_ANO_INTEGRALIZACAO|NU_PRAZO_ACOMPANHAMENTO|NU_ANO_MAXIMO_ACOMPANHAMENTO|QT_INGRESSANTE|QT_PERMANENCIA|QT_CONCLUINTE|QT_DESISTENCIA|QT_FALECIDO|TAP               |TCA               |TDA               |TCAN              |TADA              |\n",
      "+------+-----------------------------------+---------------------------+------------------------+--------+--------+---------+-----+------------+-----------------+--------------------+--------------+--------------+------------------+---------------------------------+---------------+-----------------+-----------------------+---------------------+-----------------------+----------------------------+--------------+--------------+-------------+--------------+-----------+------------------+------------------+------------------+------------------+------------------+\n",
      "|1     |UNIVERSIDADE FEDERAL DE MATO GROSSO|1                          |1                       |1       |DIREITO |5        |51   |5103403     |1                |1                   |0421D01       |Direito       |4                 |Negócios, administração e direito|2010           |2010             |6                      |2015                 |10                     |2019                        |107           |98            |1            |8             |0          |91.58878504672897 |0.9345794392523364|7.4766355140186915|0.9345794392523364|7.4766355140186915|\n",
      "|1     |UNIVERSIDADE FEDERAL DE MATO GROSSO|1                          |1                       |1       |DIREITO |5        |51   |5103403     |1                |1                   |0421D01       |Direito       |4                 |Negócios, administração e direito|2010           |2011             |6                      |2015                 |10                     |2019                        |107           |90            |0            |8             |0          |84.11214953271028 |0.9345794392523364|14.953271028037383|0.0               |7.4766355140186915|\n",
      "|1     |UNIVERSIDADE FEDERAL DE MATO GROSSO|1                          |1                       |1       |DIREITO |5        |51   |5103403     |1                |1                   |0421D01       |Direito       |4                 |Negócios, administração e direito|2010           |2012             |6                      |2015                 |10                     |2019                        |107           |87            |2            |1             |0          |81.30841121495327 |2.803738317757009 |15.88785046728972 |1.8691588785046729|0.9345794392523364|\n",
      "|1     |UNIVERSIDADE FEDERAL DE MATO GROSSO|1                          |1                       |1       |DIREITO |5        |51   |5103403     |1                |1                   |0421D01       |Direito       |4                 |Negócios, administração e direito|2010           |2013             |6                      |2015                 |10                     |2019                        |107           |83            |2            |2             |0          |77.57009345794393 |4.672897196261682 |17.757009345794394|1.8691588785046729|1.8691588785046729|\n",
      "|1     |UNIVERSIDADE FEDERAL DE MATO GROSSO|1                          |1                       |1       |DIREITO |5        |51   |5103403     |1                |1                   |0421D01       |Direito       |4                 |Negócios, administração e direito|2010           |2014             |6                      |2015                 |10                     |2019                        |107           |27            |54           |2             |0          |25.233644859813083|55.14018691588785 |19.626168224299064|50.467289719626166|1.8691588785046729|\n",
      "+------+-----------------------------------+---------------------------+------------------------+--------+--------+---------+-----+------------+-----------------+--------------------+--------------+--------------+------------------+---------------------------------+---------------+-----------------+-----------------------+---------------------+-----------------------+----------------------------+--------------+--------------+-------------+--------------+-----------+------------------+------------------+------------------+------------------+------------------+\n",
      "only showing top 5 rows\n",
      "\n",
      "==========> df_fluxo_educ_superior.show(5, False):  None\n"
     ]
    }
   ],
   "source": [
    "df_fluxo_educ_superior = spark.read.format('parquet').load('s3a://bronze/inep/educacao_superior/indicadores_fluxo_educacao_superior')\n",
    "print('==========> df_fluxo_educ_superior.printSchema(): ', df_fluxo_educ_superior.printSchema())\n",
    "print('==========> df_fluxo_educ_superior.count(): ', df_fluxo_educ_superior.count())\n",
    "print('==========> df_fluxo_educ_superior.show(5, False): ', df_fluxo_educ_superior.show(5, False))"
   ]
  },
  {
   "cell_type": "code",
   "execution_count": 6,
   "id": "1aef7fc8-808f-47da-9d1d-0a21af0d408a",
   "metadata": {},
   "outputs": [
    {
     "name": "stdout",
     "output_type": "stream",
     "text": [
      "root\n",
      " |-- codigo_instituicao: long (nullable = true)\n",
      " |-- nome_instituicao: string (nullable = true)\n",
      " |-- categoria_administrativa: integer (nullable = true)\n",
      " |-- organizacao_academica: integer (nullable = true)\n",
      " |-- codigo_curso_graduacao: long (nullable = true)\n",
      " |-- nome_curso_graduacao: string (nullable = true)\n",
      " |-- codigo_regiao_geografica_curso: integer (nullable = true)\n",
      " |-- nome_regiao_geografica_curso: string (nullable = true)\n",
      " |-- codigo_unidade_federativa_curso: integer (nullable = true)\n",
      " |-- nome_unidade_federativa_curso: string (nullable = true)\n",
      " |-- codigo_municipio_curso: long (nullable = true)\n",
      " |-- nome_municipio_curso: string (nullable = true)\n",
      " |-- tipo_grau_academico: integer (nullable = true)\n",
      " |-- tipo_modalidade_ensino: integer (nullable = true)\n",
      " |-- codigo_area_curso_classificacao_cine_brasil: string (nullable = true)\n",
      " |-- nome_area_curso_classificacao_cine_brasil: string (nullable = true)\n",
      " |-- codigo_grande_area_curso_classificacao_cine_brasil: integer (nullable = true)\n",
      " |-- nome_grande_area_curso_classificacao_cine_brasil: string (nullable = true)\n",
      " |-- ano_ingresso: integer (nullable = true)\n",
      " |-- ano_referencia: integer (nullable = true)\n",
      " |-- prazo_integralizacao_anos: integer (nullable = true)\n",
      " |-- ano_integralizacao_curso: integer (nullable = true)\n",
      " |-- prazo_acompanhamento_curso_anos: integer (nullable = true)\n",
      " |-- ano_maximo_acompanhamento_curso: integer (nullable = true)\n",
      " |-- quantidade_ingressante_curso: long (nullable = true)\n",
      " |-- quantidade_permanencia_curso_ano_referencia: long (nullable = true)\n",
      " |-- quantidade_concluinte_curso_ano_referencia: long (nullable = true)\n",
      " |-- quantidade_desistencia_curso_ano_referencia: long (nullable = true)\n",
      " |-- quantidade_falecimento_curso_ano_referencia: long (nullable = true)\n",
      " |-- taxa_permanencia_tap: double (nullable = true)\n",
      " |-- taxa_conclusao_acumulada_tca: double (nullable = true)\n",
      " |-- taxa_desistencia_acumulada_tda: double (nullable = true)\n",
      " |-- taxa_conclusso_anual_tcan: double (nullable = true)\n",
      " |-- taxa_desistencia_anual_tada: double (nullable = true)\n",
      "\n",
      "==========> df_fluxo_educ_superior_estmun.printSchema():  None\n",
      "==========> df_fluxo_educ_superior_estmun.count():  259230\n",
      "+------------------+-----------------------------------+------------------------+---------------------+----------------------+--------------------+------------------------------+----------------------------+-------------------------------+-----------------------------+----------------------+--------------------+-------------------+----------------------+-------------------------------------------+-----------------------------------------+--------------------------------------------------+------------------------------------------------+------------+--------------+-------------------------+------------------------+-------------------------------+-------------------------------+----------------------------+-------------------------------------------+------------------------------------------+-------------------------------------------+-------------------------------------------+--------------------+----------------------------+------------------------------+-------------------------+---------------------------+\n",
      "|codigo_instituicao|nome_instituicao                   |categoria_administrativa|organizacao_academica|codigo_curso_graduacao|nome_curso_graduacao|codigo_regiao_geografica_curso|nome_regiao_geografica_curso|codigo_unidade_federativa_curso|nome_unidade_federativa_curso|codigo_municipio_curso|nome_municipio_curso|tipo_grau_academico|tipo_modalidade_ensino|codigo_area_curso_classificacao_cine_brasil|nome_area_curso_classificacao_cine_brasil|codigo_grande_area_curso_classificacao_cine_brasil|nome_grande_area_curso_classificacao_cine_brasil|ano_ingresso|ano_referencia|prazo_integralizacao_anos|ano_integralizacao_curso|prazo_acompanhamento_curso_anos|ano_maximo_acompanhamento_curso|quantidade_ingressante_curso|quantidade_permanencia_curso_ano_referencia|quantidade_concluinte_curso_ano_referencia|quantidade_desistencia_curso_ano_referencia|quantidade_falecimento_curso_ano_referencia|taxa_permanencia_tap|taxa_conclusao_acumulada_tca|taxa_desistencia_acumulada_tda|taxa_conclusso_anual_tcan|taxa_desistencia_anual_tada|\n",
      "+------------------+-----------------------------------+------------------------+---------------------+----------------------+--------------------+------------------------------+----------------------------+-------------------------------+-----------------------------+----------------------+--------------------+-------------------+----------------------+-------------------------------------------+-----------------------------------------+--------------------------------------------------+------------------------------------------------+------------+--------------+-------------------------+------------------------+-------------------------------+-------------------------------+----------------------------+-------------------------------------------+------------------------------------------+-------------------------------------------+-------------------------------------------+--------------------+----------------------------+------------------------------+-------------------------+---------------------------+\n",
      "|1                 |UNIVERSIDADE FEDERAL DE MATO GROSSO|1                       |1                    |1                     |DIREITO             |5                             |Centro-Oeste                |51                             |Mato Grosso                  |5103403               |Cuiabá              |1                  |1                     |0421D01                                    |Direito                                  |4                                                 |Negócios, administração e direito               |2010        |2010          |6                        |2015                    |10                             |2019                           |107                         |98                                         |1                                         |8                                          |0                                          |91.58878504672897   |0.9345794392523364          |7.4766355140186915            |0.9345794392523364       |7.4766355140186915         |\n",
      "|1                 |UNIVERSIDADE FEDERAL DE MATO GROSSO|1                       |1                    |1                     |DIREITO             |5                             |Centro-Oeste                |51                             |Mato Grosso                  |5103403               |Cuiabá              |1                  |1                     |0421D01                                    |Direito                                  |4                                                 |Negócios, administração e direito               |2010        |2011          |6                        |2015                    |10                             |2019                           |107                         |90                                         |0                                         |8                                          |0                                          |84.11214953271028   |0.9345794392523364          |14.953271028037383            |0.0                      |7.4766355140186915         |\n",
      "|1                 |UNIVERSIDADE FEDERAL DE MATO GROSSO|1                       |1                    |1                     |DIREITO             |5                             |Centro-Oeste                |51                             |Mato Grosso                  |5103403               |Cuiabá              |1                  |1                     |0421D01                                    |Direito                                  |4                                                 |Negócios, administração e direito               |2010        |2012          |6                        |2015                    |10                             |2019                           |107                         |87                                         |2                                         |1                                          |0                                          |81.30841121495327   |2.803738317757009           |15.88785046728972             |1.8691588785046729       |0.9345794392523364         |\n",
      "|1                 |UNIVERSIDADE FEDERAL DE MATO GROSSO|1                       |1                    |1                     |DIREITO             |5                             |Centro-Oeste                |51                             |Mato Grosso                  |5103403               |Cuiabá              |1                  |1                     |0421D01                                    |Direito                                  |4                                                 |Negócios, administração e direito               |2010        |2013          |6                        |2015                    |10                             |2019                           |107                         |83                                         |2                                         |2                                          |0                                          |77.57009345794393   |4.672897196261682           |17.757009345794394            |1.8691588785046729       |1.8691588785046729         |\n",
      "|1                 |UNIVERSIDADE FEDERAL DE MATO GROSSO|1                       |1                    |1                     |DIREITO             |5                             |Centro-Oeste                |51                             |Mato Grosso                  |5103403               |Cuiabá              |1                  |1                     |0421D01                                    |Direito                                  |4                                                 |Negócios, administração e direito               |2010        |2014          |6                        |2015                    |10                             |2019                           |107                         |27                                         |54                                        |2                                          |0                                          |25.233644859813083  |55.14018691588785           |19.626168224299064            |50.467289719626166       |1.8691588785046729         |\n",
      "+------------------+-----------------------------------+------------------------+---------------------+----------------------+--------------------+------------------------------+----------------------------+-------------------------------+-----------------------------+----------------------+--------------------+-------------------+----------------------+-------------------------------------------+-----------------------------------------+--------------------------------------------------+------------------------------------------------+------------+--------------+-------------------------+------------------------+-------------------------------+-------------------------------+----------------------------+-------------------------------------------+------------------------------------------+-------------------------------------------+-------------------------------------------+--------------------+----------------------------+------------------------------+-------------------------+---------------------------+\n",
      "only showing top 5 rows\n",
      "\n",
      "==========> df_fluxo_educ_superior_estmun.show(5, False):  None\n"
     ]
    }
   ],
   "source": [
    "df_fluxo_educ_superior_estmun = (df_fluxo_educ_superior.alias('educ')\n",
    "     .join(df_estado.alias('est'), fn.col('educ.CO_UF') == fn.col('est.estado_id'), 'left')\n",
    "     .join(df_municipio.alias('mun'), fn.col('educ.CO_MUNICIPIO') == fn.col('mun.municipio_id'), 'left')\n",
    "     .select(fn.col('educ.CO_IES').alias('codigo_instituicao'),\n",
    "             fn.col('educ.NO_IES').alias('nome_instituicao'),\n",
    "             fn.col('educ.TP_CATEGORIA_ADMINISTRATIVA').alias('categoria_administrativa'),\n",
    "             fn.col('educ.TP_ORGANIZACAO_ACADEMICA').alias('organizacao_academica'),\n",
    "             fn.col('educ.CO_CURSO').alias('codigo_curso_graduacao'),\n",
    "             fn.col('educ.NO_CURSO').alias('nome_curso_graduacao'),\n",
    "             fn.col('educ.CO_REGIAO').alias('codigo_regiao_geografica_curso'),\n",
    "             fn.col('est.regiao_nome').alias('nome_regiao_geografica_curso'), # df_estado.regiao_nome\n",
    "             fn.col('educ.CO_UF').alias('codigo_unidade_federativa_curso'),\n",
    "             fn.col('est.estado_nome').alias('nome_unidade_federativa_curso'), # df_estado.estado_nome\n",
    "             fn.col('educ.CO_MUNICIPIO').alias('codigo_municipio_curso'),\n",
    "             fn.col('mun.municipio_nome').alias('nome_municipio_curso'), # df_municipio.municipio_nome\n",
    "             fn.col('educ.TP_GRAU_ACADEMICO').alias('tipo_grau_academico'),\n",
    "             fn.col('educ.TP_MODALIDADE_ENSINO').alias('tipo_modalidade_ensino'),\n",
    "             fn.col('educ.CO_CINE_ROTULO').alias('codigo_area_curso_classificacao_cine_brasil'),\n",
    "             fn.col('educ.NO_CINE_ROTULO').alias('nome_area_curso_classificacao_cine_brasil'),\n",
    "             fn.col('educ.CO_CINE_AREA_GERAL').alias('codigo_grande_area_curso_classificacao_cine_brasil'),\n",
    "             fn.col('educ.NO_CINE_AREA_GERAL').alias('nome_grande_area_curso_classificacao_cine_brasil'),\n",
    "             fn.col('educ.NU_ANO_INGRESSO').alias('ano_ingresso'),\n",
    "             fn.col('educ.NU_ANO_REFERENCIA').alias('ano_referencia'),\n",
    "             fn.col('educ.NU_PRAZO_INTEGRALIZACAO').alias('prazo_integralizacao_anos'),\n",
    "             fn.col('educ.NU_ANO_INTEGRALIZACAO').alias('ano_integralizacao_curso'),\n",
    "             fn.col('educ.NU_PRAZO_ACOMPANHAMENTO').alias('prazo_acompanhamento_curso_anos'),\n",
    "             fn.col('educ.NU_ANO_MAXIMO_ACOMPANHAMENTO').alias('ano_maximo_acompanhamento_curso'),\n",
    "             fn.col('educ.QT_INGRESSANTE').alias('quantidade_ingressante_curso'),\n",
    "             fn.col('educ.QT_PERMANENCIA').alias('quantidade_permanencia_curso_ano_referencia'),\n",
    "             fn.col('educ.QT_CONCLUINTE').alias('quantidade_concluinte_curso_ano_referencia'),\n",
    "             fn.col('educ.QT_DESISTENCIA').alias('quantidade_desistencia_curso_ano_referencia'),\n",
    "             fn.col('educ.QT_FALECIDO').alias('quantidade_falecimento_curso_ano_referencia'),\n",
    "             fn.col('educ.TAP').alias('taxa_permanencia_tap'),\n",
    "             fn.col('educ.TCA').alias('taxa_conclusao_acumulada_tca'), \n",
    "             fn.col('educ.TDA').alias('taxa_desistencia_acumulada_tda'),\n",
    "             fn.col('educ.TCAN').alias('taxa_conclusso_anual_tcan'),\n",
    "             fn.col('educ.TADA').alias('taxa_desistencia_anual_tada')\n",
    "            )\n",
    ")\n",
    "print('==========> df_fluxo_educ_superior_estmun.printSchema(): ', df_fluxo_educ_superior_estmun.printSchema())\n",
    "print('==========> df_fluxo_educ_superior_estmun.count(): ', df_fluxo_educ_superior_estmun.count())\n",
    "print('==========> df_fluxo_educ_superior_estmun.show(5, False): ', df_fluxo_educ_superior_estmun.show(5, False))"
   ]
  },
  {
   "cell_type": "code",
   "execution_count": 7,
   "id": "b23a915c-4984-47a2-9442-5373041b8a4a",
   "metadata": {},
   "outputs": [],
   "source": [
    "# (df_fluxo_educ_superior_estmun\n",
    "#  .write\n",
    "#  .format('parquet')\n",
    "#  .mode('overwrite')\n",
    "#  .save('s3a://silver/educacao_superior/indicadores_fluxo_educacao_superior')\n",
    "#  )"
   ]
  }
 ],
 "metadata": {
  "kernelspec": {
   "display_name": "Python 3 (ipykernel)",
   "language": "python",
   "name": "python3"
  },
  "language_info": {
   "codemirror_mode": {
    "name": "ipython",
    "version": 3
   },
   "file_extension": ".py",
   "mimetype": "text/x-python",
   "name": "python",
   "nbconvert_exporter": "python",
   "pygments_lexer": "ipython3",
   "version": "3.10.5"
  }
 },
 "nbformat": 4,
 "nbformat_minor": 5
}
