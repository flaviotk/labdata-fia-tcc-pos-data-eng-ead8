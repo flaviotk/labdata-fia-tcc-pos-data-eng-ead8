{
 "cells": [
  {
   "cell_type": "code",
   "execution_count": 1,
   "id": "14055cc5-0d25-488d-8df8-f27dd4879a80",
   "metadata": {},
   "outputs": [
    {
     "data": {
      "text/html": [
       "<style>pre { white-space: pre !important; }</style>"
      ],
      "text/plain": [
       "<IPython.core.display.HTML object>"
      ]
     },
     "metadata": {},
     "output_type": "display_data"
    }
   ],
   "source": [
    "from pyspark.sql.types import *\n",
    "from pyspark.sql.window import Window\n",
    "import pyspark.sql.functions as fn\n",
    "from pyspark.sql import SparkSession\n",
    "from IPython.core.display import HTML\n",
    "display(HTML(\"<style>pre { white-space: pre !important; }</style>\"))"
   ]
  },
  {
   "cell_type": "code",
   "execution_count": 2,
   "id": "57a6a529-163a-428b-892e-643051efe946",
   "metadata": {},
   "outputs": [],
   "source": [
    "spark = (SparkSession.builder\n",
    "         .config(\"spark.jars\",\"\"\"/home/jovyan/jars/aws-java-sdk-core-1.11.534.jar,\n",
    "                                 /home/jovyan/jars/aws-java-sdk-dynamodb-1.11.534.jar,\n",
    "                                 /home/jovyan/jars/aws-java-sdk-s3-1.11.534.jar,\n",
    "                                 /home/jovyan/jars/hadoop-aws-3.2.2.jar\"\"\")\n",
    "         .config(\"spark.hadoop.fs.s3a.endpoint\", \"http://minio:9000\")\n",
    "         .config(\"spark.hadoop.fs.s3a.access.key\", \"aulafia\")\n",
    "         .config(\"spark.hadoop.fs.s3a.secret.key\", \"aulafia@123\")\n",
    "         .config(\"spark.hadoop.fs.s3a.path.style.access\", True)\n",
    "         .config(\"spark.hadoop.fs.s3a.impl\", \"org.apache.hadoop.fs.s3a.S3AFileSystem\")\n",
    "         .config(\"spark.hadoop.fs.s3a.aws.credentials.provider\", \"org.apache.hadoop.fs.s3a.SimpleAWSCredentialsProvider\")\n",
    "         .getOrCreate()\n",
    "        )"
   ]
  },
  {
   "cell_type": "code",
   "execution_count": 3,
   "id": "80234134-352d-47bb-8989-b5e9c7cbec74",
   "metadata": {},
   "outputs": [
    {
     "data": {
      "text/plain": [
       "[('id', 'string'),\n",
       " ('nome', 'string'),\n",
       " ('regiao', 'struct<nome:string,sigla:string,id:string>'),\n",
       " ('sigla', 'string')]"
      ]
     },
     "execution_count": 3,
     "metadata": {},
     "output_type": "execute_result"
    }
   ],
   "source": [
    "df_estado = spark.read.format('parquet').load('s3a://bronze/ibge/estado')\n",
    "df_estado.dtypes"
   ]
  },
  {
   "cell_type": "code",
   "execution_count": 4,
   "id": "6669be97-9cfb-4cbd-9696-6b794281bc91",
   "metadata": {},
   "outputs": [
    {
     "name": "stdout",
     "output_type": "stream",
     "text": [
      "+---+------------------+---------------------+-----+\n",
      "|id |nome              |regiao               |sigla|\n",
      "+---+------------------+---------------------+-----+\n",
      "|27 |Alagoas           |{Nordeste, NE, 2}    |AL   |\n",
      "|28 |Sergipe           |{Nordeste, NE, 2}    |SE   |\n",
      "|29 |Bahia             |{Nordeste, NE, 2}    |BA   |\n",
      "|31 |Minas Gerais      |{Sudeste, SE, 3}     |MG   |\n",
      "|32 |Espírito Santo    |{Sudeste, SE, 3}     |ES   |\n",
      "|33 |Rio de Janeiro    |{Sudeste, SE, 3}     |RJ   |\n",
      "|35 |São Paulo         |{Sudeste, SE, 3}     |SP   |\n",
      "|41 |Paraná            |{Sul, S, 4}          |PR   |\n",
      "|42 |Santa Catarina    |{Sul, S, 4}          |SC   |\n",
      "|43 |Rio Grande do Sul |{Sul, S, 4}          |RS   |\n",
      "|50 |Mato Grosso do Sul|{Centro-Oeste, CO, 5}|MS   |\n",
      "|51 |Mato Grosso       |{Centro-Oeste, CO, 5}|MT   |\n",
      "+---+------------------+---------------------+-----+\n",
      "only showing top 12 rows\n",
      "\n"
     ]
    }
   ],
   "source": [
    "df_estado.show(12, False)"
   ]
  },
  {
   "cell_type": "code",
   "execution_count": 5,
   "id": "6aef4cf3-1a52-4264-b02a-6b0193c64bcf",
   "metadata": {},
   "outputs": [],
   "source": [
    "df_estado_campos = df_estado.select(fn.col(\"id\").cast('int').alias(\"estado_id\"), \n",
    "                                    fn.col(\"nome\").alias(\"estado_nome\"), \n",
    "                                    fn.col(\"sigla\").alias(\"estado_sigla\"), \n",
    "                                    fn.col(\"regiao.id\").cast('int').alias(\"regiao_id\"),\n",
    "                                    fn.col(\"regiao.nome\").alias(\"regiao_nome\"),\n",
    "                                    fn.col(\"regiao.sigla\").alias(\"regiao_sigla\")\n",
    "                                   )"
   ]
  },
  {
   "cell_type": "code",
   "execution_count": 6,
   "id": "8e647c54-bf0d-4578-bd1d-a42fb6ac6668",
   "metadata": {},
   "outputs": [
    {
     "name": "stdout",
     "output_type": "stream",
     "text": [
      "+---------+------------------+------------+---------+------------+------------+\n",
      "|estado_id|estado_nome       |estado_sigla|regiao_id|regiao_nome |regiao_sigla|\n",
      "+---------+------------------+------------+---------+------------+------------+\n",
      "|27       |Alagoas           |AL          |2        |Nordeste    |NE          |\n",
      "|28       |Sergipe           |SE          |2        |Nordeste    |NE          |\n",
      "|29       |Bahia             |BA          |2        |Nordeste    |NE          |\n",
      "|31       |Minas Gerais      |MG          |3        |Sudeste     |SE          |\n",
      "|32       |Espírito Santo    |ES          |3        |Sudeste     |SE          |\n",
      "|33       |Rio de Janeiro    |RJ          |3        |Sudeste     |SE          |\n",
      "|35       |São Paulo         |SP          |3        |Sudeste     |SE          |\n",
      "|41       |Paraná            |PR          |4        |Sul         |S           |\n",
      "|42       |Santa Catarina    |SC          |4        |Sul         |S           |\n",
      "|43       |Rio Grande do Sul |RS          |4        |Sul         |S           |\n",
      "|50       |Mato Grosso do Sul|MS          |5        |Centro-Oeste|CO          |\n",
      "|51       |Mato Grosso       |MT          |5        |Centro-Oeste|CO          |\n",
      "+---------+------------------+------------+---------+------------+------------+\n",
      "only showing top 12 rows\n",
      "\n"
     ]
    }
   ],
   "source": [
    "df_estado_campos.show(12, False)"
   ]
  },
  {
   "cell_type": "code",
   "execution_count": 7,
   "id": "bae69193-2b0b-43ba-9401-52456275be36",
   "metadata": {},
   "outputs": [],
   "source": [
    "(df_estado_campos\n",
    " .write\n",
    " .format('parquet')\n",
    " .mode('overwrite')\n",
    " .save('s3a://silver/dado_geografico/estado')\n",
    " )"
   ]
  },
  {
   "cell_type": "code",
   "execution_count": 8,
   "id": "0a1d1582-8903-424d-b045-220a98585ebd",
   "metadata": {},
   "outputs": [],
   "source": [
    "pandasDF = df_estado_campos.toPandas()"
   ]
  },
  {
   "cell_type": "code",
   "execution_count": 11,
   "id": "8ca30418-f0c9-4777-b86d-a579f1f614fc",
   "metadata": {},
   "outputs": [],
   "source": [
    "pandasDF.to_excel('api_ibge_estados_export.xlsx', sheet_name='estados', index = False)"
   ]
  },
  {
   "cell_type": "code",
   "execution_count": null,
   "id": "152f0d8b-b6f6-4125-91c9-e48386033971",
   "metadata": {},
   "outputs": [],
   "source": []
  }
 ],
 "metadata": {
  "kernelspec": {
   "display_name": "Python 3 (ipykernel)",
   "language": "python",
   "name": "python3"
  },
  "language_info": {
   "codemirror_mode": {
    "name": "ipython",
    "version": 3
   },
   "file_extension": ".py",
   "mimetype": "text/x-python",
   "name": "python",
   "nbconvert_exporter": "python",
   "pygments_lexer": "ipython3",
   "version": "3.10.5"
  }
 },
 "nbformat": 4,
 "nbformat_minor": 5
}
