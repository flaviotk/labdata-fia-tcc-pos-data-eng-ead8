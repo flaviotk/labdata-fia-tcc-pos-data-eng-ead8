{
 "cells": [
  {
   "cell_type": "code",
   "execution_count": 1,
   "id": "c3755299-b6a0-4b00-b53d-333374e6396f",
   "metadata": {},
   "outputs": [
    {
     "data": {
      "text/html": [
       "<style>pre { white-space: pre !important; }</style>"
      ],
      "text/plain": [
       "<IPython.core.display.HTML object>"
      ]
     },
     "metadata": {},
     "output_type": "display_data"
    }
   ],
   "source": [
    "from pyspark.sql.types import *\n",
    "from pyspark.sql.window import Window\n",
    "import pyspark.sql.functions as fn\n",
    "from pyspark.sql import SparkSession\n",
    "from IPython.core.display import HTML\n",
    "display(HTML(\"<style>pre { white-space: pre !important; }</style>\"))"
   ]
  },
  {
   "cell_type": "code",
   "execution_count": 2,
   "id": "c5ba4c08-3899-4731-b516-5ee714e1fc34",
   "metadata": {},
   "outputs": [],
   "source": [
    "spark = (SparkSession.builder\n",
    "         .config(\"spark.jars\",\"\"\"/home/jovyan/jars/aws-java-sdk-core-1.11.534.jar,\n",
    "                                 /home/jovyan/jars/aws-java-sdk-dynamodb-1.11.534.jar,\n",
    "                                 /home/jovyan/jars/aws-java-sdk-s3-1.11.534.jar,\n",
    "                                 /home/jovyan/jars/hadoop-aws-3.2.2.jar\"\"\")\n",
    "         .config(\"spark.hadoop.fs.s3a.endpoint\", \"http://minio:9000\")\n",
    "         .config(\"spark.hadoop.fs.s3a.access.key\", \"aulafia\")\n",
    "         .config(\"spark.hadoop.fs.s3a.secret.key\", \"aulafia@123\")\n",
    "         .config(\"spark.hadoop.fs.s3a.path.style.access\", True)\n",
    "         .config(\"spark.hadoop.fs.s3a.impl\", \"org.apache.hadoop.fs.s3a.S3AFileSystem\")\n",
    "         .config(\"spark.hadoop.fs.s3a.aws.credentials.provider\", \"org.apache.hadoop.fs.s3a.SimpleAWSCredentialsProvider\")\n",
    "         .getOrCreate()\n",
    "        )"
   ]
  },
  {
   "cell_type": "code",
   "execution_count": 3,
   "id": "d0f8a306-9e3d-495f-9745-067c6da0abcf",
   "metadata": {},
   "outputs": [
    {
     "name": "stdout",
     "output_type": "stream",
     "text": [
      "root\n",
      " |-- codigo_instituicao: long (nullable = true)\n",
      " |-- nome_instituicao: string (nullable = true)\n",
      " |-- categoria_administrativa: integer (nullable = true)\n",
      " |-- organizacao_academica: integer (nullable = true)\n",
      " |-- codigo_curso_graduacao: long (nullable = true)\n",
      " |-- nome_curso_graduacao: string (nullable = true)\n",
      " |-- codigo_regiao_geografica_curso: integer (nullable = true)\n",
      " |-- nome_regiao_geografica_curso: string (nullable = true)\n",
      " |-- codigo_unidade_federativa_curso: integer (nullable = true)\n",
      " |-- nome_unidade_federativa_curso: string (nullable = true)\n",
      " |-- codigo_municipio_curso: long (nullable = true)\n",
      " |-- nome_municipio_curso: string (nullable = true)\n",
      " |-- tipo_grau_academico: integer (nullable = true)\n",
      " |-- tipo_modalidade_ensino: integer (nullable = true)\n",
      " |-- codigo_area_curso_classificacao_cine_brasil: string (nullable = true)\n",
      " |-- nome_area_curso_classificacao_cine_brasil: string (nullable = true)\n",
      " |-- codigo_grande_area_curso_classificacao_cine_brasil: integer (nullable = true)\n",
      " |-- nome_grande_area_curso_classificacao_cine_brasil: string (nullable = true)\n",
      " |-- ano_ingresso: integer (nullable = true)\n",
      " |-- ano_referencia: integer (nullable = true)\n",
      " |-- prazo_integralizacao_anos: integer (nullable = true)\n",
      " |-- ano_integralizacao_curso: integer (nullable = true)\n",
      " |-- prazo_acompanhamento_curso_anos: integer (nullable = true)\n",
      " |-- ano_maximo_acompanhamento_curso: integer (nullable = true)\n",
      " |-- quantidade_ingressante_curso: long (nullable = true)\n",
      " |-- quantidade_permanencia_curso_ano_referencia: long (nullable = true)\n",
      " |-- quantidade_concluinte_curso_ano_referencia: long (nullable = true)\n",
      " |-- quantidade_desistencia_curso_ano_referencia: long (nullable = true)\n",
      " |-- quantidade_falecimento_curso_ano_referencia: long (nullable = true)\n",
      " |-- taxa_permanencia_tap: double (nullable = true)\n",
      " |-- taxa_conclusao_acumulada_tca: double (nullable = true)\n",
      " |-- taxa_desistencia_acumulada_tda: double (nullable = true)\n",
      " |-- taxa_conclusso_anual_tcan: double (nullable = true)\n",
      " |-- taxa_desistencia_anual_tada: double (nullable = true)\n",
      "\n",
      "==========> df_ind_fluxo_educ.printSchema():  None\n",
      "==========> df_ind_fluxo_educ.count():  259230\n",
      "+------------------+-----------------------------------+------------------------+---------------------+----------------------+--------------------+------------------------------+----------------------------+-------------------------------+-----------------------------+----------------------+--------------------+-------------------+----------------------+-------------------------------------------+-----------------------------------------+--------------------------------------------------+------------------------------------------------+------------+--------------+-------------------------+------------------------+-------------------------------+-------------------------------+----------------------------+-------------------------------------------+------------------------------------------+-------------------------------------------+-------------------------------------------+--------------------+----------------------------+------------------------------+-------------------------+---------------------------+\n",
      "|codigo_instituicao|nome_instituicao                   |categoria_administrativa|organizacao_academica|codigo_curso_graduacao|nome_curso_graduacao|codigo_regiao_geografica_curso|nome_regiao_geografica_curso|codigo_unidade_federativa_curso|nome_unidade_federativa_curso|codigo_municipio_curso|nome_municipio_curso|tipo_grau_academico|tipo_modalidade_ensino|codigo_area_curso_classificacao_cine_brasil|nome_area_curso_classificacao_cine_brasil|codigo_grande_area_curso_classificacao_cine_brasil|nome_grande_area_curso_classificacao_cine_brasil|ano_ingresso|ano_referencia|prazo_integralizacao_anos|ano_integralizacao_curso|prazo_acompanhamento_curso_anos|ano_maximo_acompanhamento_curso|quantidade_ingressante_curso|quantidade_permanencia_curso_ano_referencia|quantidade_concluinte_curso_ano_referencia|quantidade_desistencia_curso_ano_referencia|quantidade_falecimento_curso_ano_referencia|taxa_permanencia_tap|taxa_conclusao_acumulada_tca|taxa_desistencia_acumulada_tda|taxa_conclusso_anual_tcan|taxa_desistencia_anual_tada|\n",
      "+------------------+-----------------------------------+------------------------+---------------------+----------------------+--------------------+------------------------------+----------------------------+-------------------------------+-----------------------------+----------------------+--------------------+-------------------+----------------------+-------------------------------------------+-----------------------------------------+--------------------------------------------------+------------------------------------------------+------------+--------------+-------------------------+------------------------+-------------------------------+-------------------------------+----------------------------+-------------------------------------------+------------------------------------------+-------------------------------------------+-------------------------------------------+--------------------+----------------------------+------------------------------+-------------------------+---------------------------+\n",
      "|1                 |UNIVERSIDADE FEDERAL DE MATO GROSSO|1                       |1                    |1                     |DIREITO             |5                             |Centro-Oeste                |51                             |Mato Grosso                  |5103403               |Cuiabá              |1                  |1                     |0421D01                                    |Direito                                  |4                                                 |Negócios, administração e direito               |2010        |2010          |6                        |2015                    |10                             |2019                           |107                         |98                                         |1                                         |8                                          |0                                          |91.58878504672897   |0.9345794392523364          |7.4766355140186915            |0.9345794392523364       |7.4766355140186915         |\n",
      "|1                 |UNIVERSIDADE FEDERAL DE MATO GROSSO|1                       |1                    |1                     |DIREITO             |5                             |Centro-Oeste                |51                             |Mato Grosso                  |5103403               |Cuiabá              |1                  |1                     |0421D01                                    |Direito                                  |4                                                 |Negócios, administração e direito               |2010        |2011          |6                        |2015                    |10                             |2019                           |107                         |90                                         |0                                         |8                                          |0                                          |84.11214953271028   |0.9345794392523364          |14.953271028037383            |0.0                      |7.4766355140186915         |\n",
      "|1                 |UNIVERSIDADE FEDERAL DE MATO GROSSO|1                       |1                    |1                     |DIREITO             |5                             |Centro-Oeste                |51                             |Mato Grosso                  |5103403               |Cuiabá              |1                  |1                     |0421D01                                    |Direito                                  |4                                                 |Negócios, administração e direito               |2010        |2012          |6                        |2015                    |10                             |2019                           |107                         |87                                         |2                                         |1                                          |0                                          |81.30841121495327   |2.803738317757009           |15.88785046728972             |1.8691588785046729       |0.9345794392523364         |\n",
      "|1                 |UNIVERSIDADE FEDERAL DE MATO GROSSO|1                       |1                    |1                     |DIREITO             |5                             |Centro-Oeste                |51                             |Mato Grosso                  |5103403               |Cuiabá              |1                  |1                     |0421D01                                    |Direito                                  |4                                                 |Negócios, administração e direito               |2010        |2013          |6                        |2015                    |10                             |2019                           |107                         |83                                         |2                                         |2                                          |0                                          |77.57009345794393   |4.672897196261682           |17.757009345794394            |1.8691588785046729       |1.8691588785046729         |\n",
      "|1                 |UNIVERSIDADE FEDERAL DE MATO GROSSO|1                       |1                    |1                     |DIREITO             |5                             |Centro-Oeste                |51                             |Mato Grosso                  |5103403               |Cuiabá              |1                  |1                     |0421D01                                    |Direito                                  |4                                                 |Negócios, administração e direito               |2010        |2014          |6                        |2015                    |10                             |2019                           |107                         |27                                         |54                                        |2                                          |0                                          |25.233644859813083  |55.14018691588785           |19.626168224299064            |50.467289719626166       |1.8691588785046729         |\n",
      "+------------------+-----------------------------------+------------------------+---------------------+----------------------+--------------------+------------------------------+----------------------------+-------------------------------+-----------------------------+----------------------+--------------------+-------------------+----------------------+-------------------------------------------+-----------------------------------------+--------------------------------------------------+------------------------------------------------+------------+--------------+-------------------------+------------------------+-------------------------------+-------------------------------+----------------------------+-------------------------------------------+------------------------------------------+-------------------------------------------+-------------------------------------------+--------------------+----------------------------+------------------------------+-------------------------+---------------------------+\n",
      "only showing top 5 rows\n",
      "\n",
      "==========> df_ind_fluxo_educ.show(5, False):  None\n"
     ]
    }
   ],
   "source": [
    "df_ind_fluxo_educ = spark.read.format('parquet').load('s3a://silver/educacao_superior/indicadores_fluxo_educacao_superior')\n",
    "print('==========> df_ind_fluxo_educ.printSchema(): ', df_ind_fluxo_educ.printSchema())\n",
    "print('==========> df_ind_fluxo_educ.count(): ', df_ind_fluxo_educ.count())\n",
    "print('==========> df_ind_fluxo_educ.show(5, False): ', df_ind_fluxo_educ.show(5, False))"
   ]
  },
  {
   "cell_type": "code",
   "execution_count": 8,
   "id": "e1ae7539-4d02-4ca7-9b42-a3d95dbed98a",
   "metadata": {},
   "outputs": [],
   "source": [
    "df_ind_fluxo_educ_gold = df_ind_fluxo_educ.select(\n",
    "        fn.col('codigo_instituicao'),\n",
    "        fn.col('nome_instituicao'),\n",
    "        fn.col('categoria_administrativa').alias('codigo_categoria_administrativa'),\n",
    "        fn.when(fn.col('categoria_administrativa') == \"1\",\"Pública Federal\")\n",
    "          .when(fn.col('categoria_administrativa') == \"2\",\"Pública Estadual\")\n",
    "          .when(fn.col('categoria_administrativa') == \"3\",\"Pública Municipal\")\n",
    "          .when(fn.col('categoria_administrativa') == \"4\",\"Privada com Fins Lucrativos\")\n",
    "          .when(fn.col('categoria_administrativa') == \"5\",\"Privada sem Fins Lucrativos\")\n",
    "          .when(fn.col('categoria_administrativa') == \"7\",\"Especial\")\n",
    "          .otherwise('Outras')\n",
    "          .alias('nome_categoria_administrativa'),\n",
    "        fn.col('organizacao_academica').alias('codigo_organizacao_academica'),\n",
    "        fn.when(fn.col('organizacao_academica') == \"1\",\"Universidade\")\n",
    "          .when(fn.col('organizacao_academica') == \"2\",\"Centro Universitário\")\n",
    "          .when(fn.col('organizacao_academica') == \"3\",\"Faculdade\")\n",
    "          .when(fn.col('organizacao_academica') == \"4\",\"Instituto Federal de Educação, Ciência e Tecnologia\")\n",
    "          .when(fn.col('organizacao_academica') == \"5\",\"Centro Federal de Educação Tecnológica\")\n",
    "          .otherwise('Outras')\n",
    "          .alias('nome_organizacao_academica'),\n",
    "        fn.col('codigo_curso_graduacao'),\n",
    "        fn.col('nome_curso_graduacao'),\n",
    "        fn.col('codigo_regiao_geografica_curso'),\n",
    "        fn.col('nome_regiao_geografica_curso'),\n",
    "        fn.col('codigo_unidade_federativa_curso'),\n",
    "        fn.col('nome_unidade_federativa_curso'),\n",
    "        fn.col('codigo_municipio_curso'),\n",
    "        fn.col('nome_municipio_curso'),\n",
    "        fn.col('tipo_grau_academico').alias('codigo_tipo_grau_academico'),\n",
    "        fn.when(fn.col('tipo_grau_academico') == \"1\",\"Bacharelado\")\n",
    "          .when(fn.col('tipo_grau_academico') == \"2\",\"Licenciatura\")\n",
    "          .when(fn.col('tipo_grau_academico') == \"3\",\"Tecnológico\")\n",
    "          .otherwise('Outros')\n",
    "          .alias('nome_tipo_grau_academico'),\n",
    "        fn.col('tipo_modalidade_ensino').alias('codigo_tipo_modalidade_ensino'),\n",
    "        fn.when(fn.col('tipo_modalidade_ensino') == \"1\",\"Presencial\")\n",
    "          .when(fn.col('tipo_modalidade_ensino') == \"2\",\"Curso a Distância\")\n",
    "          .otherwise('Outros')\n",
    "          .alias('nome_tipo_modalidade_ensino'),\n",
    "        fn.col('codigo_area_curso_classificacao_cine_brasil'),\n",
    "        fn.col('nome_area_curso_classificacao_cine_brasil'),\n",
    "        fn.col('codigo_grande_area_curso_classificacao_cine_brasil'),\n",
    "        fn.col('nome_grande_area_curso_classificacao_cine_brasil'),\n",
    "        fn.col('ano_ingresso'),\n",
    "        fn.col('ano_referencia'),\n",
    "        fn.col('prazo_integralizacao_anos'),\n",
    "        fn.col('ano_integralizacao_curso'),\n",
    "        fn.col('prazo_acompanhamento_curso_anos'),\n",
    "        fn.col('ano_maximo_acompanhamento_curso'),\n",
    "        fn.col('quantidade_ingressante_curso'),\n",
    "        fn.col('quantidade_permanencia_curso_ano_referencia'),\n",
    "        fn.col('quantidade_concluinte_curso_ano_referencia'),\n",
    "        fn.col('quantidade_desistencia_curso_ano_referencia'),\n",
    "        fn.col('quantidade_falecimento_curso_ano_referencia'),\n",
    "        fn.col('taxa_permanencia_tap'),\n",
    "        fn.col('taxa_conclusao_acumulada_tca'),\n",
    "        fn.col('taxa_desistencia_acumulada_tda'),\n",
    "        fn.col('taxa_conclusso_anual_tcan'),\n",
    "        fn.col('taxa_desistencia_anual_tada')\n",
    ")"
   ]
  },
  {
   "cell_type": "code",
   "execution_count": null,
   "id": "8d214454-b275-446d-9469-b7174c27b6a7",
   "metadata": {},
   "outputs": [],
   "source": [
    "# (df_ind_fluxo_educ_gold\n",
    "#  .write\n",
    "#  .format('parquet')\n",
    "#  .mode('overwrite')\n",
    "#  .save('s3a://gold/educacao_superior/indicadores_fluxo_educacao_superior')\n",
    "#  )"
   ]
  },
  {
   "cell_type": "code",
   "execution_count": 4,
   "id": "64e6f19a-b905-450d-a246-e398822611e6",
   "metadata": {},
   "outputs": [],
   "source": [
    "df_ind_fluxo_educ_gold = spark.read.format('parquet') \\\n",
    "   .load('s3a://gold/educacao_superior/indicadores_fluxo_educacao_superior')"
   ]
  },
  {
   "cell_type": "code",
   "execution_count": 6,
   "id": "9708dd70-42aa-4f7b-9e22-1ca60f17a5d9",
   "metadata": {},
   "outputs": [
    {
     "name": "stdout",
     "output_type": "stream",
     "text": [
      "+------------------+-----------------------------------+-------------------------------+-----------------------------+----------------------------+--------------------------+----------------------+--------------------+------------------------------+----------------------------+-------------------------------+-----------------------------+----------------------+--------------------+--------------------------+------------------------+-----------------------------+---------------------------+-------------------------------------------+-----------------------------------------+--------------------------------------------------+------------------------------------------------+------------+--------------+-------------------------+------------------------+-------------------------------+-------------------------------+----------------------------+-------------------------------------------+------------------------------------------+-------------------------------------------+-------------------------------------------+--------------------+----------------------------+------------------------------+-------------------------+---------------------------+\n",
      "|codigo_instituicao|nome_instituicao                   |codigo_categoria_administrativa|nome_categoria_administrativa|codigo_organizacao_academica|nome_organizacao_academica|codigo_curso_graduacao|nome_curso_graduacao|codigo_regiao_geografica_curso|nome_regiao_geografica_curso|codigo_unidade_federativa_curso|nome_unidade_federativa_curso|codigo_municipio_curso|nome_municipio_curso|codigo_tipo_grau_academico|nome_tipo_grau_academico|codigo_tipo_modalidade_ensino|nome_tipo_modalidade_ensino|codigo_area_curso_classificacao_cine_brasil|nome_area_curso_classificacao_cine_brasil|codigo_grande_area_curso_classificacao_cine_brasil|nome_grande_area_curso_classificacao_cine_brasil|ano_ingresso|ano_referencia|prazo_integralizacao_anos|ano_integralizacao_curso|prazo_acompanhamento_curso_anos|ano_maximo_acompanhamento_curso|quantidade_ingressante_curso|quantidade_permanencia_curso_ano_referencia|quantidade_concluinte_curso_ano_referencia|quantidade_desistencia_curso_ano_referencia|quantidade_falecimento_curso_ano_referencia|taxa_permanencia_tap|taxa_conclusao_acumulada_tca|taxa_desistencia_acumulada_tda|taxa_conclusso_anual_tcan|taxa_desistencia_anual_tada|\n",
      "+------------------+-----------------------------------+-------------------------------+-----------------------------+----------------------------+--------------------------+----------------------+--------------------+------------------------------+----------------------------+-------------------------------+-----------------------------+----------------------+--------------------+--------------------------+------------------------+-----------------------------+---------------------------+-------------------------------------------+-----------------------------------------+--------------------------------------------------+------------------------------------------------+------------+--------------+-------------------------+------------------------+-------------------------------+-------------------------------+----------------------------+-------------------------------------------+------------------------------------------+-------------------------------------------+-------------------------------------------+--------------------+----------------------------+------------------------------+-------------------------+---------------------------+\n",
      "|1                 |UNIVERSIDADE FEDERAL DE MATO GROSSO|1                              |Pública Federal              |1                           |Universidade              |1                     |DIREITO             |5                             |Centro-Oeste                |51                             |Mato Grosso                  |5103403               |Cuiabá              |1                         |Bacharelado             |1                            |Presencial                 |0421D01                                    |Direito                                  |4                                                 |Negócios, administração e direito               |2010        |2010          |6                        |2015                    |10                             |2019                           |107                         |98                                         |1                                         |8                                          |0                                          |91.58878504672897   |0.9345794392523364          |7.4766355140186915            |0.9345794392523364       |7.4766355140186915         |\n",
      "|1                 |UNIVERSIDADE FEDERAL DE MATO GROSSO|1                              |Pública Federal              |1                           |Universidade              |1                     |DIREITO             |5                             |Centro-Oeste                |51                             |Mato Grosso                  |5103403               |Cuiabá              |1                         |Bacharelado             |1                            |Presencial                 |0421D01                                    |Direito                                  |4                                                 |Negócios, administração e direito               |2010        |2011          |6                        |2015                    |10                             |2019                           |107                         |90                                         |0                                         |8                                          |0                                          |84.11214953271028   |0.9345794392523364          |14.953271028037383            |0.0                      |7.4766355140186915         |\n",
      "|1                 |UNIVERSIDADE FEDERAL DE MATO GROSSO|1                              |Pública Federal              |1                           |Universidade              |1                     |DIREITO             |5                             |Centro-Oeste                |51                             |Mato Grosso                  |5103403               |Cuiabá              |1                         |Bacharelado             |1                            |Presencial                 |0421D01                                    |Direito                                  |4                                                 |Negócios, administração e direito               |2010        |2012          |6                        |2015                    |10                             |2019                           |107                         |87                                         |2                                         |1                                          |0                                          |81.30841121495327   |2.803738317757009           |15.88785046728972             |1.8691588785046729       |0.9345794392523364         |\n",
      "|1                 |UNIVERSIDADE FEDERAL DE MATO GROSSO|1                              |Pública Federal              |1                           |Universidade              |1                     |DIREITO             |5                             |Centro-Oeste                |51                             |Mato Grosso                  |5103403               |Cuiabá              |1                         |Bacharelado             |1                            |Presencial                 |0421D01                                    |Direito                                  |4                                                 |Negócios, administração e direito               |2010        |2013          |6                        |2015                    |10                             |2019                           |107                         |83                                         |2                                         |2                                          |0                                          |77.57009345794393   |4.672897196261682           |17.757009345794394            |1.8691588785046729       |1.8691588785046729         |\n",
      "|1                 |UNIVERSIDADE FEDERAL DE MATO GROSSO|1                              |Pública Federal              |1                           |Universidade              |1                     |DIREITO             |5                             |Centro-Oeste                |51                             |Mato Grosso                  |5103403               |Cuiabá              |1                         |Bacharelado             |1                            |Presencial                 |0421D01                                    |Direito                                  |4                                                 |Negócios, administração e direito               |2010        |2014          |6                        |2015                    |10                             |2019                           |107                         |27                                         |54                                        |2                                          |0                                          |25.233644859813083  |55.14018691588785           |19.626168224299064            |50.467289719626166       |1.8691588785046729         |\n",
      "+------------------+-----------------------------------+-------------------------------+-----------------------------+----------------------------+--------------------------+----------------------+--------------------+------------------------------+----------------------------+-------------------------------+-----------------------------+----------------------+--------------------+--------------------------+------------------------+-----------------------------+---------------------------+-------------------------------------------+-----------------------------------------+--------------------------------------------------+------------------------------------------------+------------+--------------+-------------------------+------------------------+-------------------------------+-------------------------------+----------------------------+-------------------------------------------+------------------------------------------+-------------------------------------------+-------------------------------------------+--------------------+----------------------------+------------------------------+-------------------------+---------------------------+\n",
      "only showing top 5 rows\n",
      "\n",
      "==========> df_ind_fluxo_educ_gold.show(5, False):  None\n"
     ]
    }
   ],
   "source": [
    "print('==========> df_ind_fluxo_educ_gold.show(5, False): ',\n",
    "      df_ind_fluxo_educ_gold.show(5, False))"
   ]
  },
  {
   "cell_type": "markdown",
   "id": "f71a7085-59fe-4f2d-a3e5-edd904bbe92a",
   "metadata": {},
   "source": [
    "<b>Categoria Adminsitrativa</b>"
   ]
  },
  {
   "cell_type": "code",
   "execution_count": 9,
   "id": "b8a706fd-dd7e-4544-b8e1-1134c94b027f",
   "metadata": {},
   "outputs": [
    {
     "name": "stdout",
     "output_type": "stream",
     "text": [
      "+-------------------------------+-----------------------------+-----+\n",
      "|codigo_categoria_administrativa|nome_categoria_administrativa|qtde |\n",
      "+-------------------------------+-----------------------------+-----+\n",
      "|1                              |Pública Federal              |47300|\n",
      "|2                              |Pública Estadual             |29440|\n",
      "|3                              |Pública Municipal            |3840 |\n",
      "|4                              |Privada com Fins Lucrativos  |90080|\n",
      "|5                              |Privada sem Fins Lucrativos  |87270|\n",
      "|7                              |Especial                     |1300 |\n",
      "+-------------------------------+-----------------------------+-----+\n",
      "\n"
     ]
    }
   ],
   "source": [
    "(df_ind_fluxo_educ_gold.groupBy(\n",
    "    \"codigo_categoria_administrativa\", \n",
    "    \"nome_categoria_administrativa\").agg(fn.count('*').alias(\"qtde\")) \n",
    "    .orderBy(\"codigo_categoria_administrativa\")).show(15, False)"
   ]
  },
  {
   "cell_type": "markdown",
   "id": "332d35a2-21e4-4b1b-afc3-9c49a8ac6e2a",
   "metadata": {},
   "source": [
    "<b>Organização Acadêmica</b>"
   ]
  },
  {
   "cell_type": "code",
   "execution_count": 10,
   "id": "26e2750a-ef32-4869-80de-bb99775cf0fd",
   "metadata": {},
   "outputs": [
    {
     "name": "stdout",
     "output_type": "stream",
     "text": [
      "+----------------------------+---------------------------------------------------+------+\n",
      "|codigo_organizacao_academica|nome_organizacao_academica                         |qtde  |\n",
      "+----------------------------+---------------------------------------------------+------+\n",
      "|1                           |Universidade                                       |131300|\n",
      "|2                           |Centro Universitário                               |50860 |\n",
      "|3                           |Faculdade                                          |70260 |\n",
      "|4                           |Instituto Federal de Educação, Ciência e Tecnologia|6500  |\n",
      "|5                           |Centro Federal de Educação Tecnológica             |310   |\n",
      "+----------------------------+---------------------------------------------------+------+\n",
      "\n"
     ]
    }
   ],
   "source": [
    "(df_ind_fluxo_educ_gold.groupBy(\n",
    "    \"codigo_organizacao_academica\", \n",
    "    \"nome_organizacao_academica\").agg(fn.count('*').alias(\"qtde\")) \n",
    "    .orderBy(\"codigo_organizacao_academica\")).show(15, False)"
   ]
  },
  {
   "cell_type": "markdown",
   "id": "cd0f1ea5-ab9b-461e-b6cf-44bc3b19c993",
   "metadata": {},
   "source": [
    "<b>Grau Acadêmico</b>"
   ]
  },
  {
   "cell_type": "code",
   "execution_count": 11,
   "id": "5b552ac8-d2c6-47d3-a9ab-b908f8766ef8",
   "metadata": {},
   "outputs": [
    {
     "name": "stdout",
     "output_type": "stream",
     "text": [
      "+--------------------------+------------------------+------+\n",
      "|codigo_tipo_grau_academico|nome_tipo_grau_academico|qtde  |\n",
      "+--------------------------+------------------------+------+\n",
      "|1                         |Bacharelado             |151470|\n",
      "|2                         |Licenciatura            |64080 |\n",
      "|3                         |Tecnológico             |43680 |\n",
      "+--------------------------+------------------------+------+\n",
      "\n"
     ]
    }
   ],
   "source": [
    "(df_ind_fluxo_educ_gold.groupBy(\n",
    "    \"codigo_tipo_grau_academico\", \n",
    "    \"nome_tipo_grau_academico\").agg(fn.count('*').alias(\"qtde\")) \n",
    "    .orderBy(\"codigo_tipo_grau_academico\")).show(15, False)"
   ]
  },
  {
   "cell_type": "markdown",
   "id": "f4bd9a71-fb1b-48cd-b682-d853703ae2e6",
   "metadata": {},
   "source": [
    "<b>Modalidade de Ensino</b>"
   ]
  },
  {
   "cell_type": "code",
   "execution_count": 12,
   "id": "3f772a3d-f40e-450c-9b31-1ac825379b30",
   "metadata": {},
   "outputs": [
    {
     "name": "stdout",
     "output_type": "stream",
     "text": [
      "+-----------------------------+---------------------------+------+\n",
      "|codigo_tipo_modalidade_ensino|nome_tipo_modalidade_ensino|qtde  |\n",
      "+-----------------------------+---------------------------+------+\n",
      "|1                            |Presencial                 |252260|\n",
      "|2                            |Curso a Distância          |6970  |\n",
      "+-----------------------------+---------------------------+------+\n",
      "\n"
     ]
    }
   ],
   "source": [
    "(df_ind_fluxo_educ_gold.groupBy(\n",
    "    \"codigo_tipo_modalidade_ensino\", \n",
    "    \"nome_tipo_modalidade_ensino\").agg(fn.count('*').alias(\"qtde\")) \n",
    "    .orderBy(\"codigo_tipo_modalidade_ensino\")).show(15, False)"
   ]
  },
  {
   "cell_type": "markdown",
   "id": "0e92b164-ef81-4869-9b83-9fa8af218bb6",
   "metadata": {},
   "source": [
    "<b>Região Geográfica</b>"
   ]
  },
  {
   "cell_type": "code",
   "execution_count": 13,
   "id": "d87ed2e9-9fd9-4e8e-8ef4-bfcfadf02cde",
   "metadata": {},
   "outputs": [
    {
     "name": "stdout",
     "output_type": "stream",
     "text": [
      "+------------------------------+----------------------------+------+\n",
      "|codigo_regiao_geografica_curso|nome_regiao_geografica_curso|qtde  |\n",
      "+------------------------------+----------------------------+------+\n",
      "|null                          |null                        |6970  |\n",
      "|1                             |Norte                       |16790 |\n",
      "|2                             |Nordeste                    |45640 |\n",
      "|3                             |Sudeste                     |118940|\n",
      "|4                             |Sul                         |47870 |\n",
      "|5                             |Centro-Oeste                |23020 |\n",
      "+------------------------------+----------------------------+------+\n",
      "\n"
     ]
    }
   ],
   "source": [
    "(df_ind_fluxo_educ_gold.groupBy(\n",
    "    \"codigo_regiao_geografica_curso\", \n",
    "    \"nome_regiao_geografica_curso\").agg(fn.count('*').alias(\"qtde\")) \n",
    "    .orderBy(\"codigo_regiao_geografica_curso\")).show(15, False)"
   ]
  },
  {
   "cell_type": "markdown",
   "id": "8c79a45b-6c5a-4165-b642-b65d08566aa3",
   "metadata": {},
   "source": [
    "<b>Anos de Referência</b>"
   ]
  },
  {
   "cell_type": "code",
   "execution_count": 14,
   "id": "1176b73d-c458-425f-88f5-ddf9230a4e66",
   "metadata": {},
   "outputs": [
    {
     "name": "stdout",
     "output_type": "stream",
     "text": [
      "+--------------+-----+\n",
      "|ano_referencia|qtde |\n",
      "+--------------+-----+\n",
      "|2010          |25923|\n",
      "|2011          |25923|\n",
      "|2012          |25923|\n",
      "|2013          |25923|\n",
      "|2014          |25923|\n",
      "|2015          |25923|\n",
      "|2016          |25923|\n",
      "|2017          |25923|\n",
      "|2018          |25923|\n",
      "|2019          |25923|\n",
      "+--------------+-----+\n",
      "\n"
     ]
    }
   ],
   "source": [
    "(df_ind_fluxo_educ_gold.groupBy(\n",
    "    \"ano_referencia\").agg(fn.count('*').alias(\"qtde\")) \n",
    "    .orderBy(\"ano_referencia\")).show(15, False)"
   ]
  },
  {
   "cell_type": "markdown",
   "id": "06d725b2-eff8-4bd3-abc5-56a957efd445",
   "metadata": {},
   "source": [
    "<b>Camada Gold - gold/educacao_superior/indicadores_fluxo_educacao_superior</b>"
   ]
  },
  {
   "cell_type": "code",
   "execution_count": 3,
   "id": "61cefbf9-638b-4db9-8953-eceb9d9938ec",
   "metadata": {},
   "outputs": [
    {
     "name": "stdout",
     "output_type": "stream",
     "text": [
      "+------------------+-----------------------------------+-------------------------------+-----------------------------+----------------------------+--------------------------+----------------------+--------------------+------------------------------+----------------------------+-------------------------------+-----------------------------+----------------------+--------------------+--------------------------+------------------------+-----------------------------+---------------------------+-------------------------------------------+-----------------------------------------+--------------------------------------------------+------------------------------------------------+------------+--------------+-------------------------+------------------------+-------------------------------+-------------------------------+----------------------------+-------------------------------------------+------------------------------------------+-------------------------------------------+-------------------------------------------+--------------------+----------------------------+------------------------------+-------------------------+---------------------------+\n",
      "|codigo_instituicao|nome_instituicao                   |codigo_categoria_administrativa|nome_categoria_administrativa|codigo_organizacao_academica|nome_organizacao_academica|codigo_curso_graduacao|nome_curso_graduacao|codigo_regiao_geografica_curso|nome_regiao_geografica_curso|codigo_unidade_federativa_curso|nome_unidade_federativa_curso|codigo_municipio_curso|nome_municipio_curso|codigo_tipo_grau_academico|nome_tipo_grau_academico|codigo_tipo_modalidade_ensino|nome_tipo_modalidade_ensino|codigo_area_curso_classificacao_cine_brasil|nome_area_curso_classificacao_cine_brasil|codigo_grande_area_curso_classificacao_cine_brasil|nome_grande_area_curso_classificacao_cine_brasil|ano_ingresso|ano_referencia|prazo_integralizacao_anos|ano_integralizacao_curso|prazo_acompanhamento_curso_anos|ano_maximo_acompanhamento_curso|quantidade_ingressante_curso|quantidade_permanencia_curso_ano_referencia|quantidade_concluinte_curso_ano_referencia|quantidade_desistencia_curso_ano_referencia|quantidade_falecimento_curso_ano_referencia|taxa_permanencia_tap|taxa_conclusao_acumulada_tca|taxa_desistencia_acumulada_tda|taxa_conclusso_anual_tcan|taxa_desistencia_anual_tada|\n",
      "+------------------+-----------------------------------+-------------------------------+-----------------------------+----------------------------+--------------------------+----------------------+--------------------+------------------------------+----------------------------+-------------------------------+-----------------------------+----------------------+--------------------+--------------------------+------------------------+-----------------------------+---------------------------+-------------------------------------------+-----------------------------------------+--------------------------------------------------+------------------------------------------------+------------+--------------+-------------------------+------------------------+-------------------------------+-------------------------------+----------------------------+-------------------------------------------+------------------------------------------+-------------------------------------------+-------------------------------------------+--------------------+----------------------------+------------------------------+-------------------------+---------------------------+\n",
      "|1                 |UNIVERSIDADE FEDERAL DE MATO GROSSO|1                              |Pública Federal              |1                           |Universidade              |1                     |DIREITO             |5                             |Centro-Oeste                |51                             |Mato Grosso                  |5103403               |Cuiabá              |1                         |Bacharelado             |1                            |Presencial                 |0421D01                                    |Direito                                  |4                                                 |Negócios, administração e direito               |2010        |2010          |6                        |2015                    |10                             |2019                           |107                         |98                                         |1                                         |8                                          |0                                          |91.58878504672897   |0.9345794392523364          |7.4766355140186915            |0.9345794392523364       |7.4766355140186915         |\n",
      "|1                 |UNIVERSIDADE FEDERAL DE MATO GROSSO|1                              |Pública Federal              |1                           |Universidade              |1                     |DIREITO             |5                             |Centro-Oeste                |51                             |Mato Grosso                  |5103403               |Cuiabá              |1                         |Bacharelado             |1                            |Presencial                 |0421D01                                    |Direito                                  |4                                                 |Negócios, administração e direito               |2010        |2011          |6                        |2015                    |10                             |2019                           |107                         |90                                         |0                                         |8                                          |0                                          |84.11214953271028   |0.9345794392523364          |14.953271028037383            |0.0                      |7.4766355140186915         |\n",
      "|1                 |UNIVERSIDADE FEDERAL DE MATO GROSSO|1                              |Pública Federal              |1                           |Universidade              |1                     |DIREITO             |5                             |Centro-Oeste                |51                             |Mato Grosso                  |5103403               |Cuiabá              |1                         |Bacharelado             |1                            |Presencial                 |0421D01                                    |Direito                                  |4                                                 |Negócios, administração e direito               |2010        |2012          |6                        |2015                    |10                             |2019                           |107                         |87                                         |2                                         |1                                          |0                                          |81.30841121495327   |2.803738317757009           |15.88785046728972             |1.8691588785046729       |0.9345794392523364         |\n",
      "|1                 |UNIVERSIDADE FEDERAL DE MATO GROSSO|1                              |Pública Federal              |1                           |Universidade              |1                     |DIREITO             |5                             |Centro-Oeste                |51                             |Mato Grosso                  |5103403               |Cuiabá              |1                         |Bacharelado             |1                            |Presencial                 |0421D01                                    |Direito                                  |4                                                 |Negócios, administração e direito               |2010        |2013          |6                        |2015                    |10                             |2019                           |107                         |83                                         |2                                         |2                                          |0                                          |77.57009345794393   |4.672897196261682           |17.757009345794394            |1.8691588785046729       |1.8691588785046729         |\n",
      "|1                 |UNIVERSIDADE FEDERAL DE MATO GROSSO|1                              |Pública Federal              |1                           |Universidade              |1                     |DIREITO             |5                             |Centro-Oeste                |51                             |Mato Grosso                  |5103403               |Cuiabá              |1                         |Bacharelado             |1                            |Presencial                 |0421D01                                    |Direito                                  |4                                                 |Negócios, administração e direito               |2010        |2014          |6                        |2015                    |10                             |2019                           |107                         |27                                         |54                                        |2                                          |0                                          |25.233644859813083  |55.14018691588785           |19.626168224299064            |50.467289719626166       |1.8691588785046729         |\n",
      "+------------------+-----------------------------------+-------------------------------+-----------------------------+----------------------------+--------------------------+----------------------+--------------------+------------------------------+----------------------------+-------------------------------+-----------------------------+----------------------+--------------------+--------------------------+------------------------+-----------------------------+---------------------------+-------------------------------------------+-----------------------------------------+--------------------------------------------------+------------------------------------------------+------------+--------------+-------------------------+------------------------+-------------------------------+-------------------------------+----------------------------+-------------------------------------------+------------------------------------------+-------------------------------------------+-------------------------------------------+--------------------+----------------------------+------------------------------+-------------------------+---------------------------+\n",
      "only showing top 5 rows\n",
      "\n"
     ]
    }
   ],
   "source": [
    "df_educacao = spark.read.format('parquet') \\\n",
    "   .load('s3a://gold/educacao_superior/indicadores_fluxo_educacao_superior')\n",
    "df_educacao.show(5, False)"
   ]
  },
  {
   "cell_type": "code",
   "execution_count": null,
   "id": "f4a6ce51-0ddb-4590-8301-c7a432cf178c",
   "metadata": {},
   "outputs": [],
   "source": []
  }
 ],
 "metadata": {
  "kernelspec": {
   "display_name": "Python 3 (ipykernel)",
   "language": "python",
   "name": "python3"
  },
  "language_info": {
   "codemirror_mode": {
    "name": "ipython",
    "version": 3
   },
   "file_extension": ".py",
   "mimetype": "text/x-python",
   "name": "python",
   "nbconvert_exporter": "python",
   "pygments_lexer": "ipython3",
   "version": "3.10.5"
  }
 },
 "nbformat": 4,
 "nbformat_minor": 5
}
