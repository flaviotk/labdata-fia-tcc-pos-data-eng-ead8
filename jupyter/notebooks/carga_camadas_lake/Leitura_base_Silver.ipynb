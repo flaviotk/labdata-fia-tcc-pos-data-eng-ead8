{
 "cells": [
  {
   "cell_type": "code",
   "execution_count": 1,
   "id": "cd209bbc-ebce-495c-9177-f0ae99e86cce",
   "metadata": {},
   "outputs": [
    {
     "data": {
      "text/html": [
       "<style>pre { white-space: pre !important; }</style>"
      ],
      "text/plain": [
       "<IPython.core.display.HTML object>"
      ]
     },
     "metadata": {},
     "output_type": "display_data"
    }
   ],
   "source": [
    "from pyspark.sql.types import *\n",
    "from pyspark.sql.window import Window\n",
    "import pyspark.sql.functions as fn\n",
    "from pyspark.sql import SparkSession\n",
    "from IPython.core.display import HTML\n",
    "display(HTML(\"<style>pre { white-space: pre !important; }</style>\"))"
   ]
  },
  {
   "cell_type": "code",
   "execution_count": 2,
   "id": "c8b22162-bd31-4423-a1a0-8639f26dec09",
   "metadata": {},
   "outputs": [],
   "source": [
    "spark = (SparkSession.builder\n",
    "         .config(\"spark.jars\",\"\"\"/home/jovyan/jars/aws-java-sdk-core-1.11.534.jar,\n",
    "                                 /home/jovyan/jars/aws-java-sdk-dynamodb-1.11.534.jar,\n",
    "                                 /home/jovyan/jars/aws-java-sdk-s3-1.11.534.jar,\n",
    "                                 /home/jovyan/jars/hadoop-aws-3.2.2.jar\"\"\")\n",
    "         .config(\"spark.hadoop.fs.s3a.endpoint\", \"http://minio:9000\")\n",
    "         .config(\"spark.hadoop.fs.s3a.access.key\", \"aulafia\")\n",
    "         .config(\"spark.hadoop.fs.s3a.secret.key\", \"aulafia@123\")\n",
    "         .config(\"spark.hadoop.fs.s3a.path.style.access\", True)\n",
    "         .config(\"spark.hadoop.fs.s3a.impl\", \"org.apache.hadoop.fs.s3a.S3AFileSystem\")\n",
    "         .config(\"spark.hadoop.fs.s3a.aws.credentials.provider\", \"org.apache.hadoop.fs.s3a.SimpleAWSCredentialsProvider\")\n",
    "         .getOrCreate()\n",
    "        )"
   ]
  },
  {
   "cell_type": "code",
   "execution_count": 8,
   "id": "5574d28f-734e-4a60-9c9a-76e1a89464e1",
   "metadata": {},
   "outputs": [
    {
     "name": "stdout",
     "output_type": "stream",
     "text": [
      "[('codigo_instituicao', 'bigint'), ('nome_instituicao', 'string'), ('categoria_administrativa', 'int'), ('organizacao_academica', 'int'), ('codigo_curso_graduacao', 'bigint'), ('nome_curso_graduacao', 'string'), ('codigo_regiao_geografica_curso', 'int'), ('nome_regiao_geografica_curso', 'string'), ('codigo_unidade_federativa_curso', 'int'), ('nome_unidade_federativa_curso', 'string'), ('codigo_municipio_curso', 'bigint'), ('nome_municipio_curso', 'string'), ('tipo_grau_academico', 'int'), ('tipo_modalidade_ensino', 'int'), ('codigo_area_curso_classificacao_cine_brasil', 'string'), ('nome_area_curso_classificacao_cine_brasil', 'string'), ('codigo_grande_area_curso_classificacao_cine_brasil', 'int'), ('nome_grande_area_curso_classificacao_cine_brasil', 'string'), ('ano_ingresso', 'int'), ('ano_referencia', 'int'), ('prazo_integralizacao_anos', 'int'), ('ano_integralizacao_curso', 'int'), ('prazo_acompanhamento_curso_anos', 'int'), ('ano_maximo_acompanhamento_curso', 'int'), ('quantidade_ingressante_curso', 'bigint'), ('quantidade_permanencia_curso_ano_referencia', 'bigint'), ('quantidade_concluinte_curso_ano_referencia', 'bigint'), ('quantidade_desistencia_curso_ano_referencia', 'bigint'), ('quantidade_falecimento_curso_ano_referencia', 'bigint'), ('taxa_permanencia_tap', 'double'), ('taxa_conclusao_acumulada_tca', 'double'), ('taxa_desistencia_acumulada_tda', 'double'), ('taxa_conclusso_anual_tcan', 'double'), ('taxa_desistencia_anual_tada', 'double')]\n",
      "+------------------+-----------------------------------+------------------------+---------------------+----------------------+--------------------+------------------------------+----------------------------+-------------------------------+-----------------------------+----------------------+--------------------+-------------------+----------------------+-------------------------------------------+-----------------------------------------+--------------------------------------------------+------------------------------------------------+------------+--------------+-------------------------+------------------------+-------------------------------+-------------------------------+----------------------------+-------------------------------------------+------------------------------------------+-------------------------------------------+-------------------------------------------+--------------------+----------------------------+------------------------------+-------------------------+---------------------------+\n",
      "|codigo_instituicao|nome_instituicao                   |categoria_administrativa|organizacao_academica|codigo_curso_graduacao|nome_curso_graduacao|codigo_regiao_geografica_curso|nome_regiao_geografica_curso|codigo_unidade_federativa_curso|nome_unidade_federativa_curso|codigo_municipio_curso|nome_municipio_curso|tipo_grau_academico|tipo_modalidade_ensino|codigo_area_curso_classificacao_cine_brasil|nome_area_curso_classificacao_cine_brasil|codigo_grande_area_curso_classificacao_cine_brasil|nome_grande_area_curso_classificacao_cine_brasil|ano_ingresso|ano_referencia|prazo_integralizacao_anos|ano_integralizacao_curso|prazo_acompanhamento_curso_anos|ano_maximo_acompanhamento_curso|quantidade_ingressante_curso|quantidade_permanencia_curso_ano_referencia|quantidade_concluinte_curso_ano_referencia|quantidade_desistencia_curso_ano_referencia|quantidade_falecimento_curso_ano_referencia|taxa_permanencia_tap|taxa_conclusao_acumulada_tca|taxa_desistencia_acumulada_tda|taxa_conclusso_anual_tcan|taxa_desistencia_anual_tada|\n",
      "+------------------+-----------------------------------+------------------------+---------------------+----------------------+--------------------+------------------------------+----------------------------+-------------------------------+-----------------------------+----------------------+--------------------+-------------------+----------------------+-------------------------------------------+-----------------------------------------+--------------------------------------------------+------------------------------------------------+------------+--------------+-------------------------+------------------------+-------------------------------+-------------------------------+----------------------------+-------------------------------------------+------------------------------------------+-------------------------------------------+-------------------------------------------+--------------------+----------------------------+------------------------------+-------------------------+---------------------------+\n",
      "|1                 |UNIVERSIDADE FEDERAL DE MATO GROSSO|1                       |1                    |1                     |DIREITO             |5                             |Centro-Oeste                |51                             |Mato Grosso                  |5103403               |Cuiabá              |1                  |1                     |0421D01                                    |Direito                                  |4                                                 |Negócios, administração e direito               |2010        |2010          |6                        |2015                    |10                             |2019                           |107                         |98                                         |1                                         |8                                          |0                                          |91.58878504672897   |0.9345794392523364          |7.4766355140186915            |0.9345794392523364       |7.4766355140186915         |\n",
      "|1                 |UNIVERSIDADE FEDERAL DE MATO GROSSO|1                       |1                    |1                     |DIREITO             |5                             |Centro-Oeste                |51                             |Mato Grosso                  |5103403               |Cuiabá              |1                  |1                     |0421D01                                    |Direito                                  |4                                                 |Negócios, administração e direito               |2010        |2011          |6                        |2015                    |10                             |2019                           |107                         |90                                         |0                                         |8                                          |0                                          |84.11214953271028   |0.9345794392523364          |14.953271028037383            |0.0                      |7.4766355140186915         |\n",
      "|1                 |UNIVERSIDADE FEDERAL DE MATO GROSSO|1                       |1                    |1                     |DIREITO             |5                             |Centro-Oeste                |51                             |Mato Grosso                  |5103403               |Cuiabá              |1                  |1                     |0421D01                                    |Direito                                  |4                                                 |Negócios, administração e direito               |2010        |2012          |6                        |2015                    |10                             |2019                           |107                         |87                                         |2                                         |1                                          |0                                          |81.30841121495327   |2.803738317757009           |15.88785046728972             |1.8691588785046729       |0.9345794392523364         |\n",
      "|1                 |UNIVERSIDADE FEDERAL DE MATO GROSSO|1                       |1                    |1                     |DIREITO             |5                             |Centro-Oeste                |51                             |Mato Grosso                  |5103403               |Cuiabá              |1                  |1                     |0421D01                                    |Direito                                  |4                                                 |Negócios, administração e direito               |2010        |2013          |6                        |2015                    |10                             |2019                           |107                         |83                                         |2                                         |2                                          |0                                          |77.57009345794393   |4.672897196261682           |17.757009345794394            |1.8691588785046729       |1.8691588785046729         |\n",
      "|1                 |UNIVERSIDADE FEDERAL DE MATO GROSSO|1                       |1                    |1                     |DIREITO             |5                             |Centro-Oeste                |51                             |Mato Grosso                  |5103403               |Cuiabá              |1                  |1                     |0421D01                                    |Direito                                  |4                                                 |Negócios, administração e direito               |2010        |2014          |6                        |2015                    |10                             |2019                           |107                         |27                                         |54                                        |2                                          |0                                          |25.233644859813083  |55.14018691588785           |19.626168224299064            |50.467289719626166       |1.8691588785046729         |\n",
      "|1                 |UNIVERSIDADE FEDERAL DE MATO GROSSO|1                       |1                    |1                     |DIREITO             |5                             |Centro-Oeste                |51                             |Mato Grosso                  |5103403               |Cuiabá              |1                  |1                     |0421D01                                    |Direito                                  |4                                                 |Negócios, administração e direito               |2010        |2015          |6                        |2015                    |10                             |2019                           |107                         |24                                         |2                                         |1                                          |0                                          |22.429906542056074  |57.00934579439252           |20.560747663551403            |1.8691588785046729       |0.9345794392523364         |\n",
      "|1                 |UNIVERSIDADE FEDERAL DE MATO GROSSO|1                       |1                    |1                     |DIREITO             |5                             |Centro-Oeste                |51                             |Mato Grosso                  |5103403               |Cuiabá              |1                  |1                     |0421D01                                    |Direito                                  |4                                                 |Negócios, administração e direito               |2010        |2016          |6                        |2015                    |10                             |2019                           |107                         |13                                         |3                                         |8                                          |0                                          |12.149532710280374  |59.81308411214953           |28.037383177570092            |2.803738317757009        |7.4766355140186915         |\n",
      "|1                 |UNIVERSIDADE FEDERAL DE MATO GROSSO|1                       |1                    |1                     |DIREITO             |5                             |Centro-Oeste                |51                             |Mato Grosso                  |5103403               |Cuiabá              |1                  |1                     |0421D01                                    |Direito                                  |4                                                 |Negócios, administração e direito               |2010        |2017          |6                        |2015                    |10                             |2019                           |107                         |7                                          |1                                         |5                                          |0                                          |6.542056074766355   |60.74766355140187           |32.71028037383178             |0.9345794392523364       |4.672897196261682          |\n",
      "|1                 |UNIVERSIDADE FEDERAL DE MATO GROSSO|1                       |1                    |1                     |DIREITO             |5                             |Centro-Oeste                |51                             |Mato Grosso                  |5103403               |Cuiabá              |1                  |1                     |0421D01                                    |Direito                                  |4                                                 |Negócios, administração e direito               |2010        |2018          |6                        |2015                    |10                             |2019                           |107                         |5                                          |1                                         |1                                          |0                                          |4.672897196261682   |61.6822429906542            |33.64485981308411             |0.9345794392523364       |0.9345794392523364         |\n",
      "|1                 |UNIVERSIDADE FEDERAL DE MATO GROSSO|1                       |1                    |1                     |DIREITO             |5                             |Centro-Oeste                |51                             |Mato Grosso                  |5103403               |Cuiabá              |1                  |1                     |0421D01                                    |Direito                                  |4                                                 |Negócios, administração e direito               |2010        |2019          |6                        |2015                    |10                             |2019                           |107                         |5                                          |0                                         |0                                          |0                                          |4.672897196261682   |61.6822429906542            |33.64485981308411             |0.0                      |0.0                        |\n",
      "|1                 |UNIVERSIDADE FEDERAL DE MATO GROSSO|1                       |1                    |2                     |CIÊNCIAS ECONÔMICAS |5                             |Centro-Oeste                |51                             |Mato Grosso                  |5103403               |Cuiabá              |1                  |1                     |0311E01                                    |Economia                                 |3                                                 |Ciências sociais, comunicação e informação      |2010        |2010          |5                        |2014                    |8                              |2017                           |113                         |103                                        |0                                         |10                                         |0                                          |91.15044247787611   |0.0                         |8.849557522123893             |0.0                      |8.849557522123893          |\n",
      "|1                 |UNIVERSIDADE FEDERAL DE MATO GROSSO|1                       |1                    |2                     |CIÊNCIAS ECONÔMICAS |5                             |Centro-Oeste                |51                             |Mato Grosso                  |5103403               |Cuiabá              |1                  |1                     |0311E01                                    |Economia                                 |3                                                 |Ciências sociais, comunicação e informação      |2010        |2011          |5                        |2014                    |8                              |2017                           |113                         |100                                        |0                                         |3                                          |0                                          |88.49557522123894   |0.0                         |11.504424778761061            |0.0                      |2.6548672566371683         |\n",
      "+------------------+-----------------------------------+------------------------+---------------------+----------------------+--------------------+------------------------------+----------------------------+-------------------------------+-----------------------------+----------------------+--------------------+-------------------+----------------------+-------------------------------------------+-----------------------------------------+--------------------------------------------------+------------------------------------------------+------------+--------------+-------------------------+------------------------+-------------------------------+-------------------------------+----------------------------+-------------------------------------------+------------------------------------------+-------------------------------------------+-------------------------------------------+--------------------+----------------------------+------------------------------+-------------------------+---------------------------+\n",
      "only showing top 12 rows\n",
      "\n"
     ]
    }
   ],
   "source": [
    "df_indicadores = spark.read.format('parquet').load('s3a://silver/educacao_superior/indicadores_fluxo_educacao_superior')\n",
    "# df_indicadores.printSchema()\n",
    "print(df_indicadores.dtypes)\n",
    "df_indicadores.show(12, False)"
   ]
  },
  {
   "cell_type": "code",
   "execution_count": 4,
   "id": "88e1c8a3-0a63-4078-99f2-6c880542730c",
   "metadata": {},
   "outputs": [
    {
     "name": "stdout",
     "output_type": "stream",
     "text": [
      "+------------------------------+----------------------------+\n",
      "|codigo_regiao_geografica_curso|nome_regiao_geografica_curso|\n",
      "+------------------------------+----------------------------+\n",
      "|2                             |Nordeste                    |\n",
      "|null                          |null                        |\n",
      "|4                             |Sul                         |\n",
      "|5                             |Centro-Oeste                |\n",
      "|1                             |Norte                       |\n",
      "|3                             |Sudeste                     |\n",
      "+------------------------------+----------------------------+\n",
      "\n"
     ]
    }
   ],
   "source": [
    "(df_indicadores.select(fn.col('codigo_regiao_geografica_curso'), \n",
    "                       fn.col('nome_regiao_geografica_curso'))\n",
    "               .distinct()\n",
    ").show(12, False)"
   ]
  },
  {
   "cell_type": "code",
   "execution_count": 5,
   "id": "b5ab0b09-c0e5-4cba-b122-2261de72b263",
   "metadata": {},
   "outputs": [
    {
     "name": "stdout",
     "output_type": "stream",
     "text": [
      "+------------------------------+----------------------------+\n",
      "|codigo_regiao_geografica_curso|nome_regiao_geografica_curso|\n",
      "+------------------------------+----------------------------+\n",
      "|null                          |null                        |\n",
      "|1                             |Norte                       |\n",
      "|2                             |Nordeste                    |\n",
      "|3                             |Sudeste                     |\n",
      "|4                             |Sul                         |\n",
      "|5                             |Centro-Oeste                |\n",
      "+------------------------------+----------------------------+\n",
      "\n"
     ]
    }
   ],
   "source": [
    "(df_indicadores.select(fn.col('codigo_regiao_geografica_curso'), \n",
    "                       fn.col('nome_regiao_geografica_curso'))\n",
    "               .distinct()\n",
    "               .orderBy(fn.col('codigo_regiao_geografica_curso'))\n",
    ").show(12, False)"
   ]
  }
 ],
 "metadata": {
  "kernelspec": {
   "display_name": "Python 3 (ipykernel)",
   "language": "python",
   "name": "python3"
  },
  "language_info": {
   "codemirror_mode": {
    "name": "ipython",
    "version": 3
   },
   "file_extension": ".py",
   "mimetype": "text/x-python",
   "name": "python",
   "nbconvert_exporter": "python",
   "pygments_lexer": "ipython3",
   "version": "3.10.5"
  }
 },
 "nbformat": 4,
 "nbformat_minor": 5
}
