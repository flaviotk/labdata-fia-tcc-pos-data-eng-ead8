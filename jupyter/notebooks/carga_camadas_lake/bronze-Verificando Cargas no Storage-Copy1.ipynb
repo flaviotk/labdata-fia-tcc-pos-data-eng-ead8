{
 "cells": [
  {
   "cell_type": "code",
   "execution_count": 1,
   "id": "14055cc5-0d25-488d-8df8-f27dd4879a80",
   "metadata": {},
   "outputs": [
    {
     "data": {
      "text/html": [
       "<style>pre { white-space: pre !important; }</style>"
      ],
      "text/plain": [
       "<IPython.core.display.HTML object>"
      ]
     },
     "metadata": {},
     "output_type": "display_data"
    }
   ],
   "source": [
    "from pyspark.sql.types import *\n",
    "from pyspark.sql.window import Window\n",
    "import pyspark.sql.functions as fn\n",
    "from pyspark.sql import SparkSession\n",
    "from IPython.core.display import HTML\n",
    "display(HTML(\"<style>pre { white-space: pre !important; }</style>\"))"
   ]
  },
  {
   "cell_type": "code",
   "execution_count": 2,
   "id": "57a6a529-163a-428b-892e-643051efe946",
   "metadata": {},
   "outputs": [],
   "source": [
    "spark = (SparkSession.builder\n",
    "         .config(\"spark.jars\",\"\"\"/home/jovyan/jars/aws-java-sdk-core-1.11.534.jar,\n",
    "                                 /home/jovyan/jars/aws-java-sdk-dynamodb-1.11.534.jar,\n",
    "                                 /home/jovyan/jars/aws-java-sdk-s3-1.11.534.jar,\n",
    "                                 /home/jovyan/jars/hadoop-aws-3.2.2.jar\"\"\")\n",
    "         .config(\"spark.hadoop.fs.s3a.endpoint\", \"http://minio:9000\")\n",
    "         .config(\"spark.hadoop.fs.s3a.access.key\", \"aulafia\")\n",
    "         .config(\"spark.hadoop.fs.s3a.secret.key\", \"aulafia@123\")\n",
    "         .config(\"spark.hadoop.fs.s3a.path.style.access\", True)\n",
    "         .config(\"spark.hadoop.fs.s3a.impl\", \"org.apache.hadoop.fs.s3a.S3AFileSystem\")\n",
    "         .config(\"spark.hadoop.fs.s3a.aws.credentials.provider\", \"org.apache.hadoop.fs.s3a.SimpleAWSCredentialsProvider\")\n",
    "         .getOrCreate()\n",
    "        )"
   ]
  },
  {
   "cell_type": "code",
   "execution_count": 3,
   "id": "80234134-352d-47bb-8989-b5e9c7cbec74",
   "metadata": {},
   "outputs": [
    {
     "name": "stdout",
     "output_type": "stream",
     "text": [
      "[('id', 'string'), ('nome', 'string'), ('regiao', 'struct<nome:string,sigla:string,id:string>'), ('sigla', 'string')]\n",
      "27\n",
      "+---+-------------------+-----------------+-----+\n",
      "|id |nome               |regiao           |sigla|\n",
      "+---+-------------------+-----------------+-----+\n",
      "|11 |Rondônia           |{Norte, N, 1}    |RO   |\n",
      "|12 |Acre               |{Norte, N, 1}    |AC   |\n",
      "|13 |Amazonas           |{Norte, N, 1}    |AM   |\n",
      "|14 |Roraima            |{Norte, N, 1}    |RR   |\n",
      "|15 |Pará               |{Norte, N, 1}    |PA   |\n",
      "|16 |Amapá              |{Norte, N, 1}    |AP   |\n",
      "|17 |Tocantins          |{Norte, N, 1}    |TO   |\n",
      "|21 |Maranhão           |{Nordeste, NE, 2}|MA   |\n",
      "|22 |Piauí              |{Nordeste, NE, 2}|PI   |\n",
      "|23 |Ceará              |{Nordeste, NE, 2}|CE   |\n",
      "|24 |Rio Grande do Norte|{Nordeste, NE, 2}|RN   |\n",
      "|25 |Paraíba            |{Nordeste, NE, 2}|PB   |\n",
      "+---+-------------------+-----------------+-----+\n",
      "only showing top 12 rows\n",
      "\n"
     ]
    }
   ],
   "source": [
    "df_estado = spark.read.format('parquet').load('s3a://bronze/ibge/estado')\n",
    "print(df_estado.dtypes)\n",
    "print(df_estado.count())\n",
    "df_estado.show(12, False)"
   ]
  },
  {
   "cell_type": "code",
   "execution_count": 4,
   "id": "f7ed6b5f-948d-4e4b-b6b2-b6866a58f391",
   "metadata": {},
   "outputs": [
    {
     "name": "stdout",
     "output_type": "stream",
     "text": [
      "[('id', 'bigint'), ('nome', 'string'), ('microrregiao', 'struct<id:bigint,nome:string,mesorregiao:struct<id:bigint,nome:string,UF:struct<id:int,sigla:string,nome:string,regiao:struct<id:int,sigla:string,nome:string>>>>'), ('regiao_imediata', 'struct<id:int,nome:string,regiao_intermediaria:struct<id:int,nome:string,UF:struct<id:int,sigla:string,nome:string,regiao:struct<id:int,sigla:string,nome:string>>>>')]\n",
      "5570\n",
      "+-------+---------------------+----------------------------------------------------------------------------------------+-----------------------------------------------------------------------------+\n",
      "|id     |nome                 |microrregiao                                                                            |regiao_imediata                                                              |\n",
      "+-------+---------------------+----------------------------------------------------------------------------------------+-----------------------------------------------------------------------------+\n",
      "|1100015|Alta Floresta D'Oeste|{11006, Cacoal, {1102, Leste Rondoniense, {11, RO, Rondônia, {1, N, Norte}}}}           |{110005, Cacoal, {1102, Ji-Paraná, {11, RO, Rondônia, {1, N, Norte}}}}       |\n",
      "|1100023|Ariquemes            |{11003, Ariquemes, {1102, Leste Rondoniense, {11, RO, Rondônia, {1, N, Norte}}}}        |{110002, Ariquemes, {1101, Porto Velho, {11, RO, Rondônia, {1, N, Norte}}}}  |\n",
      "|1100031|Cabixi               |{11008, Colorado do Oeste, {1102, Leste Rondoniense, {11, RO, Rondônia, {1, N, Norte}}}}|{110006, Vilhena, {1102, Ji-Paraná, {11, RO, Rondônia, {1, N, Norte}}}}      |\n",
      "|1100049|Cacoal               |{11006, Cacoal, {1102, Leste Rondoniense, {11, RO, Rondônia, {1, N, Norte}}}}           |{110005, Cacoal, {1102, Ji-Paraná, {11, RO, Rondônia, {1, N, Norte}}}}       |\n",
      "|1100056|Cerejeiras           |{11008, Colorado do Oeste, {1102, Leste Rondoniense, {11, RO, Rondônia, {1, N, Norte}}}}|{110006, Vilhena, {1102, Ji-Paraná, {11, RO, Rondônia, {1, N, Norte}}}}      |\n",
      "|1100064|Colorado do Oeste    |{11008, Colorado do Oeste, {1102, Leste Rondoniense, {11, RO, Rondônia, {1, N, Norte}}}}|{110006, Vilhena, {1102, Ji-Paraná, {11, RO, Rondônia, {1, N, Norte}}}}      |\n",
      "|1100072|Corumbiara           |{11008, Colorado do Oeste, {1102, Leste Rondoniense, {11, RO, Rondônia, {1, N, Norte}}}}|{110006, Vilhena, {1102, Ji-Paraná, {11, RO, Rondônia, {1, N, Norte}}}}      |\n",
      "|1100080|Costa Marques        |{11002, Guajará-Mirim, {1101, Madeira-Guaporé, {11, RO, Rondônia, {1, N, Norte}}}}      |{110004, Ji-Paraná, {1102, Ji-Paraná, {11, RO, Rondônia, {1, N, Norte}}}}    |\n",
      "|1100098|Espigão D'Oeste      |{11006, Cacoal, {1102, Leste Rondoniense, {11, RO, Rondônia, {1, N, Norte}}}}           |{110005, Cacoal, {1102, Ji-Paraná, {11, RO, Rondônia, {1, N, Norte}}}}       |\n",
      "|1100106|Guajará-Mirim        |{11002, Guajará-Mirim, {1101, Madeira-Guaporé, {11, RO, Rondônia, {1, N, Norte}}}}      |{110001, Porto Velho, {1101, Porto Velho, {11, RO, Rondônia, {1, N, Norte}}}}|\n",
      "|1100114|Jaru                 |{11004, Ji-Paraná, {1102, Leste Rondoniense, {11, RO, Rondônia, {1, N, Norte}}}}        |{110003, Jaru, {1101, Porto Velho, {11, RO, Rondônia, {1, N, Norte}}}}       |\n",
      "|1100122|Ji-Paraná            |{11004, Ji-Paraná, {1102, Leste Rondoniense, {11, RO, Rondônia, {1, N, Norte}}}}        |{110004, Ji-Paraná, {1102, Ji-Paraná, {11, RO, Rondônia, {1, N, Norte}}}}    |\n",
      "+-------+---------------------+----------------------------------------------------------------------------------------+-----------------------------------------------------------------------------+\n",
      "only showing top 12 rows\n",
      "\n"
     ]
    }
   ],
   "source": [
    "df_municipio = spark.read.format('parquet').load('s3a://bronze/ibge/municipio')\n",
    "print(df_municipio.dtypes)\n",
    "print(df_municipio.count())\n",
    "df_municipio.show(12, False)"
   ]
  },
  {
   "cell_type": "code",
   "execution_count": 5,
   "id": "3f01774d-590e-47ff-9c76-2314b67c431e",
   "metadata": {},
   "outputs": [
    {
     "name": "stdout",
     "output_type": "stream",
     "text": [
      "[('id', 'bigint'), ('nome', 'string'), ('microrregiao', 'struct<id:bigint,nome:string,mesorregiao:struct<id:bigint,nome:string,UF:struct<id:int,sigla:string,nome:string,regiao:struct<id:int,sigla:string,nome:string>>>>'), ('regiao_imediata', 'struct<id:int,nome:string,regiao_intermediaria:struct<id:int,nome:string,UF:struct<id:int,sigla:string,nome:string,regiao:struct<id:int,sigla:string,nome:string>>>>')]\n",
      "5570\n",
      "+-------+---------------------+----------------------------------------------------------------------------------------+-----------------------------------------------------------------------------+\n",
      "|id     |nome                 |microrregiao                                                                            |regiao_imediata                                                              |\n",
      "+-------+---------------------+----------------------------------------------------------------------------------------+-----------------------------------------------------------------------------+\n",
      "|1100015|Alta Floresta D'Oeste|{11006, Cacoal, {1102, Leste Rondoniense, {11, RO, Rondônia, {1, N, Norte}}}}           |{110005, Cacoal, {1102, Ji-Paraná, {11, RO, Rondônia, {1, N, Norte}}}}       |\n",
      "|1100023|Ariquemes            |{11003, Ariquemes, {1102, Leste Rondoniense, {11, RO, Rondônia, {1, N, Norte}}}}        |{110002, Ariquemes, {1101, Porto Velho, {11, RO, Rondônia, {1, N, Norte}}}}  |\n",
      "|1100031|Cabixi               |{11008, Colorado do Oeste, {1102, Leste Rondoniense, {11, RO, Rondônia, {1, N, Norte}}}}|{110006, Vilhena, {1102, Ji-Paraná, {11, RO, Rondônia, {1, N, Norte}}}}      |\n",
      "|1100049|Cacoal               |{11006, Cacoal, {1102, Leste Rondoniense, {11, RO, Rondônia, {1, N, Norte}}}}           |{110005, Cacoal, {1102, Ji-Paraná, {11, RO, Rondônia, {1, N, Norte}}}}       |\n",
      "|1100056|Cerejeiras           |{11008, Colorado do Oeste, {1102, Leste Rondoniense, {11, RO, Rondônia, {1, N, Norte}}}}|{110006, Vilhena, {1102, Ji-Paraná, {11, RO, Rondônia, {1, N, Norte}}}}      |\n",
      "|1100064|Colorado do Oeste    |{11008, Colorado do Oeste, {1102, Leste Rondoniense, {11, RO, Rondônia, {1, N, Norte}}}}|{110006, Vilhena, {1102, Ji-Paraná, {11, RO, Rondônia, {1, N, Norte}}}}      |\n",
      "|1100072|Corumbiara           |{11008, Colorado do Oeste, {1102, Leste Rondoniense, {11, RO, Rondônia, {1, N, Norte}}}}|{110006, Vilhena, {1102, Ji-Paraná, {11, RO, Rondônia, {1, N, Norte}}}}      |\n",
      "|1100080|Costa Marques        |{11002, Guajará-Mirim, {1101, Madeira-Guaporé, {11, RO, Rondônia, {1, N, Norte}}}}      |{110004, Ji-Paraná, {1102, Ji-Paraná, {11, RO, Rondônia, {1, N, Norte}}}}    |\n",
      "|1100098|Espigão D'Oeste      |{11006, Cacoal, {1102, Leste Rondoniense, {11, RO, Rondônia, {1, N, Norte}}}}           |{110005, Cacoal, {1102, Ji-Paraná, {11, RO, Rondônia, {1, N, Norte}}}}       |\n",
      "|1100106|Guajará-Mirim        |{11002, Guajará-Mirim, {1101, Madeira-Guaporé, {11, RO, Rondônia, {1, N, Norte}}}}      |{110001, Porto Velho, {1101, Porto Velho, {11, RO, Rondônia, {1, N, Norte}}}}|\n",
      "|1100114|Jaru                 |{11004, Ji-Paraná, {1102, Leste Rondoniense, {11, RO, Rondônia, {1, N, Norte}}}}        |{110003, Jaru, {1101, Porto Velho, {11, RO, Rondônia, {1, N, Norte}}}}       |\n",
      "|1100122|Ji-Paraná            |{11004, Ji-Paraná, {1102, Leste Rondoniense, {11, RO, Rondônia, {1, N, Norte}}}}        |{110004, Ji-Paraná, {1102, Ji-Paraná, {11, RO, Rondônia, {1, N, Norte}}}}    |\n",
      "+-------+---------------------+----------------------------------------------------------------------------------------+-----------------------------------------------------------------------------+\n",
      "only showing top 12 rows\n",
      "\n"
     ]
    }
   ],
   "source": [
    "df_educacao = spark.read.format('parquet').load('s3a://bronze/inep/educacao_superior/indicadores_fluxo_educacao_superior')\n",
    "print(df_municipio.dtypes)\n",
    "print(df_municipio.count())\n",
    "df_municipio.show(5, False)"
   ]
  },
  {
   "cell_type": "markdown",
   "id": "95a7611a-d8d9-4ea6-9b34-e364cdbbef19",
   "metadata": {},
   "source": [
    "<b>Camada Bronze - bronze/ibge/estado</b>"
   ]
  },
  {
   "cell_type": "code",
   "execution_count": 12,
   "id": "207fb9ea-6a75-4127-8f81-f87eb0d4b18a",
   "metadata": {},
   "outputs": [
    {
     "name": "stdout",
     "output_type": "stream",
     "text": [
      "+---+--------+-------------+-----+\n",
      "|id |nome    |regiao       |sigla|\n",
      "+---+--------+-------------+-----+\n",
      "|11 |Rondônia|{Norte, N, 1}|RO   |\n",
      "|12 |Acre    |{Norte, N, 1}|AC   |\n",
      "|13 |Amazonas|{Norte, N, 1}|AM   |\n",
      "|14 |Roraima |{Norte, N, 1}|RR   |\n",
      "|15 |Pará    |{Norte, N, 1}|PA   |\n",
      "+---+--------+-------------+-----+\n",
      "only showing top 5 rows\n",
      "\n"
     ]
    }
   ],
   "source": [
    "df_estado = spark.read.format('parquet').load('s3a://bronze/ibge/estado')\n",
    "df_estado.show(5, False)"
   ]
  },
  {
   "cell_type": "markdown",
   "id": "0c59d06c-53c4-4886-a5eb-4b66b57cfd77",
   "metadata": {},
   "source": [
    "<b>Camada Bronze - bronze/ibge/municipio</b>"
   ]
  },
  {
   "cell_type": "code",
   "execution_count": 13,
   "id": "484795be-f14e-41c8-9cdc-2505b494f1cf",
   "metadata": {},
   "outputs": [
    {
     "name": "stdout",
     "output_type": "stream",
     "text": [
      "+-------+---------------------+----------------------------------------------------------------------------------------+---------------------------------------------------------------------------+\n",
      "|id     |nome                 |microrregiao                                                                            |regiao_imediata                                                            |\n",
      "+-------+---------------------+----------------------------------------------------------------------------------------+---------------------------------------------------------------------------+\n",
      "|1100015|Alta Floresta D'Oeste|{11006, Cacoal, {1102, Leste Rondoniense, {11, RO, Rondônia, {1, N, Norte}}}}           |{110005, Cacoal, {1102, Ji-Paraná, {11, RO, Rondônia, {1, N, Norte}}}}     |\n",
      "|1100023|Ariquemes            |{11003, Ariquemes, {1102, Leste Rondoniense, {11, RO, Rondônia, {1, N, Norte}}}}        |{110002, Ariquemes, {1101, Porto Velho, {11, RO, Rondônia, {1, N, Norte}}}}|\n",
      "|1100031|Cabixi               |{11008, Colorado do Oeste, {1102, Leste Rondoniense, {11, RO, Rondônia, {1, N, Norte}}}}|{110006, Vilhena, {1102, Ji-Paraná, {11, RO, Rondônia, {1, N, Norte}}}}    |\n",
      "|1100049|Cacoal               |{11006, Cacoal, {1102, Leste Rondoniense, {11, RO, Rondônia, {1, N, Norte}}}}           |{110005, Cacoal, {1102, Ji-Paraná, {11, RO, Rondônia, {1, N, Norte}}}}     |\n",
      "|1100056|Cerejeiras           |{11008, Colorado do Oeste, {1102, Leste Rondoniense, {11, RO, Rondônia, {1, N, Norte}}}}|{110006, Vilhena, {1102, Ji-Paraná, {11, RO, Rondônia, {1, N, Norte}}}}    |\n",
      "+-------+---------------------+----------------------------------------------------------------------------------------+---------------------------------------------------------------------------+\n",
      "only showing top 5 rows\n",
      "\n"
     ]
    }
   ],
   "source": [
    "df_municipio = spark.read.format('parquet').load('s3a://bronze/ibge/municipio')\n",
    "df_municipio.show(5, False)"
   ]
  },
  {
   "cell_type": "markdown",
   "id": "6e9f65bd-2192-4923-a145-077204fdad2b",
   "metadata": {},
   "source": [
    "<b>Camada Bronze - bronze/inep/educacao_superior/indicadores_fluxo_educacao_superior</b>"
   ]
  },
  {
   "cell_type": "code",
   "execution_count": 15,
   "id": "ba39adc6-667f-4fb6-9883-5b6106b205e5",
   "metadata": {},
   "outputs": [
    {
     "name": "stdout",
     "output_type": "stream",
     "text": [
      "+------+-----------------------------------+---------------------------+------------------------+--------+--------+---------+-----+------------+-----------------+--------------------+--------------+--------------+------------------+---------------------------------+---------------+-----------------+-----------------------+---------------------+-----------------------+----------------------------+--------------+--------------+-------------+--------------+-----------+------------------+------------------+------------------+------------------+------------------+\n",
      "|CO_IES|NO_IES                             |TP_CATEGORIA_ADMINISTRATIVA|TP_ORGANIZACAO_ACADEMICA|CO_CURSO|NO_CURSO|CO_REGIAO|CO_UF|CO_MUNICIPIO|TP_GRAU_ACADEMICO|TP_MODALIDADE_ENSINO|CO_CINE_ROTULO|NO_CINE_ROTULO|CO_CINE_AREA_GERAL|NO_CINE_AREA_GERAL               |NU_ANO_INGRESSO|NU_ANO_REFERENCIA|NU_PRAZO_INTEGRALIZACAO|NU_ANO_INTEGRALIZACAO|NU_PRAZO_ACOMPANHAMENTO|NU_ANO_MAXIMO_ACOMPANHAMENTO|QT_INGRESSANTE|QT_PERMANENCIA|QT_CONCLUINTE|QT_DESISTENCIA|QT_FALECIDO|TAP               |TCA               |TDA               |TCAN              |TADA              |\n",
      "+------+-----------------------------------+---------------------------+------------------------+--------+--------+---------+-----+------------+-----------------+--------------------+--------------+--------------+------------------+---------------------------------+---------------+-----------------+-----------------------+---------------------+-----------------------+----------------------------+--------------+--------------+-------------+--------------+-----------+------------------+------------------+------------------+------------------+------------------+\n",
      "|1     |UNIVERSIDADE FEDERAL DE MATO GROSSO|1                          |1                       |1       |DIREITO |5        |51   |5103403     |1                |1                   |0421D01       |Direito       |4                 |Negócios, administração e direito|2010           |2010             |6                      |2015                 |10                     |2019                        |107           |98            |1            |8             |0          |91.58878504672897 |0.9345794392523364|7.4766355140186915|0.9345794392523364|7.4766355140186915|\n",
      "|1     |UNIVERSIDADE FEDERAL DE MATO GROSSO|1                          |1                       |1       |DIREITO |5        |51   |5103403     |1                |1                   |0421D01       |Direito       |4                 |Negócios, administração e direito|2010           |2011             |6                      |2015                 |10                     |2019                        |107           |90            |0            |8             |0          |84.11214953271028 |0.9345794392523364|14.953271028037383|0.0               |7.4766355140186915|\n",
      "|1     |UNIVERSIDADE FEDERAL DE MATO GROSSO|1                          |1                       |1       |DIREITO |5        |51   |5103403     |1                |1                   |0421D01       |Direito       |4                 |Negócios, administração e direito|2010           |2012             |6                      |2015                 |10                     |2019                        |107           |87            |2            |1             |0          |81.30841121495327 |2.803738317757009 |15.88785046728972 |1.8691588785046729|0.9345794392523364|\n",
      "|1     |UNIVERSIDADE FEDERAL DE MATO GROSSO|1                          |1                       |1       |DIREITO |5        |51   |5103403     |1                |1                   |0421D01       |Direito       |4                 |Negócios, administração e direito|2010           |2013             |6                      |2015                 |10                     |2019                        |107           |83            |2            |2             |0          |77.57009345794393 |4.672897196261682 |17.757009345794394|1.8691588785046729|1.8691588785046729|\n",
      "|1     |UNIVERSIDADE FEDERAL DE MATO GROSSO|1                          |1                       |1       |DIREITO |5        |51   |5103403     |1                |1                   |0421D01       |Direito       |4                 |Negócios, administração e direito|2010           |2014             |6                      |2015                 |10                     |2019                        |107           |27            |54           |2             |0          |25.233644859813083|55.14018691588785 |19.626168224299064|50.467289719626166|1.8691588785046729|\n",
      "+------+-----------------------------------+---------------------------+------------------------+--------+--------+---------+-----+------------+-----------------+--------------------+--------------+--------------+------------------+---------------------------------+---------------+-----------------+-----------------------+---------------------+-----------------------+----------------------------+--------------+--------------+-------------+--------------+-----------+------------------+------------------+------------------+------------------+------------------+\n",
      "only showing top 5 rows\n",
      "\n"
     ]
    }
   ],
   "source": [
    "df_educacao = spark.read.format('parquet')\\\n",
    " .load('s3a://bronze/inep/educacao_superior/indicadores_fluxo_educacao_superior')\n",
    "df_educacao.show(5, False)"
   ]
  }
 ],
 "metadata": {
  "kernelspec": {
   "display_name": "Python 3 (ipykernel)",
   "language": "python",
   "name": "python3"
  },
  "language_info": {
   "codemirror_mode": {
    "name": "ipython",
    "version": 3
   },
   "file_extension": ".py",
   "mimetype": "text/x-python",
   "name": "python",
   "nbconvert_exporter": "python",
   "pygments_lexer": "ipython3",
   "version": "3.10.5"
  }
 },
 "nbformat": 4,
 "nbformat_minor": 5
}
