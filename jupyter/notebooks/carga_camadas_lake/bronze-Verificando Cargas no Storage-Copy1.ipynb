{
 "cells": [
  {
   "cell_type": "code",
   "execution_count": 1,
   "id": "14055cc5-0d25-488d-8df8-f27dd4879a80",
   "metadata": {},
   "outputs": [
    {
     "data": {
      "text/html": [
       "<style>pre { white-space: pre !important; }</style>"
      ],
      "text/plain": [
       "<IPython.core.display.HTML object>"
      ]
     },
     "metadata": {},
     "output_type": "display_data"
    }
   ],
   "source": [
    "from pyspark.sql.types import *\n",
    "from pyspark.sql.window import Window\n",
    "import pyspark.sql.functions as fn\n",
    "from pyspark.sql import SparkSession\n",
    "from IPython.core.display import HTML\n",
    "display(HTML(\"<style>pre { white-space: pre !important; }</style>\"))"
   ]
  },
  {
   "cell_type": "code",
   "execution_count": 2,
   "id": "57a6a529-163a-428b-892e-643051efe946",
   "metadata": {},
   "outputs": [],
   "source": [
    "spark = (SparkSession.builder\n",
    "         .config(\"spark.jars\",\"\"\"/home/jovyan/jars/aws-java-sdk-core-1.11.534.jar,\n",
    "                                 /home/jovyan/jars/aws-java-sdk-dynamodb-1.11.534.jar,\n",
    "                                 /home/jovyan/jars/aws-java-sdk-s3-1.11.534.jar,\n",
    "                                 /home/jovyan/jars/hadoop-aws-3.2.2.jar\"\"\")\n",
    "         .config(\"spark.hadoop.fs.s3a.endpoint\", \"http://minio:9000\")\n",
    "         .config(\"spark.hadoop.fs.s3a.access.key\", \"aulafia\")\n",
    "         .config(\"spark.hadoop.fs.s3a.secret.key\", \"aulafia@123\")\n",
    "         .config(\"spark.hadoop.fs.s3a.path.style.access\", True)\n",
    "         .config(\"spark.hadoop.fs.s3a.impl\", \"org.apache.hadoop.fs.s3a.S3AFileSystem\")\n",
    "         .config(\"spark.hadoop.fs.s3a.aws.credentials.provider\", \"org.apache.hadoop.fs.s3a.SimpleAWSCredentialsProvider\")\n",
    "         .getOrCreate()\n",
    "        )"
   ]
  },
  {
   "cell_type": "code",
   "execution_count": 3,
   "id": "80234134-352d-47bb-8989-b5e9c7cbec74",
   "metadata": {},
   "outputs": [
    {
     "name": "stdout",
     "output_type": "stream",
     "text": [
      "[('id', 'string'), ('nome', 'string'), ('regiao', 'struct<nome:string,sigla:string,id:string>'), ('sigla', 'string')]\n",
      "27\n",
      "+---+-------------------+-----------------+-----+\n",
      "|id |nome               |regiao           |sigla|\n",
      "+---+-------------------+-----------------+-----+\n",
      "|11 |Rondônia           |{Norte, N, 1}    |RO   |\n",
      "|12 |Acre               |{Norte, N, 1}    |AC   |\n",
      "|13 |Amazonas           |{Norte, N, 1}    |AM   |\n",
      "|14 |Roraima            |{Norte, N, 1}    |RR   |\n",
      "|15 |Pará               |{Norte, N, 1}    |PA   |\n",
      "|16 |Amapá              |{Norte, N, 1}    |AP   |\n",
      "|17 |Tocantins          |{Norte, N, 1}    |TO   |\n",
      "|21 |Maranhão           |{Nordeste, NE, 2}|MA   |\n",
      "|22 |Piauí              |{Nordeste, NE, 2}|PI   |\n",
      "|23 |Ceará              |{Nordeste, NE, 2}|CE   |\n",
      "|24 |Rio Grande do Norte|{Nordeste, NE, 2}|RN   |\n",
      "|25 |Paraíba            |{Nordeste, NE, 2}|PB   |\n",
      "+---+-------------------+-----------------+-----+\n",
      "only showing top 12 rows\n",
      "\n"
     ]
    }
   ],
   "source": [
    "df_estado = spark.read.format('parquet').load('s3a://bronze/ibge/estado')\n",
    "print(df_estado.dtypes)\n",
    "print(df_estado.count())\n",
    "df_estado.show(12, False)"
   ]
  },
  {
   "cell_type": "code",
   "execution_count": 4,
   "id": "f7ed6b5f-948d-4e4b-b6b2-b6866a58f391",
   "metadata": {},
   "outputs": [
    {
     "name": "stdout",
     "output_type": "stream",
     "text": [
      "[('id', 'bigint'), ('nome', 'string'), ('microrregiao', 'struct<id:bigint,nome:string,mesorregiao:struct<id:bigint,nome:string,UF:struct<id:int,sigla:string,nome:string,regiao:struct<id:int,sigla:string,nome:string>>>>'), ('regiao_imediata', 'struct<id:int,nome:string,regiao_intermediaria:struct<id:int,nome:string,UF:struct<id:int,sigla:string,nome:string,regiao:struct<id:int,sigla:string,nome:string>>>>')]\n",
      "5570\n",
      "+-------+---------------------+----------------------------------------------------------------------------------------+-----------------------------------------------------------------------------+\n",
      "|id     |nome                 |microrregiao                                                                            |regiao_imediata                                                              |\n",
      "+-------+---------------------+----------------------------------------------------------------------------------------+-----------------------------------------------------------------------------+\n",
      "|1100015|Alta Floresta D'Oeste|{11006, Cacoal, {1102, Leste Rondoniense, {11, RO, Rondônia, {1, N, Norte}}}}           |{110005, Cacoal, {1102, Ji-Paraná, {11, RO, Rondônia, {1, N, Norte}}}}       |\n",
      "|1100023|Ariquemes            |{11003, Ariquemes, {1102, Leste Rondoniense, {11, RO, Rondônia, {1, N, Norte}}}}        |{110002, Ariquemes, {1101, Porto Velho, {11, RO, Rondônia, {1, N, Norte}}}}  |\n",
      "|1100031|Cabixi               |{11008, Colorado do Oeste, {1102, Leste Rondoniense, {11, RO, Rondônia, {1, N, Norte}}}}|{110006, Vilhena, {1102, Ji-Paraná, {11, RO, Rondônia, {1, N, Norte}}}}      |\n",
      "|1100049|Cacoal               |{11006, Cacoal, {1102, Leste Rondoniense, {11, RO, Rondônia, {1, N, Norte}}}}           |{110005, Cacoal, {1102, Ji-Paraná, {11, RO, Rondônia, {1, N, Norte}}}}       |\n",
      "|1100056|Cerejeiras           |{11008, Colorado do Oeste, {1102, Leste Rondoniense, {11, RO, Rondônia, {1, N, Norte}}}}|{110006, Vilhena, {1102, Ji-Paraná, {11, RO, Rondônia, {1, N, Norte}}}}      |\n",
      "|1100064|Colorado do Oeste    |{11008, Colorado do Oeste, {1102, Leste Rondoniense, {11, RO, Rondônia, {1, N, Norte}}}}|{110006, Vilhena, {1102, Ji-Paraná, {11, RO, Rondônia, {1, N, Norte}}}}      |\n",
      "|1100072|Corumbiara           |{11008, Colorado do Oeste, {1102, Leste Rondoniense, {11, RO, Rondônia, {1, N, Norte}}}}|{110006, Vilhena, {1102, Ji-Paraná, {11, RO, Rondônia, {1, N, Norte}}}}      |\n",
      "|1100080|Costa Marques        |{11002, Guajará-Mirim, {1101, Madeira-Guaporé, {11, RO, Rondônia, {1, N, Norte}}}}      |{110004, Ji-Paraná, {1102, Ji-Paraná, {11, RO, Rondônia, {1, N, Norte}}}}    |\n",
      "|1100098|Espigão D'Oeste      |{11006, Cacoal, {1102, Leste Rondoniense, {11, RO, Rondônia, {1, N, Norte}}}}           |{110005, Cacoal, {1102, Ji-Paraná, {11, RO, Rondônia, {1, N, Norte}}}}       |\n",
      "|1100106|Guajará-Mirim        |{11002, Guajará-Mirim, {1101, Madeira-Guaporé, {11, RO, Rondônia, {1, N, Norte}}}}      |{110001, Porto Velho, {1101, Porto Velho, {11, RO, Rondônia, {1, N, Norte}}}}|\n",
      "|1100114|Jaru                 |{11004, Ji-Paraná, {1102, Leste Rondoniense, {11, RO, Rondônia, {1, N, Norte}}}}        |{110003, Jaru, {1101, Porto Velho, {11, RO, Rondônia, {1, N, Norte}}}}       |\n",
      "|1100122|Ji-Paraná            |{11004, Ji-Paraná, {1102, Leste Rondoniense, {11, RO, Rondônia, {1, N, Norte}}}}        |{110004, Ji-Paraná, {1102, Ji-Paraná, {11, RO, Rondônia, {1, N, Norte}}}}    |\n",
      "+-------+---------------------+----------------------------------------------------------------------------------------+-----------------------------------------------------------------------------+\n",
      "only showing top 12 rows\n",
      "\n"
     ]
    }
   ],
   "source": [
    "df_municipio = spark.read.format('parquet').load('s3a://bronze/ibge/municipio')\n",
    "print(df_municipio.dtypes)\n",
    "print(df_municipio.count())\n",
    "df_municipio.show(12, False)"
   ]
  },
  {
   "cell_type": "code",
   "execution_count": null,
   "id": "3f01774d-590e-47ff-9c76-2314b67c431e",
   "metadata": {},
   "outputs": [],
   "source": [
    "df_educacao = spark.read.format('parquet').load('s3a://bronze/inep/educacao_superior/indicadores_fluxo_educacao_superior')\n",
    "print(df_municipio.dtypes)\n",
    "print(df_municipio.count())\n",
    "df_municipio.show(12, False)"
   ]
  }
 ],
 "metadata": {
  "kernelspec": {
   "display_name": "Python 3 (ipykernel)",
   "language": "python",
   "name": "python3"
  },
  "language_info": {
   "codemirror_mode": {
    "name": "ipython",
    "version": 3
   },
   "file_extension": ".py",
   "mimetype": "text/x-python",
   "name": "python",
   "nbconvert_exporter": "python",
   "pygments_lexer": "ipython3",
   "version": "3.10.5"
  }
 },
 "nbformat": 4,
 "nbformat_minor": 5
}
