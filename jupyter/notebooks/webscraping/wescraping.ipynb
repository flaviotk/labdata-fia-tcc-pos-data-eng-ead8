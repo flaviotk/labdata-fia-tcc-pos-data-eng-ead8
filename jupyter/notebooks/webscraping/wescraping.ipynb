{
 "cells": [
  {
   "cell_type": "code",
   "execution_count": 1,
   "id": "ffb52a9a-16a0-47e5-bd96-be7af306019c",
   "metadata": {},
   "outputs": [],
   "source": [
    "import pandas as pd\n",
    "import numpy as np\n",
    "import zipfile\n",
    "import requests\n",
    "import os\n",
    "import glob\n",
    "from os import chdir, getcwd, listdir\n",
    "from io import BytesIO\n",
    "\n",
    "from pyspark.sql.types import *\n",
    "import pyspark.sql.functions as fn\n",
    "from pyspark.sql import SparkSession\n",
    "\n",
    "#-------------------------------\n",
    "# bibliotecas webscraping\n",
    "import urllib3\n",
    "from bs4 import BeautifulSoup\n",
    "\n",
    "urllib3.disable_warnings()\n",
    "\n",
    "spark = (SparkSession.builder\n",
    "         .config(\"spark.jars\",\"\"\"/home/jovyan/jars/aws-java-sdk-core-1.11.534.jar,\n",
    "                                 /home/jovyan/jars/aws-java-sdk-dynamodb-1.11.534.jar,\n",
    "                                 /home/jovyan/jars/aws-java-sdk-s3-1.11.534.jar,\n",
    "                                 /home/jovyan/jars/hadoop-aws-3.2.2.jar\"\"\")\n",
    "         .config(\"spark.hadoop.fs.s3a.endpoint\", \"http://minio:9000\")\n",
    "         .config(\"spark.hadoop.fs.s3a.access.key\", \"aulafia\")\n",
    "         .config(\"spark.hadoop.fs.s3a.secret.key\", \"aulafia@123\")\n",
    "         .config(\"spark.hadoop.fs.s3a.path.style.access\", True)\n",
    "         .config(\"spark.hadoop.fs.s3a.impl\", \"org.apache.hadoop.fs.s3a.S3AFileSystem\")\n",
    "         .config(\"spark.hadoop.fs.s3a.aws.credentials.provider\", \"org.apache.hadoop.fs.s3a.SimpleAWSCredentialsProvider\")\n",
    "         .getOrCreate()\n",
    "        )\n",
    "\n",
    "url = 'https://www.gov.br/inep/pt-br/acesso-a-informacao/dados-abertos/indicadores-educacionais/indicadores-de-fluxo-da-educacao-superior/2010-2019'\n",
    "folder = 'indicadores_fluxo_educacao_superior'\n",
    "path = '/tmp/'"
   ]
  },
  {
   "cell_type": "code",
   "execution_count": null,
   "id": "0e8c1067-bece-46fd-b0c2-fb56c796ba8e",
   "metadata": {},
   "outputs": [],
   "source": [
    "print('============ ============ ============ ============ ============ ============ ============ ============ ============')\n",
    "print('============ Criando diretório para armazenar o conteúdo do INEP ============')\n",
    "print('============ ============ ============ ============ ============ ============ ============ ============ ============')\n",
    "os.makedirs(folder, exist_ok=True)\n",
    "\n",
    "print('============ ============ ============ ============ ============ ============ ============ ============ ============')\n",
    "print('============ Efetuando busca webscraping da URL de download do arquivo ZIP ============')\n",
    "print('============ ============ ============ ============ ============ ============ ============ ============ ============')\n",
    "conexao = urllib3.PoolManager()\n",
    "retorno = conexao.request('GET', url)\n",
    "\n",
    "pagina = BeautifulSoup(retorno.data,\"html.parser\")\n",
    "\n",
    "dado = []\n",
    "for link in pagina.find_all('a',class_ = 'external-link'):\n",
    "    dado.append(link.get('href'))\n",
    "\n",
    "url_download = str(dado[0])\n",
    "\n",
    "print('============ ============ ============ ============ ============ ============ ============ ============ ============')\n",
    "print('============ Efetuando download do arquivo Zip ============')\n",
    "print('============ ============ ============ ============ ============ ============ ============ ============ ============')\n",
    "# Desabilitar temporariamente a verificação SSL\n",
    "response = requests.get(url_download, verify=False)\n",
    "filebytes = BytesIO(response.content)\n",
    "\n",
    "print('============ ============ ============ ============ ============ ============ ============ ============ ============')\n",
    "print('============ Descompactando arquivo Zip no Lake ============')\n",
    "print('============ ============ ============ ============ ============ ============ ============ ============ ============')\n",
    "\n",
    "myzip = zipfile.ZipFile(filebytes)\n",
    "myzip.extractall(path + folder)\n",
    "print('============ ============ ============ ============ ============ ============ ============ ============ ============')\n",
    "print('============ Descompactação efetuada ============')\n",
    "print('============ ============ ============ ============ ============ ============ ============ ============ ============')\n",
    "\n",
    "chdir(path + folder)\n",
    "print(getcwd())\n",
    "for c in listdir():\n",
    "    print(c)"
   ]
  },
  {
   "cell_type": "code",
   "execution_count": null,
   "id": "e4a133e5-e8ea-438b-a7ba-0d32caa423ab",
   "metadata": {},
   "outputs": [],
   "source": [
    "# arquivo = url_download.split('/')[-1]\n",
    "# print(arquivo)\n",
    "# type(arquivo)"
   ]
  },
  {
   "cell_type": "code",
   "execution_count": null,
   "id": "e0989693-36b6-4be7-af30-3daf72de9f96",
   "metadata": {},
   "outputs": [],
   "source": [
    "# pip install openpyxl"
   ]
  },
  {
   "cell_type": "code",
   "execution_count": null,
   "id": "3db57a1a-eda8-441a-8c80-9b99a34a6bdd",
   "metadata": {},
   "outputs": [],
   "source": [
    "# targetPattern = r\"/tmp/indicadores_fluxo_educacao_superior/*.xlsx\"\n",
    "# file = str(glob.glob(targetPattern)).replace(\"['\",\"\").replace(\"']\",\"\")\n",
    "# print(file)"
   ]
  },
  {
   "cell_type": "code",
   "execution_count": 2,
   "id": "01c87eca-dabe-4fa6-a373-2d6a1dbdd6a8",
   "metadata": {},
   "outputs": [
    {
     "name": "stdout",
     "output_type": "stream",
     "text": [
      "============ ============ ============ ============ ============ ============ ============ ============ ============\n",
      "============ Efetuando Busca do nome do Arquivo XLSX ============\n",
      "============ ============ ============ ============ ============ ============ ============ ============ ============\n",
      "Arquivo: /tmp/indicadores_fluxo_educacao_superior/indicadores_trajetoria_educacao_superior_2010_2019.xlsx\n",
      "============ ============ ============ ============ ============ ============ ============ ============ ============\n",
      "============ Carregando Dataframe com os dados do Excel ============\n",
      "============ ============ ============ ============ ============ ============ ============ ============ ============\n"
     ]
    }
   ],
   "source": [
    "print('============ ============ ============ ============ ============ ============ ============ ============ ============')\n",
    "print('============ Efetuando Busca do nome do Arquivo XLSX ============')\n",
    "print('============ ============ ============ ============ ============ ============ ============ ============ ============')\n",
    "\n",
    "targetPattern = r\"{path}{folder}/*.xlsx\".format(path=path, folder=folder)\n",
    "file = str(glob.glob(targetPattern)).replace(\"['\",\"\").replace(\"']\",\"\")\n",
    "print(\"Arquivo:\", file)\n",
    "\n",
    "print('============ ============ ============ ============ ============ ============ ============ ============ ============')\n",
    "print('============ Carregando Dataframe com os dados do Excel ============')\n",
    "print('============ ============ ============ ============ ============ ============ ============ ============ ============')\n",
    "\n",
    "df = pd.read_excel(file, usecols= 'A:AE', skiprows= lambda x: x < 8 or x > 259238, sheet_name='INDICADORES_TRAJETORIA' )"
   ]
  },
  {
   "cell_type": "code",
   "execution_count": null,
   "id": "fb454e04-5482-42cf-8659-98672d0aa027",
   "metadata": {},
   "outputs": [],
   "source": [
    "df.head()"
   ]
  },
  {
   "cell_type": "code",
   "execution_count": null,
   "id": "3de2c4dc-1a23-436b-a288-e3da6d995189",
   "metadata": {},
   "outputs": [],
   "source": [
    "print('============ ============ ============ ============ ============ ============ ============ ============ ============')\n",
    "print('============ Convertendo Dataframe para SPARK ============')\n",
    "print('============ ============ ============ ============ ============ ============ ============ ============ ============')\n",
    "\n",
    "sparkDF=spark.createDataFrame(df) \n",
    "# sparkDF.printSchema()\n",
    "# sparkDF.show()"
   ]
  },
  {
   "cell_type": "code",
   "execution_count": null,
   "id": "9cd3bfd6-fca7-4657-ad30-43d350e80067",
   "metadata": {},
   "outputs": [],
   "source": [
    "from IPython.core.display import HTML\n",
    "display(HTML(\"<style>pre { white-space: pre !important; }</style>\"))"
   ]
  },
  {
   "cell_type": "code",
   "execution_count": null,
   "id": "fcbc52f7-d853-4951-b2fe-974d667c5dd4",
   "metadata": {},
   "outputs": [],
   "source": [
    "sparkDF.show()"
   ]
  },
  {
   "cell_type": "code",
   "execution_count": null,
   "id": "61b2c6fe-cf2e-42c3-84ae-2d656d6724e6",
   "metadata": {},
   "outputs": [],
   "source": [
    "import pyspark.sql.functions as fn"
   ]
  },
  {
   "cell_type": "code",
   "execution_count": 3,
   "id": "9807c727-9f42-44d2-b31c-9901cd8955f8",
   "metadata": {},
   "outputs": [
    {
     "data": {
      "text/plain": [
       "CO_IES                             0\n",
       "NO_IES                             0\n",
       "TP_CATEGORIA_ADMINISTRATIVA        0\n",
       "TP_ORGANIZACAO_ACADEMICA           0\n",
       "CO_CURSO                           0\n",
       "NO_CURSO                           0\n",
       "CO_REGIAO                       6970\n",
       "CO_UF                           6970\n",
       "CO_MUNICIPIO                    6970\n",
       "TP_GRAU_ACADEMICO                  0\n",
       "TP_MODALIDADE_ENSINO               0\n",
       "CO_CINE_ROTULO                     0\n",
       "NO_CINE_ROTULO                     0\n",
       "CO_CINE_AREA_GERAL                 0\n",
       "NO_CINE_AREA_GERAL                 0\n",
       "NU_ANO_INGRESSO                    0\n",
       "NU_ANO_REFERENCIA                  0\n",
       "NU_PRAZO_INTEGRALIZACAO            0\n",
       "NU_ANO_INTEGRALIZACAO              0\n",
       "NU_PRAZO_ACOMPANHAMENTO            0\n",
       "NU_ANO_MAXIMO_ACOMPANHAMENTO       0\n",
       "QT_INGRESSANTE                     0\n",
       "QT_PERMANENCIA                     0\n",
       "QT_CONCLUINTE                      0\n",
       "QT_DESISTENCIA                     0\n",
       "QT_FALECIDO                        0\n",
       "TAP                                0\n",
       "TCA                                0\n",
       "TDA                                0\n",
       "TCAN                               0\n",
       "TADA                               0\n",
       "dtype: int64"
      ]
     },
     "execution_count": 3,
     "metadata": {},
     "output_type": "execute_result"
    }
   ],
   "source": [
    "df.isnull().sum()"
   ]
  },
  {
   "cell_type": "code",
   "execution_count": 12,
   "id": "88d955be-9c0f-4edb-83d1-ac217cf920d0",
   "metadata": {},
   "outputs": [
    {
     "data": {
      "text/plain": [
       "6970"
      ]
     },
     "execution_count": 12,
     "metadata": {},
     "output_type": "execute_result"
    }
   ],
   "source": [
    "# print(df['CO_UF'].unique())\n",
    "df['CO_UF'].isna().sum()"
   ]
  },
  {
   "cell_type": "code",
   "execution_count": null,
   "id": "0a11c7ca-6f8f-4032-9e95-e862cd34107b",
   "metadata": {},
   "outputs": [],
   "source": [
    "DFAjusteTipoDado = (sparkDF\n",
    "    .select(fn.col('CO_IES').cast('bigint').alias('CO_IES'),\n",
    "            fn.col('NO_IES').cast('string').alias('NO_IES'),\n",
    "            fn.col('TP_CATEGORIA_ADMINISTRATIVA').cast('int').alias('TP_CATEGORIA_ADMINISTRATIVA'),\n",
    "            fn.col('TP_ORGANIZACAO_ACADEMICA').cast('int').alias('TP_ORGANIZACAO_ACADEMICA'),\n",
    "            fn.col('CO_CURSO').cast('bigint').alias('CO_CURSO'),\n",
    "            fn.col('NO_CURSO').cast('string').alias('NO_CURSO'),\n",
    "            fn.when(fn.trim(fn.col('CO_REGIAO')) == 'NaN', None).otherwise(fn.col('CO_REGIAO')).cast('int').alias('CO_REGIAO'),\n",
    "            fn.when(fn.trim(fn.col('CO_UF')) == 'NaN', None).otherwise(fn.col('CO_UF')).cast('int').alias('CO_UF'),\n",
    "            fn.when(fn.trim(fn.col('CO_MUNICIPIO')) == 'NaN', None).otherwise(fn.col('CO_MUNICIPIO')).cast('bigint').alias('CO_MUNICIPIO'),\n",
    "            fn.col('TP_GRAU_ACADEMICO').cast('int').alias('TP_GRAU_ACADEMICO'),\n",
    "            fn.col('TP_MODALIDADE_ENSINO').cast('int').alias('TP_MODALIDADE_ENSINO'),\n",
    "            fn.col('CO_CINE_ROTULO').cast('string').alias('CO_CINE_ROTULO'),\n",
    "            fn.col('NO_CINE_ROTULO').cast('string').alias('NO_CINE_ROTULO'),\n",
    "            fn.col('CO_CINE_AREA_GERAL').cast('int').alias('CO_CINE_AREA_GERAL'),\n",
    "            fn.col('NO_CINE_AREA_GERAL').cast('string').alias('NO_CINE_AREA_GERAL'),\n",
    "            fn.col('NU_ANO_INGRESSO').cast('int').alias('NU_ANO_INGRESSO'),\n",
    "            fn.col('NU_ANO_REFERENCIA').cast('int').alias('NU_ANO_REFERENCIA'),\n",
    "            fn.col('NU_PRAZO_INTEGRALIZACAO').cast('int').alias('NU_PRAZO_INTEGRALIZACAO'),\n",
    "            fn.col('NU_ANO_INTEGRALIZACAO').cast('int').alias('NU_ANO_INTEGRALIZACAO'),\n",
    "            fn.col('NU_PRAZO_ACOMPANHAMENTO').cast('int').alias('NU_PRAZO_ACOMPANHAMENTO'),\n",
    "            fn.col('NU_ANO_MAXIMO_ACOMPANHAMENTO').cast('int').alias('NU_ANO_MAXIMO_ACOMPANHAMENTO'),\n",
    "            fn.col('QT_INGRESSANTE').cast('bigint').alias('QT_INGRESSANTE'),\n",
    "            fn.col('QT_PERMANENCIA').cast('bigint').alias('QT_PERMANENCIA'),\n",
    "            fn.col('QT_CONCLUINTE').cast('bigint').alias('QT_CONCLUINTE'),\n",
    "            fn.col('QT_DESISTENCIA').cast('bigint').alias('QT_DESISTENCIA'),\n",
    "            fn.col('QT_FALECIDO').cast('bigint').alias('QT_FALECIDO'),\n",
    "            fn.col('TAP').cast('double').alias('TAP'),\n",
    "            fn.col('TCA').cast('double').alias('TCA'),\n",
    "            fn.col('TDA').cast('double').alias('TDA'),\n",
    "            fn.col('TCAN').cast('double').alias('TCAN'),\n",
    "            fn.col('TADA').cast('double').alias('TADA')\n",
    "           )\n",
    ")\n",
    "\n"
   ]
  },
  {
   "cell_type": "code",
   "execution_count": null,
   "id": "07381809-e950-4cb8-ba0c-8864e95c892e",
   "metadata": {},
   "outputs": [],
   "source": [
    "DFAjusteTipoDado.groupBy(fn.col('CO_MUNICIPIO').isNull()).agg(fn.count('*')).show(100, False)"
   ]
  },
  {
   "cell_type": "code",
   "execution_count": null,
   "id": "2dcead7e-badf-448e-bf66-8355c63e768a",
   "metadata": {},
   "outputs": [],
   "source": []
  },
  {
   "cell_type": "code",
   "execution_count": null,
   "id": "2dff56cb-9b28-48da-9c7e-36394d71b8d0",
   "metadata": {},
   "outputs": [],
   "source": [
    "print('============ ============ ============ ============ ============ ============ ============ ============ ============')\n",
    "print('============ Gravando Dados na Camada BRONZE  ============')\n",
    "print('============ ============ ============ ============ ============ ============ ============ ============ ============')\n",
    "\n",
    "(sparkDF\n",
    " .write\n",
    " .format('parquet')\n",
    " .mode('overwrite')\n",
    " .save('s3a://bronze/teste/indicadores_fluxo_educacao_superior')\n",
    " )"
   ]
  },
  {
   "cell_type": "code",
   "execution_count": null,
   "id": "84a25279-b831-4cb7-a294-c8db9a47d651",
   "metadata": {},
   "outputs": [],
   "source": [
    "# sparkDF.printSchema()"
   ]
  },
  {
   "cell_type": "code",
   "execution_count": null,
   "id": "a8a4adcb-6851-4286-ad5f-b1e5b21f27b3",
   "metadata": {},
   "outputs": [],
   "source": [
    "print('============ ============ ============ ============ ============ ============ ============ ============ ============')\n",
    "print('============ Carregando Dataframe a partir do Arquivo Parquet ============')\n",
    "print('============ ============ ============ ============ ============ ============ ============ ============ ============')\n",
    "\n",
    "dfIndicador = (spark.read.format('parquet')\n",
    "             .load('s3a://landing/indicadores_fluxo_educacao_superior'))"
   ]
  },
  {
   "cell_type": "code",
   "execution_count": null,
   "id": "3c2bd174-603c-4092-9efd-7285b282e515",
   "metadata": {},
   "outputs": [],
   "source": [
    "print('============ ============ ============ ============ ============ ============ ============ ============ ============')\n",
    "print('============ Evidência de Gravação ============')\n",
    "print('============ ============ ============ ============ ============ ============ ============ ============ ============')\n",
    "\n",
    "dfIndicador.show(5, False)"
   ]
  },
  {
   "cell_type": "code",
   "execution_count": null,
   "id": "7a8467de-f3e3-40d9-9da2-c82a8d24ae5c",
   "metadata": {},
   "outputs": [],
   "source": [
    "print(\"Total de registros Carregados no Arquivo Parquet:\", dfIndicador.count())"
   ]
  },
  {
   "cell_type": "code",
   "execution_count": null,
   "id": "70dad6ea-0952-49b0-8671-68b6c4ae293a",
   "metadata": {},
   "outputs": [],
   "source": []
  }
 ],
 "metadata": {
  "kernelspec": {
   "display_name": "Python 3 (ipykernel)",
   "language": "python",
   "name": "python3"
  },
  "language_info": {
   "codemirror_mode": {
    "name": "ipython",
    "version": 3
   },
   "file_extension": ".py",
   "mimetype": "text/x-python",
   "name": "python",
   "nbconvert_exporter": "python",
   "pygments_lexer": "ipython3",
   "version": "3.10.5"
  }
 },
 "nbformat": 4,
 "nbformat_minor": 5
}
