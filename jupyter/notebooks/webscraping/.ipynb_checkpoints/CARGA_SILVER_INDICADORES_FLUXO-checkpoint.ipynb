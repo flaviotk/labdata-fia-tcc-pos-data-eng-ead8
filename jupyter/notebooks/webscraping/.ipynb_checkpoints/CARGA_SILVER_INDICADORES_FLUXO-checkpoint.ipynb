{
 "cells": [
  {
   "cell_type": "code",
   "execution_count": 1,
   "id": "c3755299-b6a0-4b00-b53d-333374e6396f",
   "metadata": {},
   "outputs": [
    {
     "data": {
      "text/html": [
       "<style>pre { white-space: pre !important; }</style>"
      ],
      "text/plain": [
       "<IPython.core.display.HTML object>"
      ]
     },
     "metadata": {},
     "output_type": "display_data"
    }
   ],
   "source": [
    "from pyspark.sql.types import *\n",
    "from pyspark.sql.window import Window\n",
    "import pyspark.sql.functions as fn\n",
    "from pyspark.sql import SparkSession\n",
    "from IPython.core.display import HTML\n",
    "display(HTML(\"<style>pre { white-space: pre !important; }</style>\"))"
   ]
  },
  {
   "cell_type": "code",
   "execution_count": 2,
   "id": "c5ba4c08-3899-4731-b516-5ee714e1fc34",
   "metadata": {},
   "outputs": [],
   "source": [
    "spark = (SparkSession.builder\n",
    "         .config(\"spark.jars\",\"\"\"/home/jovyan/jars/aws-java-sdk-core-1.11.534.jar,\n",
    "                                 /home/jovyan/jars/aws-java-sdk-dynamodb-1.11.534.jar,\n",
    "                                 /home/jovyan/jars/aws-java-sdk-s3-1.11.534.jar,\n",
    "                                 /home/jovyan/jars/hadoop-aws-3.2.2.jar\"\"\")\n",
    "         .config(\"spark.hadoop.fs.s3a.endpoint\", \"http://minio:9000\")\n",
    "         .config(\"spark.hadoop.fs.s3a.access.key\", \"aulafia\")\n",
    "         .config(\"spark.hadoop.fs.s3a.secret.key\", \"aulafia@123\")\n",
    "         .config(\"spark.hadoop.fs.s3a.path.style.access\", True)\n",
    "         .config(\"spark.hadoop.fs.s3a.impl\", \"org.apache.hadoop.fs.s3a.S3AFileSystem\")\n",
    "         .config(\"spark.hadoop.fs.s3a.aws.credentials.provider\", \"org.apache.hadoop.fs.s3a.SimpleAWSCredentialsProvider\")\n",
    "         .getOrCreate()\n",
    "        )"
   ]
  },
  {
   "cell_type": "code",
   "execution_count": 3,
   "id": "ec82d376-0572-463a-a7ef-cf119e4cf940",
   "metadata": {},
   "outputs": [
    {
     "name": "stdout",
     "output_type": "stream",
     "text": [
      "+---------+-----------+------------+---------+-----------+------------+\n",
      "|estado_id|estado_nome|estado_sigla|regiao_id|regiao_nome|regiao_sigla|\n",
      "+---------+-----------+------------+---------+-----------+------------+\n",
      "|11       |Rondônia   |RO          |1        |Norte      |N           |\n",
      "|12       |Acre       |AC          |1        |Norte      |N           |\n",
      "|13       |Amazonas   |AM          |1        |Norte      |N           |\n",
      "|14       |Roraima    |RR          |1        |Norte      |N           |\n",
      "|15       |Pará       |PA          |1        |Norte      |N           |\n",
      "+---------+-----------+------------+---------+-----------+------------+\n",
      "only showing top 5 rows\n",
      "\n"
     ]
    }
   ],
   "source": [
    "df_estado = spark.read.format('parquet').load('s3a://silver/dado_geografico/estado')\n",
    "# df_estado.printSchema()\n",
    "df_estado.show(5, False)"
   ]
  },
  {
   "cell_type": "code",
   "execution_count": 4,
   "id": "5cbde827-eb0f-473d-b263-498b46dbaef0",
   "metadata": {},
   "outputs": [
    {
     "name": "stdout",
     "output_type": "stream",
     "text": [
      "+------------+---------------------+--------------+-----------------+-------------------------+---------------------------+----------------------------+-------------------------------+------------------------------+-----------------------------------+--------------------------------------+-------------------------------------+------------------+--------------------+--------------------------------+----------------------------------+-----------------------------------+--------------------------------------+-------------------------------------+------------------------------------------+---------------------------------------------+--------------------------------------------+\n",
      "|municipio_id|municipio_nome       |microregiao_id|microregiao_nome |microregiao_mesoregiao_id|microregiao_mesoregiao_nome|microregiao_mesoregiao_uf_id|microregiao_mesoregiao_uf_sigla|microregiao_mesoregiao_uf_nome|microregiao_mesoregiao_uf_regiao_id|microregiao_mesoregiao_uf_regiao_sigla|microregiao_mesoregiao_uf_regiao_nome|regiao_imediata_id|regiao_imediata_nome|regiao_imediata_intermediaria_id|regiao_imediata_intermediaria_nome|regiao_imediata_intermediaria_uf_id|regiao_imediata_intermediaria_uf_sigla|regiao_imediata_intermediaria_uf_nome|regiao_imediata_intermediaria_uf_regiao_id|regiao_imediata_intermediaria_uf_regiao_sigla|regiao_imediata_intermediaria_uf_regiao_nome|\n",
      "+------------+---------------------+--------------+-----------------+-------------------------+---------------------------+----------------------------+-------------------------------+------------------------------+-----------------------------------+--------------------------------------+-------------------------------------+------------------+--------------------+--------------------------------+----------------------------------+-----------------------------------+--------------------------------------+-------------------------------------+------------------------------------------+---------------------------------------------+--------------------------------------------+\n",
      "|1100015     |Alta Floresta D'Oeste|11006         |Cacoal           |1102                     |Leste Rondoniense          |11                          |RO                             |Rondônia                      |1                                  |N                                     |Norte                                |110005            |Cacoal              |1102                            |Ji-Paraná                         |11                                 |RO                                    |Rondônia                             |1                                         |N                                            |Norte                                       |\n",
      "|1100023     |Ariquemes            |11003         |Ariquemes        |1102                     |Leste Rondoniense          |11                          |RO                             |Rondônia                      |1                                  |N                                     |Norte                                |110002            |Ariquemes           |1101                            |Porto Velho                       |11                                 |RO                                    |Rondônia                             |1                                         |N                                            |Norte                                       |\n",
      "|1100031     |Cabixi               |11008         |Colorado do Oeste|1102                     |Leste Rondoniense          |11                          |RO                             |Rondônia                      |1                                  |N                                     |Norte                                |110006            |Vilhena             |1102                            |Ji-Paraná                         |11                                 |RO                                    |Rondônia                             |1                                         |N                                            |Norte                                       |\n",
      "|1100049     |Cacoal               |11006         |Cacoal           |1102                     |Leste Rondoniense          |11                          |RO                             |Rondônia                      |1                                  |N                                     |Norte                                |110005            |Cacoal              |1102                            |Ji-Paraná                         |11                                 |RO                                    |Rondônia                             |1                                         |N                                            |Norte                                       |\n",
      "|1100056     |Cerejeiras           |11008         |Colorado do Oeste|1102                     |Leste Rondoniense          |11                          |RO                             |Rondônia                      |1                                  |N                                     |Norte                                |110006            |Vilhena             |1102                            |Ji-Paraná                         |11                                 |RO                                    |Rondônia                             |1                                         |N                                            |Norte                                       |\n",
      "+------------+---------------------+--------------+-----------------+-------------------------+---------------------------+----------------------------+-------------------------------+------------------------------+-----------------------------------+--------------------------------------+-------------------------------------+------------------+--------------------+--------------------------------+----------------------------------+-----------------------------------+--------------------------------------+-------------------------------------+------------------------------------------+---------------------------------------------+--------------------------------------------+\n",
      "only showing top 5 rows\n",
      "\n"
     ]
    }
   ],
   "source": [
    "df_municipio = spark.read.format('parquet').load('s3a://silver/dado_geografico/municipio')\n",
    "# df_municipio.printSchema()\n",
    "# print(df_municipio.dtypes)\n",
    "df_municipio.show(5, False)"
   ]
  },
  {
   "cell_type": "code",
   "execution_count": 5,
   "id": "d0f8a306-9e3d-495f-9745-067c6da0abcf",
   "metadata": {},
   "outputs": [
    {
     "name": "stdout",
     "output_type": "stream",
     "text": [
      "[('codigo_instituicao', 'bigint'), ('nome_instituicao', 'string'), ('categoria_administrativa', 'int'), ('organizacao_academica', 'int'), ('codigo_curso_graduacao', 'bigint'), ('nome_curso_graduacao', 'string'), ('codigo_regiao_geografica_curso', 'int'), ('nome_regiao_geografica_curso', 'string'), ('codigo_unidade_federativa_curso', 'int'), ('nome_unidade_federativa_curso', 'string'), ('codigo_municipio_curso', 'bigint'), ('nome_municipio_curso', 'string'), ('tipo_grau_academico', 'int'), ('tipo_modalidade_ensino', 'int'), ('codigo_area_curso_classificacao_cine_brasil', 'string'), ('nome_area_curso_classificacao_cine_brasil', 'string'), ('codigo_grande_area_curso_classificacao_cine_brasil', 'int'), ('nome_grande_area_curso_classificacao_cine_brasil', 'string'), ('ano_ingresso', 'int'), ('ano_referencia', 'int'), ('prazo_integralizacao_anos', 'int'), ('ano_integralizacao_curso', 'int'), ('prazo_acompanhamento_curso_anos', 'int'), ('ano_maximo_acompanhamento_curso', 'int'), ('quantidade_ingressante_curso', 'bigint'), ('quantidade_permanencia_curso_ano_referencia', 'bigint'), ('quantidade_concluinte_curso_ano_referencia', 'bigint'), ('quantidade_desistencia_curso_ano_referencia', 'bigint'), ('quantidade_falecimento_curso_ano_referencia', 'bigint'), ('taxa_permanencia_tap', 'double'), ('taxa_conclusao_acumulada_tca', 'double'), ('taxa_desistencia_acumulada_tda', 'double'), ('taxa_conclusso_anual_tcan', 'double'), ('taxa_desistencia_anual_tada', 'double')]\n",
      "+------------------+-----------------------------------+------------------------+---------------------+----------------------+--------------------+------------------------------+----------------------------+-------------------------------+-----------------------------+----------------------+--------------------+-------------------+----------------------+-------------------------------------------+-----------------------------------------+--------------------------------------------------+------------------------------------------------+------------+--------------+-------------------------+------------------------+-------------------------------+-------------------------------+----------------------------+-------------------------------------------+------------------------------------------+-------------------------------------------+-------------------------------------------+--------------------+----------------------------+------------------------------+-------------------------+---------------------------+\n",
      "|codigo_instituicao|nome_instituicao                   |categoria_administrativa|organizacao_academica|codigo_curso_graduacao|nome_curso_graduacao|codigo_regiao_geografica_curso|nome_regiao_geografica_curso|codigo_unidade_federativa_curso|nome_unidade_federativa_curso|codigo_municipio_curso|nome_municipio_curso|tipo_grau_academico|tipo_modalidade_ensino|codigo_area_curso_classificacao_cine_brasil|nome_area_curso_classificacao_cine_brasil|codigo_grande_area_curso_classificacao_cine_brasil|nome_grande_area_curso_classificacao_cine_brasil|ano_ingresso|ano_referencia|prazo_integralizacao_anos|ano_integralizacao_curso|prazo_acompanhamento_curso_anos|ano_maximo_acompanhamento_curso|quantidade_ingressante_curso|quantidade_permanencia_curso_ano_referencia|quantidade_concluinte_curso_ano_referencia|quantidade_desistencia_curso_ano_referencia|quantidade_falecimento_curso_ano_referencia|taxa_permanencia_tap|taxa_conclusao_acumulada_tca|taxa_desistencia_acumulada_tda|taxa_conclusso_anual_tcan|taxa_desistencia_anual_tada|\n",
      "+------------------+-----------------------------------+------------------------+---------------------+----------------------+--------------------+------------------------------+----------------------------+-------------------------------+-----------------------------+----------------------+--------------------+-------------------+----------------------+-------------------------------------------+-----------------------------------------+--------------------------------------------------+------------------------------------------------+------------+--------------+-------------------------+------------------------+-------------------------------+-------------------------------+----------------------------+-------------------------------------------+------------------------------------------+-------------------------------------------+-------------------------------------------+--------------------+----------------------------+------------------------------+-------------------------+---------------------------+\n",
      "|1                 |UNIVERSIDADE FEDERAL DE MATO GROSSO|1                       |1                    |1                     |DIREITO             |5                             |Centro-Oeste                |51                             |Mato Grosso                  |5103403               |Cuiabá              |1                  |1                     |0421D01                                    |Direito                                  |4                                                 |Negócios, administração e direito               |2010        |2010          |6                        |2015                    |10                             |2019                           |107                         |98                                         |1                                         |8                                          |0                                          |91.58878504672897   |0.9345794392523364          |7.4766355140186915            |0.9345794392523364       |7.4766355140186915         |\n",
      "|1                 |UNIVERSIDADE FEDERAL DE MATO GROSSO|1                       |1                    |1                     |DIREITO             |5                             |Centro-Oeste                |51                             |Mato Grosso                  |5103403               |Cuiabá              |1                  |1                     |0421D01                                    |Direito                                  |4                                                 |Negócios, administração e direito               |2010        |2011          |6                        |2015                    |10                             |2019                           |107                         |90                                         |0                                         |8                                          |0                                          |84.11214953271028   |0.9345794392523364          |14.953271028037383            |0.0                      |7.4766355140186915         |\n",
      "|1                 |UNIVERSIDADE FEDERAL DE MATO GROSSO|1                       |1                    |1                     |DIREITO             |5                             |Centro-Oeste                |51                             |Mato Grosso                  |5103403               |Cuiabá              |1                  |1                     |0421D01                                    |Direito                                  |4                                                 |Negócios, administração e direito               |2010        |2012          |6                        |2015                    |10                             |2019                           |107                         |87                                         |2                                         |1                                          |0                                          |81.30841121495327   |2.803738317757009           |15.88785046728972             |1.8691588785046729       |0.9345794392523364         |\n",
      "|1                 |UNIVERSIDADE FEDERAL DE MATO GROSSO|1                       |1                    |1                     |DIREITO             |5                             |Centro-Oeste                |51                             |Mato Grosso                  |5103403               |Cuiabá              |1                  |1                     |0421D01                                    |Direito                                  |4                                                 |Negócios, administração e direito               |2010        |2013          |6                        |2015                    |10                             |2019                           |107                         |83                                         |2                                         |2                                          |0                                          |77.57009345794393   |4.672897196261682           |17.757009345794394            |1.8691588785046729       |1.8691588785046729         |\n",
      "|1                 |UNIVERSIDADE FEDERAL DE MATO GROSSO|1                       |1                    |1                     |DIREITO             |5                             |Centro-Oeste                |51                             |Mato Grosso                  |5103403               |Cuiabá              |1                  |1                     |0421D01                                    |Direito                                  |4                                                 |Negócios, administração e direito               |2010        |2014          |6                        |2015                    |10                             |2019                           |107                         |27                                         |54                                        |2                                          |0                                          |25.233644859813083  |55.14018691588785           |19.626168224299064            |50.467289719626166       |1.8691588785046729         |\n",
      "+------------------+-----------------------------------+------------------------+---------------------+----------------------+--------------------+------------------------------+----------------------------+-------------------------------+-----------------------------+----------------------+--------------------+-------------------+----------------------+-------------------------------------------+-----------------------------------------+--------------------------------------------------+------------------------------------------------+------------+--------------+-------------------------+------------------------+-------------------------------+-------------------------------+----------------------------+-------------------------------------------+------------------------------------------+-------------------------------------------+-------------------------------------------+--------------------+----------------------------+------------------------------+-------------------------+---------------------------+\n",
      "only showing top 5 rows\n",
      "\n"
     ]
    }
   ],
   "source": [
    "df_fluxo_educ_superior = spark.read.format('parquet').load('s3a://silver/educacao_superior/indicadores_fluxo_educacao_superior')\n",
    "# df_fluxo_educ_superior.printSchema()\n",
    "print(df_fluxo_educ_superior.dtypes)\n",
    "df_fluxo_educ_superior.show(5, False)"
   ]
  },
  {
   "cell_type": "code",
   "execution_count": 7,
   "id": "1aef7fc8-808f-47da-9d1d-0a21af0d408a",
   "metadata": {},
   "outputs": [],
   "source": [
    "# df_fluxo_educ_superior.dtypes"
   ]
  },
  {
   "cell_type": "code",
   "execution_count": 6,
   "id": "b23a915c-4984-47a2-9442-5373041b8a4a",
   "metadata": {},
   "outputs": [
    {
     "name": "stdout",
     "output_type": "stream",
     "text": [
      "df_fluxo_educ_superior.count():  259230\n"
     ]
    }
   ],
   "source": [
    "print('df_fluxo_educ_superior.count(): ', df_fluxo_educ_superior.count())"
   ]
  },
  {
   "cell_type": "code",
   "execution_count": null,
   "id": "d486e99d-e0bc-48de-9949-4fe6e7adbbd5",
   "metadata": {},
   "outputs": [],
   "source": []
  }
 ],
 "metadata": {
  "kernelspec": {
   "display_name": "Python 3 (ipykernel)",
   "language": "python",
   "name": "python3"
  },
  "language_info": {
   "codemirror_mode": {
    "name": "ipython",
    "version": 3
   },
   "file_extension": ".py",
   "mimetype": "text/x-python",
   "name": "python",
   "nbconvert_exporter": "python",
   "pygments_lexer": "ipython3",
   "version": "3.10.5"
  }
 },
 "nbformat": 4,
 "nbformat_minor": 5
}
