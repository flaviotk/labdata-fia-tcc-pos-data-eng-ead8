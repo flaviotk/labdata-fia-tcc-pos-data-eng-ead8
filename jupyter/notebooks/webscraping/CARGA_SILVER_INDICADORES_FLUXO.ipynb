{
 "cells": [
  {
   "cell_type": "code",
   "execution_count": 1,
   "id": "c3755299-b6a0-4b00-b53d-333374e6396f",
   "metadata": {},
   "outputs": [
    {
     "data": {
      "text/html": [
       "<style>pre { white-space: pre !important; }</style>"
      ],
      "text/plain": [
       "<IPython.core.display.HTML object>"
      ]
     },
     "metadata": {},
     "output_type": "display_data"
    }
   ],
   "source": [
    "from pyspark.sql.types import *\n",
    "from pyspark.sql.window import Window\n",
    "import pyspark.sql.functions as fn\n",
    "from pyspark.sql import SparkSession\n",
    "from IPython.core.display import HTML\n",
    "display(HTML(\"<style>pre { white-space: pre !important; }</style>\"))"
   ]
  },
  {
   "cell_type": "code",
   "execution_count": 2,
   "id": "c5ba4c08-3899-4731-b516-5ee714e1fc34",
   "metadata": {},
   "outputs": [],
   "source": [
    "spark = (SparkSession.builder\n",
    "         .config(\"spark.jars\",\"\"\"/home/jovyan/jars/aws-java-sdk-core-1.11.534.jar,\n",
    "                                 /home/jovyan/jars/aws-java-sdk-dynamodb-1.11.534.jar,\n",
    "                                 /home/jovyan/jars/aws-java-sdk-s3-1.11.534.jar,\n",
    "                                 /home/jovyan/jars/hadoop-aws-3.2.2.jar\"\"\")\n",
    "         .config(\"spark.hadoop.fs.s3a.endpoint\", \"http://minio:9000\")\n",
    "         .config(\"spark.hadoop.fs.s3a.access.key\", \"aulafia\")\n",
    "         .config(\"spark.hadoop.fs.s3a.secret.key\", \"aulafia@123\")\n",
    "         .config(\"spark.hadoop.fs.s3a.path.style.access\", True)\n",
    "         .config(\"spark.hadoop.fs.s3a.impl\", \"org.apache.hadoop.fs.s3a.S3AFileSystem\")\n",
    "         .config(\"spark.hadoop.fs.s3a.aws.credentials.provider\", \"org.apache.hadoop.fs.s3a.SimpleAWSCredentialsProvider\")\n",
    "         .getOrCreate()\n",
    "        )"
   ]
  },
  {
   "cell_type": "code",
   "execution_count": 3,
   "id": "ec82d376-0572-463a-a7ef-cf119e4cf940",
   "metadata": {},
   "outputs": [
    {
     "name": "stdout",
     "output_type": "stream",
     "text": [
      "+---------+-----------+------------+---------+-----------+------------+\n",
      "|estado_id|estado_nome|estado_sigla|regiao_id|regiao_nome|regiao_sigla|\n",
      "+---------+-----------+------------+---------+-----------+------------+\n",
      "|11       |Rondônia   |RO          |1        |Norte      |N           |\n",
      "|12       |Acre       |AC          |1        |Norte      |N           |\n",
      "|13       |Amazonas   |AM          |1        |Norte      |N           |\n",
      "|14       |Roraima    |RR          |1        |Norte      |N           |\n",
      "|15       |Pará       |PA          |1        |Norte      |N           |\n",
      "+---------+-----------+------------+---------+-----------+------------+\n",
      "only showing top 5 rows\n",
      "\n"
     ]
    }
   ],
   "source": [
    "df_estado = spark.read.format('parquet').load('s3a://silver/dado_geografico/estado')\n",
    "# df_estado.printSchema()\n",
    "df_estado.show(5, False)"
   ]
  },
  {
   "cell_type": "code",
   "execution_count": 4,
   "id": "5cbde827-eb0f-473d-b263-498b46dbaef0",
   "metadata": {},
   "outputs": [
    {
     "name": "stdout",
     "output_type": "stream",
     "text": [
      "+------------+---------------------+--------------+-----------------+-------------------------+---------------------------+----------------------------+-------------------------------+------------------------------+-----------------------------------+--------------------------------------+-------------------------------------+------------------+--------------------+--------------------------------+----------------------------------+-----------------------------------+--------------------------------------+-------------------------------------+------------------------------------------+---------------------------------------------+--------------------------------------------+\n",
      "|municipio_id|municipio_nome       |microregiao_id|microregiao_nome |microregiao_mesoregiao_id|microregiao_mesoregiao_nome|microregiao_mesoregiao_uf_id|microregiao_mesoregiao_uf_sigla|microregiao_mesoregiao_uf_nome|microregiao_mesoregiao_uf_regiao_id|microregiao_mesoregiao_uf_regiao_sigla|microregiao_mesoregiao_uf_regiao_nome|regiao_imediata_id|regiao_imediata_nome|regiao_imediata_intermediaria_id|regiao_imediata_intermediaria_nome|regiao_imediata_intermediaria_uf_id|regiao_imediata_intermediaria_uf_sigla|regiao_imediata_intermediaria_uf_nome|regiao_imediata_intermediaria_uf_regiao_id|regiao_imediata_intermediaria_uf_regiao_sigla|regiao_imediata_intermediaria_uf_regiao_nome|\n",
      "+------------+---------------------+--------------+-----------------+-------------------------+---------------------------+----------------------------+-------------------------------+------------------------------+-----------------------------------+--------------------------------------+-------------------------------------+------------------+--------------------+--------------------------------+----------------------------------+-----------------------------------+--------------------------------------+-------------------------------------+------------------------------------------+---------------------------------------------+--------------------------------------------+\n",
      "|1100015     |Alta Floresta D'Oeste|11006         |Cacoal           |1102                     |Leste Rondoniense          |11                          |RO                             |Rondônia                      |1                                  |N                                     |Norte                                |110005            |Cacoal              |1102                            |Ji-Paraná                         |11                                 |RO                                    |Rondônia                             |1                                         |N                                            |Norte                                       |\n",
      "|1100023     |Ariquemes            |11003         |Ariquemes        |1102                     |Leste Rondoniense          |11                          |RO                             |Rondônia                      |1                                  |N                                     |Norte                                |110002            |Ariquemes           |1101                            |Porto Velho                       |11                                 |RO                                    |Rondônia                             |1                                         |N                                            |Norte                                       |\n",
      "|1100031     |Cabixi               |11008         |Colorado do Oeste|1102                     |Leste Rondoniense          |11                          |RO                             |Rondônia                      |1                                  |N                                     |Norte                                |110006            |Vilhena             |1102                            |Ji-Paraná                         |11                                 |RO                                    |Rondônia                             |1                                         |N                                            |Norte                                       |\n",
      "|1100049     |Cacoal               |11006         |Cacoal           |1102                     |Leste Rondoniense          |11                          |RO                             |Rondônia                      |1                                  |N                                     |Norte                                |110005            |Cacoal              |1102                            |Ji-Paraná                         |11                                 |RO                                    |Rondônia                             |1                                         |N                                            |Norte                                       |\n",
      "|1100056     |Cerejeiras           |11008         |Colorado do Oeste|1102                     |Leste Rondoniense          |11                          |RO                             |Rondônia                      |1                                  |N                                     |Norte                                |110006            |Vilhena             |1102                            |Ji-Paraná                         |11                                 |RO                                    |Rondônia                             |1                                         |N                                            |Norte                                       |\n",
      "+------------+---------------------+--------------+-----------------+-------------------------+---------------------------+----------------------------+-------------------------------+------------------------------+-----------------------------------+--------------------------------------+-------------------------------------+------------------+--------------------+--------------------------------+----------------------------------+-----------------------------------+--------------------------------------+-------------------------------------+------------------------------------------+---------------------------------------------+--------------------------------------------+\n",
      "only showing top 5 rows\n",
      "\n"
     ]
    }
   ],
   "source": [
    "df_municipio = spark.read.format('parquet').load('s3a://silver/dado_geografico/municipio')\n",
    "# df_municipio.printSchema()\n",
    "# print(df_municipio.dtypes)\n",
    "df_municipio.show(5, False)"
   ]
  },
  {
   "cell_type": "code",
   "execution_count": 6,
   "id": "d0f8a306-9e3d-495f-9745-067c6da0abcf",
   "metadata": {},
   "outputs": [
    {
     "name": "stdout",
     "output_type": "stream",
     "text": [
      "+------+-----------------------------------+---------------------------+------------------------+--------+--------+---------+-----+------------+-----------------+--------------------+--------------+--------------+------------------+---------------------------------+---------------+-----------------+-----------------------+---------------------+-----------------------+----------------------------+--------------+--------------+-------------+--------------+-----------+------------------+------------------+------------------+------------------+------------------+\n",
      "|CO_IES|NO_IES                             |TP_CATEGORIA_ADMINISTRATIVA|TP_ORGANIZACAO_ACADEMICA|CO_CURSO|NO_CURSO|CO_REGIAO|CO_UF|CO_MUNICIPIO|TP_GRAU_ACADEMICO|TP_MODALIDADE_ENSINO|CO_CINE_ROTULO|NO_CINE_ROTULO|CO_CINE_AREA_GERAL|NO_CINE_AREA_GERAL               |NU_ANO_INGRESSO|NU_ANO_REFERENCIA|NU_PRAZO_INTEGRALIZACAO|NU_ANO_INTEGRALIZACAO|NU_PRAZO_ACOMPANHAMENTO|NU_ANO_MAXIMO_ACOMPANHAMENTO|QT_INGRESSANTE|QT_PERMANENCIA|QT_CONCLUINTE|QT_DESISTENCIA|QT_FALECIDO|TAP               |TCA               |TDA               |TCAN              |TADA              |\n",
      "+------+-----------------------------------+---------------------------+------------------------+--------+--------+---------+-----+------------+-----------------+--------------------+--------------+--------------+------------------+---------------------------------+---------------+-----------------+-----------------------+---------------------+-----------------------+----------------------------+--------------+--------------+-------------+--------------+-----------+------------------+------------------+------------------+------------------+------------------+\n",
      "|1     |UNIVERSIDADE FEDERAL DE MATO GROSSO|1                          |1                       |1       |DIREITO |5        |51   |5103403     |1                |1                   |0421D01       |Direito       |4                 |Negócios, administração e direito|2010           |2010             |6                      |2015                 |10                     |2019                        |107           |98            |1            |8             |0          |91.58878504672897 |0.9345794392523364|7.4766355140186915|0.9345794392523364|7.4766355140186915|\n",
      "|1     |UNIVERSIDADE FEDERAL DE MATO GROSSO|1                          |1                       |1       |DIREITO |5        |51   |5103403     |1                |1                   |0421D01       |Direito       |4                 |Negócios, administração e direito|2010           |2011             |6                      |2015                 |10                     |2019                        |107           |90            |0            |8             |0          |84.11214953271028 |0.9345794392523364|14.953271028037383|0.0               |7.4766355140186915|\n",
      "|1     |UNIVERSIDADE FEDERAL DE MATO GROSSO|1                          |1                       |1       |DIREITO |5        |51   |5103403     |1                |1                   |0421D01       |Direito       |4                 |Negócios, administração e direito|2010           |2012             |6                      |2015                 |10                     |2019                        |107           |87            |2            |1             |0          |81.30841121495327 |2.803738317757009 |15.88785046728972 |1.8691588785046729|0.9345794392523364|\n",
      "|1     |UNIVERSIDADE FEDERAL DE MATO GROSSO|1                          |1                       |1       |DIREITO |5        |51   |5103403     |1                |1                   |0421D01       |Direito       |4                 |Negócios, administração e direito|2010           |2013             |6                      |2015                 |10                     |2019                        |107           |83            |2            |2             |0          |77.57009345794393 |4.672897196261682 |17.757009345794394|1.8691588785046729|1.8691588785046729|\n",
      "|1     |UNIVERSIDADE FEDERAL DE MATO GROSSO|1                          |1                       |1       |DIREITO |5        |51   |5103403     |1                |1                   |0421D01       |Direito       |4                 |Negócios, administração e direito|2010           |2014             |6                      |2015                 |10                     |2019                        |107           |27            |54           |2             |0          |25.233644859813083|55.14018691588785 |19.626168224299064|50.467289719626166|1.8691588785046729|\n",
      "+------+-----------------------------------+---------------------------+------------------------+--------+--------+---------+-----+------------+-----------------+--------------------+--------------+--------------+------------------+---------------------------------+---------------+-----------------+-----------------------+---------------------+-----------------------+----------------------------+--------------+--------------+-------------+--------------+-----------+------------------+------------------+------------------+------------------+------------------+\n",
      "only showing top 5 rows\n",
      "\n"
     ]
    }
   ],
   "source": [
    "df_fluxo_educ_superior = spark.read.format('parquet').load('s3a://bronze/inep/educacao_superior/indicadores_fluxo_educacao_superior')\n",
    "# df_fluxo_educ_superior.printSchema()\n",
    "# print(df_fluxo_educ_superior.dtypes)\n",
    "df_fluxo_educ_superior.show(5, False)"
   ]
  },
  {
   "cell_type": "code",
   "execution_count": 7,
   "id": "1aef7fc8-808f-47da-9d1d-0a21af0d408a",
   "metadata": {},
   "outputs": [],
   "source": [
    "# df_fluxo_educ_superior.dtypes"
   ]
  },
  {
   "cell_type": "code",
   "execution_count": 8,
   "id": "eb889108-655f-40b7-a0be-e6079e7194fe",
   "metadata": {},
   "outputs": [],
   "source": [
    "# df_fluxo_educ_superior = (df_fluxo_educ_superior\n",
    "#     .select(fn.col('CO_IES').cast('bigint').alias('CO_IES'),\n",
    "#             fn.col('NO_IES').cast('string').alias('NO_IES'),\n",
    "#             fn.col('TP_CATEGORIA_ADMINISTRATIVA').cast('int').alias('TP_CATEGORIA_ADMINISTRATIVA'),\n",
    "#             fn.col('TP_ORGANIZACAO_ACADEMICA').cast('int').alias('TP_ORGANIZACAO_ACADEMICA'),\n",
    "#             fn.col('CO_CURSO').cast('bigint').alias('CO_CURSO'),\n",
    "#             fn.col('NO_CURSO').cast('string').alias('NO_CURSO'),\n",
    "#             fn.col('CO_REGIAO').cast('int').alias('CO_REGIAO'),\n",
    "#             fn.col('CO_UF').cast('int').alias('CO_UF'),\n",
    "#             fn.col('CO_MUNICIPIO').cast('bigint').alias('CO_MUNICIPIO'),\n",
    "#             fn.col('TP_GRAU_ACADEMICO').cast('int').alias('TP_GRAU_ACADEMICO'),\n",
    "#             fn.col('TP_MODALIDADE_ENSINO').cast('int').alias('TP_MODALIDADE_ENSINO'),\n",
    "#             fn.col('CO_CINE_ROTULO').cast('string').alias('CO_CINE_ROTULO'),\n",
    "#             fn.col('NO_CINE_ROTULO').cast('string').alias('NO_CINE_ROTULO'),\n",
    "#             fn.col('CO_CINE_AREA_GERAL').cast('int').alias('CO_CINE_AREA_GERAL'),\n",
    "#             fn.col('NO_CINE_AREA_GERAL').cast('string').alias('NO_CINE_AREA_GERAL'),\n",
    "#             fn.col('NU_ANO_INGRESSO').cast('int').alias('NU_ANO_INGRESSO'),\n",
    "#             fn.col('NU_ANO_REFERENCIA').cast('int').alias('NU_ANO_REFERENCIA'),\n",
    "#             fn.col('NU_PRAZO_INTEGRALIZACAO').cast('int').alias('NU_PRAZO_INTEGRALIZACAO'),\n",
    "#             fn.col('NU_ANO_INTEGRALIZACAO').cast('int').alias('NU_ANO_INTEGRALIZACAO'),\n",
    "#             fn.col('NU_PRAZO_ACOMPANHAMENTO').cast('int').alias('NU_PRAZO_ACOMPANHAMENTO'),\n",
    "#             fn.col('NU_ANO_MAXIMO_ACOMPANHAMENTO').cast('int').alias('NU_ANO_MAXIMO_ACOMPANHAMENTO'),\n",
    "#             fn.col('QT_INGRESSANTE').cast('bigint').alias('QT_INGRESSANTE'),\n",
    "#             fn.col('QT_PERMANENCIA').cast('bigint').alias('QT_PERMANENCIA'),\n",
    "#             fn.col('QT_CONCLUINTE').cast('bigint').alias('QT_CONCLUINTE'),\n",
    "#             fn.col('QT_DESISTENCIA').cast('bigint').alias('QT_DESISTENCIA'),\n",
    "#             fn.col('QT_FALECIDO').cast('bigint').alias('QT_FALECIDO'),\n",
    "#             fn.col('TAP').cast('double').alias('TAP'),\n",
    "#             fn.col('TCA').cast('double').alias('TCA'),\n",
    "#             fn.col('TDA').cast('double').alias('TDA'),\n",
    "#             fn.col('TCAN').cast('double').alias('TCAN'),\n",
    "#             fn.col('TADA').cast('double').alias('TADA')\n",
    "#            )\n",
    "# )"
   ]
  },
  {
   "cell_type": "code",
   "execution_count": 9,
   "id": "b23a915c-4984-47a2-9442-5373041b8a4a",
   "metadata": {},
   "outputs": [
    {
     "name": "stdout",
     "output_type": "stream",
     "text": [
      "df_fluxo_educ_superior.count():  259230\n"
     ]
    }
   ],
   "source": [
    "print('df_fluxo_educ_superior.count(): ', df_fluxo_educ_superior.count())"
   ]
  },
  {
   "cell_type": "code",
   "execution_count": 10,
   "id": "5852bb53-e715-4df3-96f0-5cf3c46066ae",
   "metadata": {},
   "outputs": [
    {
     "name": "stdout",
     "output_type": "stream",
     "text": [
      "df_fluxo_educ_superior_estmun.count():  259230\n",
      "+------------------+-----------------------------------+------------------------+---------------------+----------------------+--------------------+------------------------------+----------------------------+-------------------------------+-----------------------------+----------------------+--------------------+-------------------+----------------------+-------------------------------------------+-----------------------------------------+--------------------------------------------------+------------------------------------------------+------------+--------------+-------------------------+------------------------+-------------------------------+-------------------------------+----------------------------+-------------------------------------------+------------------------------------------+-------------------------------------------+-------------------------------------------+--------------------+----------------------------+------------------------------+-------------------------+---------------------------+\n",
      "|codigo_instituicao|nome_instituicao                   |categoria_administrativa|organizacao_academica|codigo_curso_graduacao|nome_curso_graduacao|codigo_regiao_geografica_curso|nome_regiao_geografica_curso|codigo_unidade_federativa_curso|nome_unidade_federativa_curso|codigo_municipio_curso|nome_municipio_curso|tipo_grau_academico|tipo_modalidade_ensino|codigo_area_curso_classificacao_cine_brasil|nome_area_curso_classificacao_cine_brasil|codigo_grande_area_curso_classificacao_cine_brasil|nome_grande_area_curso_classificacao_cine_brasil|ano_ingresso|ano_referencia|prazo_integralizacao_anos|ano_integralizacao_curso|prazo_acompanhamento_curso_anos|ano_maximo_acompanhamento_curso|quantidade_ingressante_curso|quantidade_permanência_curso_ano_referencia|quantidade_concluinte_curso_ano_referencia|quantidade_desistencia_curso_ano_referencia|quantidade_falecimento_curso_ano_referencia|taxa_permanencia_tap|taxa_conclusao_acumulada_tca|taxa_desistencia_acumulada_tda|taxa_conclusso_anual_tcan|taxa_desistencia_anual_tada|\n",
      "+------------------+-----------------------------------+------------------------+---------------------+----------------------+--------------------+------------------------------+----------------------------+-------------------------------+-----------------------------+----------------------+--------------------+-------------------+----------------------+-------------------------------------------+-----------------------------------------+--------------------------------------------------+------------------------------------------------+------------+--------------+-------------------------+------------------------+-------------------------------+-------------------------------+----------------------------+-------------------------------------------+------------------------------------------+-------------------------------------------+-------------------------------------------+--------------------+----------------------------+------------------------------+-------------------------+---------------------------+\n",
      "|1                 |UNIVERSIDADE FEDERAL DE MATO GROSSO|1                       |1                    |1                     |DIREITO             |5                             |Centro-Oeste                |51                             |Mato Grosso                  |5103403               |Cuiabá              |1                  |1                     |0421D01                                    |Direito                                  |4                                                 |Negócios, administração e direito               |2010        |2010          |6                        |2015                    |10                             |2019                           |107                         |98                                         |1                                         |8                                          |0                                          |91.58878504672897   |0.9345794392523364          |7.4766355140186915            |0.9345794392523364       |7.4766355140186915         |\n",
      "|1                 |UNIVERSIDADE FEDERAL DE MATO GROSSO|1                       |1                    |1                     |DIREITO             |5                             |Centro-Oeste                |51                             |Mato Grosso                  |5103403               |Cuiabá              |1                  |1                     |0421D01                                    |Direito                                  |4                                                 |Negócios, administração e direito               |2010        |2011          |6                        |2015                    |10                             |2019                           |107                         |90                                         |0                                         |8                                          |0                                          |84.11214953271028   |0.9345794392523364          |14.953271028037383            |0.0                      |7.4766355140186915         |\n",
      "|1                 |UNIVERSIDADE FEDERAL DE MATO GROSSO|1                       |1                    |1                     |DIREITO             |5                             |Centro-Oeste                |51                             |Mato Grosso                  |5103403               |Cuiabá              |1                  |1                     |0421D01                                    |Direito                                  |4                                                 |Negócios, administração e direito               |2010        |2012          |6                        |2015                    |10                             |2019                           |107                         |87                                         |2                                         |1                                          |0                                          |81.30841121495327   |2.803738317757009           |15.88785046728972             |1.8691588785046729       |0.9345794392523364         |\n",
      "|1                 |UNIVERSIDADE FEDERAL DE MATO GROSSO|1                       |1                    |1                     |DIREITO             |5                             |Centro-Oeste                |51                             |Mato Grosso                  |5103403               |Cuiabá              |1                  |1                     |0421D01                                    |Direito                                  |4                                                 |Negócios, administração e direito               |2010        |2013          |6                        |2015                    |10                             |2019                           |107                         |83                                         |2                                         |2                                          |0                                          |77.57009345794393   |4.672897196261682           |17.757009345794394            |1.8691588785046729       |1.8691588785046729         |\n",
      "|1                 |UNIVERSIDADE FEDERAL DE MATO GROSSO|1                       |1                    |1                     |DIREITO             |5                             |Centro-Oeste                |51                             |Mato Grosso                  |5103403               |Cuiabá              |1                  |1                     |0421D01                                    |Direito                                  |4                                                 |Negócios, administração e direito               |2010        |2014          |6                        |2015                    |10                             |2019                           |107                         |27                                         |54                                        |2                                          |0                                          |25.233644859813083  |55.14018691588785           |19.626168224299064            |50.467289719626166       |1.8691588785046729         |\n",
      "|1                 |UNIVERSIDADE FEDERAL DE MATO GROSSO|1                       |1                    |1                     |DIREITO             |5                             |Centro-Oeste                |51                             |Mato Grosso                  |5103403               |Cuiabá              |1                  |1                     |0421D01                                    |Direito                                  |4                                                 |Negócios, administração e direito               |2010        |2015          |6                        |2015                    |10                             |2019                           |107                         |24                                         |2                                         |1                                          |0                                          |22.429906542056074  |57.00934579439252           |20.560747663551403            |1.8691588785046729       |0.9345794392523364         |\n",
      "|1                 |UNIVERSIDADE FEDERAL DE MATO GROSSO|1                       |1                    |1                     |DIREITO             |5                             |Centro-Oeste                |51                             |Mato Grosso                  |5103403               |Cuiabá              |1                  |1                     |0421D01                                    |Direito                                  |4                                                 |Negócios, administração e direito               |2010        |2016          |6                        |2015                    |10                             |2019                           |107                         |13                                         |3                                         |8                                          |0                                          |12.149532710280374  |59.81308411214953           |28.037383177570092            |2.803738317757009        |7.4766355140186915         |\n",
      "|1                 |UNIVERSIDADE FEDERAL DE MATO GROSSO|1                       |1                    |1                     |DIREITO             |5                             |Centro-Oeste                |51                             |Mato Grosso                  |5103403               |Cuiabá              |1                  |1                     |0421D01                                    |Direito                                  |4                                                 |Negócios, administração e direito               |2010        |2017          |6                        |2015                    |10                             |2019                           |107                         |7                                          |1                                         |5                                          |0                                          |6.542056074766355   |60.74766355140187           |32.71028037383178             |0.9345794392523364       |4.672897196261682          |\n",
      "|1                 |UNIVERSIDADE FEDERAL DE MATO GROSSO|1                       |1                    |1                     |DIREITO             |5                             |Centro-Oeste                |51                             |Mato Grosso                  |5103403               |Cuiabá              |1                  |1                     |0421D01                                    |Direito                                  |4                                                 |Negócios, administração e direito               |2010        |2018          |6                        |2015                    |10                             |2019                           |107                         |5                                          |1                                         |1                                          |0                                          |4.672897196261682   |61.6822429906542            |33.64485981308411             |0.9345794392523364       |0.9345794392523364         |\n",
      "|1                 |UNIVERSIDADE FEDERAL DE MATO GROSSO|1                       |1                    |1                     |DIREITO             |5                             |Centro-Oeste                |51                             |Mato Grosso                  |5103403               |Cuiabá              |1                  |1                     |0421D01                                    |Direito                                  |4                                                 |Negócios, administração e direito               |2010        |2019          |6                        |2015                    |10                             |2019                           |107                         |5                                          |0                                         |0                                          |0                                          |4.672897196261682   |61.6822429906542            |33.64485981308411             |0.0                      |0.0                        |\n",
      "|1                 |UNIVERSIDADE FEDERAL DE MATO GROSSO|1                       |1                    |2                     |CIÊNCIAS ECONÔMICAS |5                             |Centro-Oeste                |51                             |Mato Grosso                  |5103403               |Cuiabá              |1                  |1                     |0311E01                                    |Economia                                 |3                                                 |Ciências sociais, comunicação e informação      |2010        |2010          |5                        |2014                    |8                              |2017                           |113                         |103                                        |0                                         |10                                         |0                                          |91.15044247787611   |0.0                         |8.849557522123893             |0.0                      |8.849557522123893          |\n",
      "|1                 |UNIVERSIDADE FEDERAL DE MATO GROSSO|1                       |1                    |2                     |CIÊNCIAS ECONÔMICAS |5                             |Centro-Oeste                |51                             |Mato Grosso                  |5103403               |Cuiabá              |1                  |1                     |0311E01                                    |Economia                                 |3                                                 |Ciências sociais, comunicação e informação      |2010        |2011          |5                        |2014                    |8                              |2017                           |113                         |100                                        |0                                         |3                                          |0                                          |88.49557522123894   |0.0                         |11.504424778761061            |0.0                      |2.6548672566371683         |\n",
      "+------------------+-----------------------------------+------------------------+---------------------+----------------------+--------------------+------------------------------+----------------------------+-------------------------------+-----------------------------+----------------------+--------------------+-------------------+----------------------+-------------------------------------------+-----------------------------------------+--------------------------------------------------+------------------------------------------------+------------+--------------+-------------------------+------------------------+-------------------------------+-------------------------------+----------------------------+-------------------------------------------+------------------------------------------+-------------------------------------------+-------------------------------------------+--------------------+----------------------------+------------------------------+-------------------------+---------------------------+\n",
      "only showing top 12 rows\n",
      "\n"
     ]
    }
   ],
   "source": [
    "df_fluxo_educ_superior_estmun = (df_fluxo_educ_superior.alias('educ')\n",
    "     .join(df_estado.alias('est'), fn.col('educ.CO_UF') == fn.col('est.estado_id'), 'left')\n",
    "     .join(df_municipio.alias('mun'), fn.col('educ.CO_MUNICIPIO') == fn.col('mun.municipio_id'), 'left')\n",
    "     .select(fn.col('educ.CO_IES').alias('codigo_instituicao'),\n",
    "             fn.col('educ.NO_IES').alias('nome_instituicao'),\n",
    "             fn.col('educ.TP_CATEGORIA_ADMINISTRATIVA').alias('categoria_administrativa'),\n",
    "             fn.col('educ.TP_ORGANIZACAO_ACADEMICA').alias('organizacao_academica'),\n",
    "             fn.col('educ.CO_CURSO').alias('codigo_curso_graduacao'),\n",
    "             fn.col('educ.NO_CURSO').alias('nome_curso_graduacao'),\n",
    "             fn.col('educ.CO_REGIAO').alias('codigo_regiao_geografica_curso'),\n",
    "             fn.col('est.regiao_nome').alias('nome_regiao_geografica_curso'), # df_estado.regiao_nome\n",
    "             fn.col('educ.CO_UF').alias('codigo_unidade_federativa_curso'),\n",
    "             fn.col('est.estado_nome').alias('nome_unidade_federativa_curso'), # df_estado.estado_nome\n",
    "             fn.col('educ.CO_MUNICIPIO').alias('codigo_municipio_curso'),\n",
    "             fn.col('mun.municipio_nome').alias('nome_municipio_curso'), # df_municipio.municipio_nome\n",
    "             fn.col('educ.TP_GRAU_ACADEMICO').alias('tipo_grau_academico'),\n",
    "             fn.col('educ.TP_MODALIDADE_ENSINO').alias('tipo_modalidade_ensino'),\n",
    "             fn.col('educ.CO_CINE_ROTULO').alias('codigo_area_curso_classificacao_cine_brasil'),\n",
    "             fn.col('educ.NO_CINE_ROTULO').alias('nome_area_curso_classificacao_cine_brasil'),\n",
    "             fn.col('educ.CO_CINE_AREA_GERAL').alias('codigo_grande_area_curso_classificacao_cine_brasil'),\n",
    "             fn.col('educ.NO_CINE_AREA_GERAL').alias('nome_grande_area_curso_classificacao_cine_brasil'),\n",
    "             fn.col('educ.NU_ANO_INGRESSO').alias('ano_ingresso'),\n",
    "             fn.col('educ.NU_ANO_REFERENCIA').alias('ano_referencia'),\n",
    "             fn.col('educ.NU_PRAZO_INTEGRALIZACAO').alias('prazo_integralizacao_anos'),\n",
    "             fn.col('educ.NU_ANO_INTEGRALIZACAO').alias('ano_integralizacao_curso'),\n",
    "             fn.col('educ.NU_PRAZO_ACOMPANHAMENTO').alias('prazo_acompanhamento_curso_anos'),\n",
    "             fn.col('educ.NU_ANO_MAXIMO_ACOMPANHAMENTO').alias('ano_maximo_acompanhamento_curso'),\n",
    "             fn.col('educ.QT_INGRESSANTE').alias('quantidade_ingressante_curso'),\n",
    "             fn.col('educ.QT_PERMANENCIA').alias('quantidade_permanência_curso_ano_referencia'),\n",
    "             fn.col('educ.QT_CONCLUINTE').alias('quantidade_concluinte_curso_ano_referencia'),\n",
    "             fn.col('educ.QT_DESISTENCIA').alias('quantidade_desistencia_curso_ano_referencia'),\n",
    "             fn.col('educ.QT_FALECIDO').alias('quantidade_falecimento_curso_ano_referencia'),\n",
    "             fn.col('educ.TAP').alias('taxa_permanencia_tap'),\n",
    "             fn.col('educ.TCA').alias('taxa_conclusao_acumulada_tca'), \n",
    "             fn.col('educ.TDA').alias('taxa_desistencia_acumulada_tda'),\n",
    "             fn.col('educ.TCAN').alias('taxa_conclusso_anual_tcan'),\n",
    "             fn.col('educ.TADA').alias('taxa_desistencia_anual_tada')\n",
    "            )\n",
    ")\n",
    "print('df_fluxo_educ_superior_estmun.count(): ', df_fluxo_educ_superior_estmun.count())\n",
    "# df_fluxo_educ_superior_estmun.printSchema()\n",
    "# print(df_fluxo_educ_superior_estmun.dtypes)\n",
    "df_fluxo_educ_superior_estmun.show(12, False)"
   ]
  },
  {
   "cell_type": "code",
   "execution_count": null,
   "id": "d486e99d-e0bc-48de-9949-4fe6e7adbbd5",
   "metadata": {},
   "outputs": [],
   "source": []
  }
 ],
 "metadata": {
  "kernelspec": {
   "display_name": "Python 3 (ipykernel)",
   "language": "python",
   "name": "python3"
  },
  "language_info": {
   "codemirror_mode": {
    "name": "ipython",
    "version": 3
   },
   "file_extension": ".py",
   "mimetype": "text/x-python",
   "name": "python",
   "nbconvert_exporter": "python",
   "pygments_lexer": "ipython3",
   "version": "3.10.5"
  }
 },
 "nbformat": 4,
 "nbformat_minor": 5
}
