{
 "cells": [
  {
   "cell_type": "markdown",
   "id": "29dd1fff-c9c6-4447-9d7b-418c4c055329",
   "metadata": {
    "tags": []
   },
   "source": [
    "# Configurações Iniciais"
   ]
  },
  {
   "cell_type": "code",
   "execution_count": 1,
   "id": "eef0875e-2fe5-46ad-8871-a898ebd9d0f0",
   "metadata": {},
   "outputs": [
    {
     "data": {
      "text/html": [
       "<style>pre { white-space: pre !important; }</style>"
      ],
      "text/plain": [
       "<IPython.core.display.HTML object>"
      ]
     },
     "metadata": {},
     "output_type": "display_data"
    }
   ],
   "source": [
    "from pyspark.sql.types import *\n",
    "import pyspark.sql.functions as fn\n",
    "from pyspark.sql import SparkSession\n",
    "from IPython.core.display import HTML\n",
    "display(HTML(\"<style>pre { white-space: pre !important; }</style>\"))\n",
    "\n",
    "spark = (SparkSession.builder\n",
    "         .config(\"spark.jars\",\"\"\"/home/jovyan/jars/aws-java-sdk-core-1.11.534.jar,\n",
    "                                 /home/jovyan/jars/aws-java-sdk-dynamodb-1.11.534.jar,\n",
    "                                 /home/jovyan/jars/aws-java-sdk-s3-1.11.534.jar,\n",
    "                                 /home/jovyan/jars/hadoop-aws-3.2.2.jar,\n",
    "                                 /home/jovyan/jars/postgresql-42.3.3.jar\"\"\")\n",
    "         .config(\"spark.hadoop.fs.s3a.endpoint\", \"http://minio:9000\")\n",
    "         .config(\"spark.hadoop.fs.s3a.access.key\", \"aulafia\")\n",
    "         .config(\"spark.hadoop.fs.s3a.secret.key\", \"aulafia@123\")\n",
    "         .config(\"spark.hadoop.fs.s3a.path.style.access\", True)\n",
    "         .config(\"spark.hadoop.fs.s3a.impl\", \"org.apache.hadoop.fs.s3a.S3AFileSystem\")\n",
    "         .config(\"spark.hadoop.fs.s3a.aws.credentials.provider\", \"org.apache.hadoop.fs.s3a.SimpleAWSCredentialsProvider\")\n",
    "         .getOrCreate()\n",
    "        )"
   ]
  },
  {
   "cell_type": "markdown",
   "id": "a4ec91a3-4540-4e16-9e48-8437739dd046",
   "metadata": {
    "tags": []
   },
   "source": [
    "# Leitura Database"
   ]
  },
  {
   "cell_type": "code",
   "execution_count": 2,
   "id": "e4a16648-af7b-4d41-819e-db7c585bcdbf",
   "metadata": {},
   "outputs": [
    {
     "name": "stdout",
     "output_type": "stream",
     "text": [
      "+---+----------+-----------+------+----+---------------------------------------------------------+-----+\n",
      "|id |nome      |experiencia|altura|peso|formas                                                   |type |\n",
      "+---+----------+-----------+------+----+---------------------------------------------------------+-----+\n",
      "|1  |bulbasaur |64         |7     |69  |[{bulbasaur, https://pokeapi.co/api/v2/pokemon-form/1/}] |grass|\n",
      "|2  |ivysaur   |142        |10    |130 |[{ivysaur, https://pokeapi.co/api/v2/pokemon-form/2/}]   |grass|\n",
      "|3  |venusaur  |263        |20    |1000|[{venusaur, https://pokeapi.co/api/v2/pokemon-form/3/}]  |grass|\n",
      "|4  |charmander|62         |6     |85  |[{charmander, https://pokeapi.co/api/v2/pokemon-form/4/}]|fire |\n",
      "|5  |charmeleon|142        |11    |190 |[{charmeleon, https://pokeapi.co/api/v2/pokemon-form/5/}]|fire |\n",
      "|6  |charizard |267        |17    |905 |[{charizard, https://pokeapi.co/api/v2/pokemon-form/6/}] |fire |\n",
      "|7  |squirtle  |63         |5     |90  |[{squirtle, https://pokeapi.co/api/v2/pokemon-form/7/}]  |water|\n",
      "|8  |wartortle |142        |10    |225 |[{wartortle, https://pokeapi.co/api/v2/pokemon-form/8/}] |water|\n",
      "|9  |blastoise |265        |16    |855 |[{blastoise, https://pokeapi.co/api/v2/pokemon-form/9/}] |water|\n",
      "|10 |caterpie  |39         |3     |29  |[{caterpie, https://pokeapi.co/api/v2/pokemon-form/10/}] |bug  |\n",
      "+---+----------+-----------+------+----+---------------------------------------------------------+-----+\n",
      "only showing top 10 rows\n",
      "\n"
     ]
    }
   ],
   "source": [
    "schema = ArrayType(\n",
    "                   StructType([\n",
    "                               StructField('name', StringType(), True),\n",
    "                               StructField('url', StringType(), True)\n",
    "                              ])\n",
    "                  )\n",
    "\n",
    "df = (spark\n",
    "      .read\n",
    "      .format('jdbc')\n",
    "      .option(\"driver\", \"org.postgresql.Driver\")\n",
    "      .option(\"url\", \"jdbc:postgresql://20.226.0.53:5432/db_aulafia\")\n",
    "      .option(\"dbtable\", \"db_aulafia.pokemon\")\n",
    "      .option(\"user\", \"aulafia\")\n",
    "      .option(\"password\", \"aulafia@123\")\n",
    "      .load()\n",
    "      .withColumn('formas', fn.from_json('formas', schema))\n",
    ")\n",
    "\n",
    "df.show(10, False)"
   ]
  },
  {
   "cell_type": "markdown",
   "id": "72ce1d6a-19c7-4f49-8f08-1aded458eebf",
   "metadata": {
    "tags": []
   },
   "source": [
    "# Escrita Minio em parquet"
   ]
  },
  {
   "cell_type": "code",
   "execution_count": 3,
   "id": "f89958fd-99d2-4b3a-9dd8-feb8a0c1d584",
   "metadata": {},
   "outputs": [],
   "source": [
    "(df\n",
    " .write\n",
    " .format('parquet')\n",
    " .mode('overwrite')\n",
    " .save('s3a://exemplo/exemplo_postgres_minio')\n",
    " )"
   ]
  },
  {
   "cell_type": "markdown",
   "id": "a5241f36-510b-486c-b76f-63d59c971da5",
   "metadata": {},
   "source": [
    "### Leitura Minio em parquet"
   ]
  },
  {
   "cell_type": "code",
   "execution_count": 4,
   "id": "caebb192-b445-44c2-953c-c3518a13c027",
   "metadata": {},
   "outputs": [
    {
     "name": "stdout",
     "output_type": "stream",
     "text": [
      "+---+----------+-----------+------+----+---------------------------------------------------------+-----+\n",
      "|id |nome      |experiencia|altura|peso|formas                                                   |type |\n",
      "+---+----------+-----------+------+----+---------------------------------------------------------+-----+\n",
      "|1  |bulbasaur |64         |7     |69  |[{bulbasaur, https://pokeapi.co/api/v2/pokemon-form/1/}] |grass|\n",
      "|2  |ivysaur   |142        |10    |130 |[{ivysaur, https://pokeapi.co/api/v2/pokemon-form/2/}]   |grass|\n",
      "|3  |venusaur  |263        |20    |1000|[{venusaur, https://pokeapi.co/api/v2/pokemon-form/3/}]  |grass|\n",
      "|4  |charmander|62         |6     |85  |[{charmander, https://pokeapi.co/api/v2/pokemon-form/4/}]|fire |\n",
      "|5  |charmeleon|142        |11    |190 |[{charmeleon, https://pokeapi.co/api/v2/pokemon-form/5/}]|fire |\n",
      "|6  |charizard |267        |17    |905 |[{charizard, https://pokeapi.co/api/v2/pokemon-form/6/}] |fire |\n",
      "|7  |squirtle  |63         |5     |90  |[{squirtle, https://pokeapi.co/api/v2/pokemon-form/7/}]  |water|\n",
      "|8  |wartortle |142        |10    |225 |[{wartortle, https://pokeapi.co/api/v2/pokemon-form/8/}] |water|\n",
      "|9  |blastoise |265        |16    |855 |[{blastoise, https://pokeapi.co/api/v2/pokemon-form/9/}] |water|\n",
      "|10 |caterpie  |39         |3     |29  |[{caterpie, https://pokeapi.co/api/v2/pokemon-form/10/}] |bug  |\n",
      "+---+----------+-----------+------+----+---------------------------------------------------------+-----+\n",
      "only showing top 10 rows\n",
      "\n"
     ]
    }
   ],
   "source": [
    "spark.read.format('parquet').load('s3a://exemplo/exemplo_postgres_minio').show(10, False)"
   ]
  }
 ],
 "metadata": {
  "kernelspec": {
   "display_name": "Python 3 (ipykernel)",
   "language": "python",
   "name": "python3"
  },
  "language_info": {
   "codemirror_mode": {
    "name": "ipython",
    "version": 3
   },
   "file_extension": ".py",
   "mimetype": "text/x-python",
   "name": "python",
   "nbconvert_exporter": "python",
   "pygments_lexer": "ipython3",
   "version": "3.10.5"
  }
 },
 "nbformat": 4,
 "nbformat_minor": 5
}
