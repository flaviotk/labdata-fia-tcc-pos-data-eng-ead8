{
 "cells": [
  {
   "cell_type": "code",
   "execution_count": 1,
   "id": "14055cc5-0d25-488d-8df8-f27dd4879a80",
   "metadata": {},
   "outputs": [
    {
     "data": {
      "text/html": [
       "<style>pre { white-space: pre !important; }</style>"
      ],
      "text/plain": [
       "<IPython.core.display.HTML object>"
      ]
     },
     "metadata": {},
     "output_type": "display_data"
    }
   ],
   "source": [
    "from pyspark.sql.types import *\n",
    "from pyspark.sql.window import Window\n",
    "import pyspark.sql.functions as fn\n",
    "from pyspark.sql import SparkSession\n",
    "from IPython.core.display import HTML\n",
    "display(HTML(\"<style>pre { white-space: pre !important; }</style>\"))"
   ]
  },
  {
   "cell_type": "code",
   "execution_count": 2,
   "id": "57a6a529-163a-428b-892e-643051efe946",
   "metadata": {},
   "outputs": [],
   "source": [
    "spark = (SparkSession.builder\n",
    "         .config(\"spark.jars\",\"\"\"/home/jovyan/jars/aws-java-sdk-core-1.11.534.jar,\n",
    "                                 /home/jovyan/jars/aws-java-sdk-dynamodb-1.11.534.jar,\n",
    "                                 /home/jovyan/jars/aws-java-sdk-s3-1.11.534.jar,\n",
    "                                 /home/jovyan/jars/hadoop-aws-3.2.2.jar\"\"\")\n",
    "         .config(\"spark.hadoop.fs.s3a.endpoint\", \"http://minio:9000\")\n",
    "         .config(\"spark.hadoop.fs.s3a.access.key\", \"aulafia\")\n",
    "         .config(\"spark.hadoop.fs.s3a.secret.key\", \"aulafia@123\")\n",
    "         .config(\"spark.hadoop.fs.s3a.path.style.access\", True)\n",
    "         .config(\"spark.hadoop.fs.s3a.impl\", \"org.apache.hadoop.fs.s3a.S3AFileSystem\")\n",
    "         .config(\"spark.hadoop.fs.s3a.aws.credentials.provider\", \"org.apache.hadoop.fs.s3a.SimpleAWSCredentialsProvider\")\n",
    "         .getOrCreate()\n",
    "        )"
   ]
  },
  {
   "cell_type": "code",
   "execution_count": 4,
   "id": "80234134-352d-47bb-8989-b5e9c7cbec74",
   "metadata": {},
   "outputs": [
    {
     "data": {
      "text/plain": [
       "[('id', 'int'),\n",
       " ('nome', 'string'),\n",
       " ('microrregiao',\n",
       "  'struct<id:int,nome:string,mesorregiao:struct<id:int,nome:string,UF:struct<id:int,sigla:string,nome:string,regiao:struct<id:int,sigla:string,nome:string>>>>'),\n",
       " ('regiao-imediata',\n",
       "  'struct<id:int,nome:string,regiao-intermediaria:struct<id:int,nome:string,UF:struct<id:int,sigla:string,nome:string,regiao:struct<id:int,sigla:string,nome:string>>>>')]"
      ]
     },
     "execution_count": 4,
     "metadata": {},
     "output_type": "execute_result"
    }
   ],
   "source": [
    "df_municipio = spark.read.format('parquet').load('s3a://bronze/ibge/municipio')\n",
    "df_municipio.dtypes"
   ]
  },
  {
   "cell_type": "code",
   "execution_count": 5,
   "id": "6669be97-9cfb-4cbd-9696-6b794281bc91",
   "metadata": {},
   "outputs": [
    {
     "name": "stdout",
     "output_type": "stream",
     "text": [
      "+-------+---------------------+----------------------------------------------------------------------------------------+-----------------------------------------------------------------------------+\n",
      "|id     |nome                 |microrregiao                                                                            |regiao-imediata                                                              |\n",
      "+-------+---------------------+----------------------------------------------------------------------------------------+-----------------------------------------------------------------------------+\n",
      "|1100015|Alta Floresta D'Oeste|{11006, Cacoal, {1102, Leste Rondoniense, {11, RO, Rondônia, {1, N, Norte}}}}           |{110005, Cacoal, {1102, Ji-Paraná, {11, RO, Rondônia, {1, N, Norte}}}}       |\n",
      "|1100023|Ariquemes            |{11003, Ariquemes, {1102, Leste Rondoniense, {11, RO, Rondônia, {1, N, Norte}}}}        |{110002, Ariquemes, {1101, Porto Velho, {11, RO, Rondônia, {1, N, Norte}}}}  |\n",
      "|1100031|Cabixi               |{11008, Colorado do Oeste, {1102, Leste Rondoniense, {11, RO, Rondônia, {1, N, Norte}}}}|{110006, Vilhena, {1102, Ji-Paraná, {11, RO, Rondônia, {1, N, Norte}}}}      |\n",
      "|1100049|Cacoal               |{11006, Cacoal, {1102, Leste Rondoniense, {11, RO, Rondônia, {1, N, Norte}}}}           |{110005, Cacoal, {1102, Ji-Paraná, {11, RO, Rondônia, {1, N, Norte}}}}       |\n",
      "|1100056|Cerejeiras           |{11008, Colorado do Oeste, {1102, Leste Rondoniense, {11, RO, Rondônia, {1, N, Norte}}}}|{110006, Vilhena, {1102, Ji-Paraná, {11, RO, Rondônia, {1, N, Norte}}}}      |\n",
      "|1100064|Colorado do Oeste    |{11008, Colorado do Oeste, {1102, Leste Rondoniense, {11, RO, Rondônia, {1, N, Norte}}}}|{110006, Vilhena, {1102, Ji-Paraná, {11, RO, Rondônia, {1, N, Norte}}}}      |\n",
      "|1100072|Corumbiara           |{11008, Colorado do Oeste, {1102, Leste Rondoniense, {11, RO, Rondônia, {1, N, Norte}}}}|{110006, Vilhena, {1102, Ji-Paraná, {11, RO, Rondônia, {1, N, Norte}}}}      |\n",
      "|1100080|Costa Marques        |{11002, Guajará-Mirim, {1101, Madeira-Guaporé, {11, RO, Rondônia, {1, N, Norte}}}}      |{110004, Ji-Paraná, {1102, Ji-Paraná, {11, RO, Rondônia, {1, N, Norte}}}}    |\n",
      "|1100098|Espigão D'Oeste      |{11006, Cacoal, {1102, Leste Rondoniense, {11, RO, Rondônia, {1, N, Norte}}}}           |{110005, Cacoal, {1102, Ji-Paraná, {11, RO, Rondônia, {1, N, Norte}}}}       |\n",
      "|1100106|Guajará-Mirim        |{11002, Guajará-Mirim, {1101, Madeira-Guaporé, {11, RO, Rondônia, {1, N, Norte}}}}      |{110001, Porto Velho, {1101, Porto Velho, {11, RO, Rondônia, {1, N, Norte}}}}|\n",
      "|1100114|Jaru                 |{11004, Ji-Paraná, {1102, Leste Rondoniense, {11, RO, Rondônia, {1, N, Norte}}}}        |{110003, Jaru, {1101, Porto Velho, {11, RO, Rondônia, {1, N, Norte}}}}       |\n",
      "|1100122|Ji-Paraná            |{11004, Ji-Paraná, {1102, Leste Rondoniense, {11, RO, Rondônia, {1, N, Norte}}}}        |{110004, Ji-Paraná, {1102, Ji-Paraná, {11, RO, Rondônia, {1, N, Norte}}}}    |\n",
      "+-------+---------------------+----------------------------------------------------------------------------------------+-----------------------------------------------------------------------------+\n",
      "only showing top 12 rows\n",
      "\n"
     ]
    }
   ],
   "source": [
    "df_municipio.show(12, False)"
   ]
  },
  {
   "cell_type": "code",
   "execution_count": 6,
   "id": "6aef4cf3-1a52-4264-b02a-6b0193c64bcf",
   "metadata": {},
   "outputs": [],
   "source": [
    "df_municipio_campos = (\n",
    "   df_municipio.select(fn.col(\"id\"),\n",
    "                       fn.col(\"nome\"),\n",
    "                       fn.col(\"microrregiao.id\").alias('microregiao_id'),\n",
    "                       fn.col(\"microrregiao.nome\").alias('microregiao_nome'),\n",
    "                       fn.col(\"microrregiao.mesorregiao.id\").alias('microregiao_mesoregiao_id'),\n",
    "                       fn.col(\"microrregiao.mesorregiao.nome\").alias('microregiao_mesoregiao_nome'),\n",
    "                       fn.col(\"microrregiao.mesorregiao.UF.id\").alias('microregiao_mesoregiao_uf_id'),\n",
    "                       fn.col(\"microrregiao.mesorregiao.UF.sigla\").alias('microregiao_mesoregiao_uf_sigla'),\n",
    "                       fn.col(\"microrregiao.mesorregiao.UF.nome\").alias('microregiao_mesoregiao_uf_nome'),\n",
    "                       fn.col(\"microrregiao.mesorregiao.UF.regiao.id\").alias('microregiao_mesoregiao_uf_regiao_id'),\n",
    "                       fn.col(\"microrregiao.mesorregiao.UF.regiao.sigla\").alias('microregiao_mesoregiao_uf_regiao_sigla'),\n",
    "                       fn.col(\"microrregiao.mesorregiao.UF.regiao.nome\").alias('microregiao_mesoregiao_uf_regiao_nome'),\n",
    "                       fn.col(\"regiao-imediata.id\").alias('regiao_imediata_id'),\n",
    "                       fn.col(\"regiao-imediata.nome\").alias('regiao_imediata_nome'),\n",
    "                       fn.col(\"regiao-imediata.regiao-intermediaria.id\").alias('regiao_imediata_intermediaria_id'),\n",
    "                       fn.col(\"regiao-imediata.regiao-intermediaria.nome\").alias('regiao_imediata_intermediaria_nome'),\n",
    "                       fn.col(\"regiao-imediata.regiao-intermediaria.UF.id\").alias('regiao_imediata_intermediaria_uf_id'),\n",
    "                       fn.col(\"regiao-imediata.regiao-intermediaria.UF.sigla\").alias('regiao_imediata_intermediaria_uf_sigla'),\n",
    "                       fn.col(\"regiao-imediata.regiao-intermediaria.UF.nome\").alias('regiao_imediata_intermediaria_uf_nome'),\n",
    "                       fn.col(\"regiao-imediata.regiao-intermediaria.UF.regiao.id\").alias('regiao_imediata_intermediaria_uf_regiao_id'),\n",
    "                       fn.col(\"regiao-imediata.regiao-intermediaria.UF.regiao.sigla\").alias('regiao_imediata_intermediaria_uf_regiao_sigla'),\n",
    "                       fn.col(\"regiao-imediata.regiao-intermediaria.UF.regiao.nome\").alias('regiao_imediata_intermediaria_uf_regiao_nome')\n",
    "                      )\n",
    "                    )"
   ]
  },
  {
   "cell_type": "code",
   "execution_count": 7,
   "id": "8e647c54-bf0d-4578-bd1d-a42fb6ac6668",
   "metadata": {},
   "outputs": [
    {
     "name": "stdout",
     "output_type": "stream",
     "text": [
      "+-------+---------------------+--------------+-----------------+-------------------------+---------------------------+----------------------------+-------------------------------+------------------------------+-----------------------------------+--------------------------------------+-------------------------------------+------------------+--------------------+--------------------------------+----------------------------------+-----------------------------------+--------------------------------------+-------------------------------------+------------------------------------------+---------------------------------------------+--------------------------------------------+\n",
      "|id     |nome                 |microregiao_id|microregiao_nome |microregiao_mesoregiao_id|microregiao_mesoregiao_nome|microregiao_mesoregiao_uf_id|microregiao_mesoregiao_uf_sigla|microregiao_mesoregiao_uf_nome|microregiao_mesoregiao_uf_regiao_id|microregiao_mesoregiao_uf_regiao_sigla|microregiao_mesoregiao_uf_regiao_nome|regiao_imediata_id|regiao_imediata_nome|regiao_imediata_intermediaria_id|regiao_imediata_intermediaria_nome|regiao_imediata_intermediaria_uf_id|regiao_imediata_intermediaria_uf_sigla|regiao_imediata_intermediaria_uf_nome|regiao_imediata_intermediaria_uf_regiao_id|regiao_imediata_intermediaria_uf_regiao_sigla|regiao_imediata_intermediaria_uf_regiao_nome|\n",
      "+-------+---------------------+--------------+-----------------+-------------------------+---------------------------+----------------------------+-------------------------------+------------------------------+-----------------------------------+--------------------------------------+-------------------------------------+------------------+--------------------+--------------------------------+----------------------------------+-----------------------------------+--------------------------------------+-------------------------------------+------------------------------------------+---------------------------------------------+--------------------------------------------+\n",
      "|1100015|Alta Floresta D'Oeste|11006         |Cacoal           |1102                     |Leste Rondoniense          |11                          |RO                             |Rondônia                      |1                                  |N                                     |Norte                                |110005            |Cacoal              |1102                            |Ji-Paraná                         |11                                 |RO                                    |Rondônia                             |1                                         |N                                            |Norte                                       |\n",
      "|1100023|Ariquemes            |11003         |Ariquemes        |1102                     |Leste Rondoniense          |11                          |RO                             |Rondônia                      |1                                  |N                                     |Norte                                |110002            |Ariquemes           |1101                            |Porto Velho                       |11                                 |RO                                    |Rondônia                             |1                                         |N                                            |Norte                                       |\n",
      "|1100031|Cabixi               |11008         |Colorado do Oeste|1102                     |Leste Rondoniense          |11                          |RO                             |Rondônia                      |1                                  |N                                     |Norte                                |110006            |Vilhena             |1102                            |Ji-Paraná                         |11                                 |RO                                    |Rondônia                             |1                                         |N                                            |Norte                                       |\n",
      "|1100049|Cacoal               |11006         |Cacoal           |1102                     |Leste Rondoniense          |11                          |RO                             |Rondônia                      |1                                  |N                                     |Norte                                |110005            |Cacoal              |1102                            |Ji-Paraná                         |11                                 |RO                                    |Rondônia                             |1                                         |N                                            |Norte                                       |\n",
      "|1100056|Cerejeiras           |11008         |Colorado do Oeste|1102                     |Leste Rondoniense          |11                          |RO                             |Rondônia                      |1                                  |N                                     |Norte                                |110006            |Vilhena             |1102                            |Ji-Paraná                         |11                                 |RO                                    |Rondônia                             |1                                         |N                                            |Norte                                       |\n",
      "|1100064|Colorado do Oeste    |11008         |Colorado do Oeste|1102                     |Leste Rondoniense          |11                          |RO                             |Rondônia                      |1                                  |N                                     |Norte                                |110006            |Vilhena             |1102                            |Ji-Paraná                         |11                                 |RO                                    |Rondônia                             |1                                         |N                                            |Norte                                       |\n",
      "|1100072|Corumbiara           |11008         |Colorado do Oeste|1102                     |Leste Rondoniense          |11                          |RO                             |Rondônia                      |1                                  |N                                     |Norte                                |110006            |Vilhena             |1102                            |Ji-Paraná                         |11                                 |RO                                    |Rondônia                             |1                                         |N                                            |Norte                                       |\n",
      "|1100080|Costa Marques        |11002         |Guajará-Mirim    |1101                     |Madeira-Guaporé            |11                          |RO                             |Rondônia                      |1                                  |N                                     |Norte                                |110004            |Ji-Paraná           |1102                            |Ji-Paraná                         |11                                 |RO                                    |Rondônia                             |1                                         |N                                            |Norte                                       |\n",
      "|1100098|Espigão D'Oeste      |11006         |Cacoal           |1102                     |Leste Rondoniense          |11                          |RO                             |Rondônia                      |1                                  |N                                     |Norte                                |110005            |Cacoal              |1102                            |Ji-Paraná                         |11                                 |RO                                    |Rondônia                             |1                                         |N                                            |Norte                                       |\n",
      "|1100106|Guajará-Mirim        |11002         |Guajará-Mirim    |1101                     |Madeira-Guaporé            |11                          |RO                             |Rondônia                      |1                                  |N                                     |Norte                                |110001            |Porto Velho         |1101                            |Porto Velho                       |11                                 |RO                                    |Rondônia                             |1                                         |N                                            |Norte                                       |\n",
      "|1100114|Jaru                 |11004         |Ji-Paraná        |1102                     |Leste Rondoniense          |11                          |RO                             |Rondônia                      |1                                  |N                                     |Norte                                |110003            |Jaru                |1101                            |Porto Velho                       |11                                 |RO                                    |Rondônia                             |1                                         |N                                            |Norte                                       |\n",
      "|1100122|Ji-Paraná            |11004         |Ji-Paraná        |1102                     |Leste Rondoniense          |11                          |RO                             |Rondônia                      |1                                  |N                                     |Norte                                |110004            |Ji-Paraná           |1102                            |Ji-Paraná                         |11                                 |RO                                    |Rondônia                             |1                                         |N                                            |Norte                                       |\n",
      "+-------+---------------------+--------------+-----------------+-------------------------+---------------------------+----------------------------+-------------------------------+------------------------------+-----------------------------------+--------------------------------------+-------------------------------------+------------------+--------------------+--------------------------------+----------------------------------+-----------------------------------+--------------------------------------+-------------------------------------+------------------------------------------+---------------------------------------------+--------------------------------------------+\n",
      "only showing top 12 rows\n",
      "\n"
     ]
    }
   ],
   "source": [
    "df_municipio_campos.show(12, False)"
   ]
  },
  {
   "cell_type": "code",
   "execution_count": 8,
   "id": "bae69193-2b0b-43ba-9401-52456275be36",
   "metadata": {},
   "outputs": [],
   "source": [
    "(df_municipio_campos\n",
    " .write\n",
    " .format('parquet')\n",
    " .mode('overwrite')\n",
    " .save('s3a://silver/dado_geografico/municipio')\n",
    " )"
   ]
  },
  {
   "cell_type": "code",
   "execution_count": 9,
   "id": "0a1d1582-8903-424d-b045-220a98585ebd",
   "metadata": {},
   "outputs": [],
   "source": [
    "pandasDF = df_municipio_campos.toPandas()"
   ]
  },
  {
   "cell_type": "code",
   "execution_count": 11,
   "id": "8ca30418-f0c9-4777-b86d-a579f1f614fc",
   "metadata": {},
   "outputs": [],
   "source": [
    "pandasDF.to_excel('api_ibge_municipios_export.xlsx', sheet_name='municipios', index = False)"
   ]
  },
  {
   "cell_type": "code",
   "execution_count": null,
   "id": "152f0d8b-b6f6-4125-91c9-e48386033971",
   "metadata": {},
   "outputs": [],
   "source": []
  }
 ],
 "metadata": {
  "kernelspec": {
   "display_name": "Python 3 (ipykernel)",
   "language": "python",
   "name": "python3"
  },
  "language_info": {
   "codemirror_mode": {
    "name": "ipython",
    "version": 3
   },
   "file_extension": ".py",
   "mimetype": "text/x-python",
   "name": "python",
   "nbconvert_exporter": "python",
   "pygments_lexer": "ipython3",
   "version": "3.10.5"
  }
 },
 "nbformat": 4,
 "nbformat_minor": 5
}
