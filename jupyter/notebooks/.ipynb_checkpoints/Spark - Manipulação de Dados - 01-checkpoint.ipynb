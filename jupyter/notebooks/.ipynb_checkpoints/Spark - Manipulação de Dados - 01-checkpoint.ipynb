{
 "cells": [
  {
   "cell_type": "markdown",
   "metadata": {
    "application/vnd.databricks.v1+cell": {
     "cellMetadata": {},
     "inputWidgets": {},
     "nuid": "22502b93-f826-4065-aad4-e358bbc65569",
     "showTitle": true,
     "title": "Temas"
    },
    "tags": []
   },
   "source": [
    "# Manipulação de Dados - Parte 1"
   ]
  },
  {
   "cell_type": "markdown",
   "metadata": {
    "application/vnd.databricks.v1+cell": {
     "cellMetadata": {},
     "inputWidgets": {},
     "nuid": "22502b93-f826-4065-aad4-e358bbc65569",
     "showTitle": true,
     "title": "Temas"
    },
    "tags": []
   },
   "source": [
    "##### Seleção\n",
    "##### Filtros\n",
    "##### Agregação\n",
    "##### Ordenação"
   ]
  },
  {
   "cell_type": "markdown",
   "metadata": {
    "tags": []
   },
   "source": [
    "# Configurações Iniciais"
   ]
  },
  {
   "cell_type": "code",
   "execution_count": 1,
   "metadata": {},
   "outputs": [],
   "source": [
    "from pyspark.sql import SparkSession\n",
    "import pyspark.sql.functions as fn\n",
    "\n",
    "spark = SparkSession.builder.getOrCreate()"
   ]
  },
  {
   "cell_type": "markdown",
   "metadata": {
    "tags": []
   },
   "source": [
    "# Import da Base"
   ]
  },
  {
   "cell_type": "code",
   "execution_count": 2,
   "metadata": {
    "application/vnd.databricks.v1+cell": {
     "cellMetadata": {
      "byteLimit": 2048000,
      "rowLimit": 10000
     },
     "inputWidgets": {},
     "nuid": "c1a1be8b-601a-4756-9f4c-a7e6d0e888ed",
     "showTitle": true,
     "title": "Carga dos dataframes iniciais"
    }
   },
   "outputs": [],
   "source": [
    "dfPokemon = (spark.read.format('json')\n",
    "             .load('/home/jovyan/files/pokemons.json'))"
   ]
  },
  {
   "cell_type": "markdown",
   "metadata": {
    "tags": []
   },
   "source": [
    "# Conhecendo a Base"
   ]
  },
  {
   "cell_type": "code",
   "execution_count": 9,
   "metadata": {
    "application/vnd.databricks.v1+cell": {
     "cellMetadata": {
      "byteLimit": 2048000,
      "implicitDf": true,
      "rowLimit": 10000
     },
     "inputWidgets": {},
     "nuid": "0d1832f6-deaa-4f77-9d0e-d771c542d13b",
     "showTitle": false,
     "title": ""
    }
   },
   "outputs": [
    {
     "name": "stdout",
     "output_type": "stream",
     "text": [
      "+------+-----------+---------------------------------------------------------+---+----------+----+-----+\n",
      "|altura|experiencia|formas                                                   |id |nome      |peso|type |\n",
      "+------+-----------+---------------------------------------------------------+---+----------+----+-----+\n",
      "|7     |64         |[{bulbasaur, https://pokeapi.co/api/v2/pokemon-form/1/}] |1  |bulbasaur |69  |grass|\n",
      "|10    |142        |[{ivysaur, https://pokeapi.co/api/v2/pokemon-form/2/}]   |2  |ivysaur   |130 |grass|\n",
      "|20    |263        |[{venusaur, https://pokeapi.co/api/v2/pokemon-form/3/}]  |3  |venusaur  |1000|grass|\n",
      "|6     |62         |[{charmander, https://pokeapi.co/api/v2/pokemon-form/4/}]|4  |charmander|85  |fire |\n",
      "|11    |142        |[{charmeleon, https://pokeapi.co/api/v2/pokemon-form/5/}]|5  |charmeleon|190 |fire |\n",
      "|17    |267        |[{charizard, https://pokeapi.co/api/v2/pokemon-form/6/}] |6  |charizard |905 |fire |\n",
      "|5     |63         |[{squirtle, https://pokeapi.co/api/v2/pokemon-form/7/}]  |7  |squirtle  |90  |water|\n",
      "|10    |142        |[{wartortle, https://pokeapi.co/api/v2/pokemon-form/8/}] |8  |wartortle |225 |water|\n",
      "|16    |265        |[{blastoise, https://pokeapi.co/api/v2/pokemon-form/9/}] |9  |blastoise |855 |water|\n",
      "|3     |39         |[{caterpie, https://pokeapi.co/api/v2/pokemon-form/10/}] |10 |caterpie  |29  |bug  |\n",
      "+------+-----------+---------------------------------------------------------+---+----------+----+-----+\n",
      "only showing top 10 rows\n",
      "\n"
     ]
    }
   ],
   "source": [
    "dfPokemon.show(10, False)\n",
    "#dfPokemon.printSchema()"
   ]
  },
  {
   "cell_type": "markdown",
   "metadata": {
    "tags": []
   },
   "source": [
    "# Exemplos"
   ]
  },
  {
   "cell_type": "markdown",
   "metadata": {
    "tags": []
   },
   "source": [
    "### Seleção"
   ]
  },
  {
   "cell_type": "code",
   "execution_count": 24,
   "metadata": {
    "application/vnd.databricks.v1+cell": {
     "cellMetadata": {},
     "inputWidgets": {},
     "nuid": "8f659db5-170c-4ed9-b776-577a49acf9cc",
     "showTitle": true,
     "title": "Seleção"
    }
   },
   "outputs": [
    {
     "name": "stdout",
     "output_type": "stream",
     "text": [
      "+-----+------+---------+--------------+\n",
      "|id_01|altura|     nome|nome_maiusculo|\n",
      "+-----+------+---------+--------------+\n",
      "|    1|     7|bulbasaur|     BULBASAUR|\n",
      "|    2|    10|  ivysaur|       IVYSAUR|\n",
      "|    3|    20| venusaur|      VENUSAUR|\n",
      "+-----+------+---------+--------------+\n",
      "only showing top 3 rows\n",
      "\n"
     ]
    }
   ],
   "source": [
    "(dfPokemon\n",
    " .select(fn.col('id').alias('id_01'), dfPokemon.id.alias('id_02'), 'id', '*')\n",
    " .drop('type','id')\n",
    " .select('id_01', 'altura', 'nome')\n",
    " .withColumn('nome_maiusculo', fn.upper('nome'))\n",
    " .show(3)\n",
    ")"
   ]
  },
  {
   "cell_type": "markdown",
   "metadata": {
    "tags": []
   },
   "source": [
    "### Filtro"
   ]
  },
  {
   "cell_type": "code",
   "execution_count": 42,
   "metadata": {
    "application/vnd.databricks.v1+cell": {
     "cellMetadata": {},
     "inputWidgets": {},
     "nuid": "a7e405c6-b937-4fe4-97fa-cac6f5934630",
     "showTitle": true,
     "title": "Filtros"
    }
   },
   "outputs": [
    {
     "name": "stdout",
     "output_type": "stream",
     "text": [
      "+------+-----------+--------------------+---+----------+----+-----+\n",
      "|altura|experiencia|              formas| id|      nome|peso| type|\n",
      "+------+-----------+--------------------+---+----------+----+-----+\n",
      "|     7|         64|[{bulbasaur, http...|  1| bulbasaur|  69|grass|\n",
      "|    10|        142|[{ivysaur, https:...|  2|   ivysaur| 130|grass|\n",
      "|     6|         62|[{charmander, htt...|  4|charmander|  85| fire|\n",
      "|    11|        142|[{charmeleon, htt...|  5|charmeleon| 190| fire|\n",
      "|    17|        267|[{charizard, http...|  6| charizard| 905| fire|\n",
      "|     5|         63|[{squirtle, https...|  7|  squirtle|  90|water|\n",
      "|    10|        142|[{wartortle, http...|  8| wartortle| 225|water|\n",
      "|    16|        265|[{blastoise, http...|  9| blastoise| 855|water|\n",
      "|     3|         39|[{caterpie, https...| 10|  caterpie|  29|  bug|\n",
      "|     7|         72|[{metapod, https:...| 11|   metapod|  99|  bug|\n",
      "+------+-----------+--------------------+---+----------+----+-----+\n",
      "only showing top 10 rows\n",
      "\n"
     ]
    }
   ],
   "source": [
    "(dfPokemon\n",
    " .filter(fn.col('altura') < 20)\n",
    " #.filter( (fn.col('peso') < 50) | (fn.col('experiencia') > 10) ) \n",
    " .show(10)\n",
    ")"
   ]
  },
  {
   "cell_type": "markdown",
   "metadata": {},
   "source": [
    "### Agregação"
   ]
  },
  {
   "cell_type": "code",
   "execution_count": 43,
   "metadata": {
    "application/vnd.databricks.v1+cell": {
     "cellMetadata": {},
     "inputWidgets": {},
     "nuid": "c5efc6ab-076c-4f6a-9287-c408c6468a42",
     "showTitle": true,
     "title": "Agregação"
    }
   },
   "outputs": [
    {
     "name": "stdout",
     "output_type": "stream",
     "text": [
      "+------+----------+---------+\n",
      "|altura|peso_total|qtd_total|\n",
      "+------+----------+---------+\n",
      "|    26|      4075|        2|\n",
      "|    29|     13400|        3|\n",
      "|    65|     10300|        3|\n",
      "+------+----------+---------+\n",
      "only showing top 3 rows\n",
      "\n"
     ]
    }
   ],
   "source": [
    "(dfPokemon\n",
    " .groupBy('altura')\n",
    " .agg(fn.sum('peso').alias('peso_total'), \n",
    "      fn.count('id').alias('qtd_total'))\n",
    " .show(3)\n",
    ")"
   ]
  },
  {
   "cell_type": "markdown",
   "metadata": {},
   "source": [
    "### Ordenação"
   ]
  },
  {
   "cell_type": "code",
   "execution_count": 53,
   "metadata": {
    "application/vnd.databricks.v1+cell": {
     "cellMetadata": {},
     "inputWidgets": {},
     "nuid": "54378920-bdf7-4547-9300-8a8904990385",
     "showTitle": true,
     "title": "Ordenação"
    }
   },
   "outputs": [
    {
     "name": "stdout",
     "output_type": "stream",
     "text": [
      "+------+-----------+--------------------+-----+------------------+----+-------+\n",
      "|altura|experiencia|              formas|   id|              nome|peso|   type|\n",
      "+------+-----------+--------------------+-----+------------------+----+-------+\n",
      "|     1|        140|[{cosmoem, https:...|  790|           cosmoem|9999|psychic|\n",
      "|     1|       null|[{gimmighoul-roam...|10263|gimmighoul-roaming|  10|  ghost|\n",
      "|     1|         64|[{joltik, https:/...|  595|            joltik|   6|    bug|\n",
      "+------+-----------+--------------------+-----+------------------+----+-------+\n",
      "only showing top 3 rows\n",
      "\n"
     ]
    }
   ],
   "source": [
    "#(dfPokemon\n",
    "# .groupBy('altura')\n",
    "# .agg(fn.sum('peso').alias('PESO'))\n",
    "# .orderBy('altura')\n",
    "# .show()\n",
    "#)\n",
    "dfPokemon.orderBy('altura', fn.col('peso').desc() ).show(3)"
   ]
  },
  {
   "cell_type": "markdown",
   "metadata": {
    "tags": []
   },
   "source": [
    "# Exercícios"
   ]
  },
  {
   "cell_type": "markdown",
   "metadata": {
    "tags": []
   },
   "source": [
    "### Exercício 01"
   ]
  },
  {
   "cell_type": "code",
   "execution_count": 57,
   "metadata": {
    "application/vnd.databricks.v1+cell": {
     "cellMetadata": {},
     "inputWidgets": {},
     "nuid": "1f3d5bac-4ec4-4857-972f-56a7ba8e3c64",
     "showTitle": true,
     "title": "Pergunta 1"
    }
   },
   "outputs": [
    {
     "name": "stdout",
     "output_type": "stream",
     "text": [
      "+---------+------------------+\n",
      "|count(id)|count(DISTINCT id)|\n",
      "+---------+------------------+\n",
      "|     1281|              1281|\n",
      "+---------+------------------+\n",
      "\n"
     ]
    }
   ],
   "source": [
    "# quantos pokemons existem no total?\n",
    "(dfPokemon.count(), dfPokemon.distinct().count())\n",
    "dfPokemon.select(fn.count('id'), fn.count_distinct('id')).show()"
   ]
  },
  {
   "cell_type": "markdown",
   "metadata": {},
   "source": [
    "### Exercício 02"
   ]
  },
  {
   "cell_type": "code",
   "execution_count": 58,
   "metadata": {
    "application/vnd.databricks.v1+cell": {
     "cellMetadata": {},
     "inputWidgets": {},
     "nuid": "c7449c97-d9ff-487e-a21a-f59396e947b0",
     "showTitle": true,
     "title": "Pergunta 2"
    }
   },
   "outputs": [
    {
     "name": "stdout",
     "output_type": "stream",
     "text": [
      "+---------+\n",
      "|sum(peso)|\n",
      "+---------+\n",
      "|  1254704|\n",
      "+---------+\n",
      "\n"
     ]
    }
   ],
   "source": [
    "# quantos kgs pesam todos os pokemons juntos?\n",
    "dfPokemon.select(fn.sum('peso')).show()"
   ]
  },
  {
   "cell_type": "markdown",
   "metadata": {},
   "source": [
    "### Exercício 03"
   ]
  },
  {
   "cell_type": "code",
   "execution_count": 60,
   "metadata": {
    "application/vnd.databricks.v1+cell": {
     "cellMetadata": {},
     "inputWidgets": {},
     "nuid": "83e32ea4-296b-4f0e-989b-e673e81c7da0",
     "showTitle": true,
     "title": "Pergunta 3"
    }
   },
   "outputs": [
    {
     "name": "stdout",
     "output_type": "stream",
     "text": [
      "+------+-----------+--------------------+---+------------------+----+--------+\n",
      "|altura|experiencia|              formas| id|              nome|peso|    type|\n",
      "+------+-----------+--------------------+---+------------------+----+--------+\n",
      "|    18|       null|[{wyrdeer, https:...|899|           wyrdeer| 951|  normal|\n",
      "|    18|       null|[{kleavor, https:...|900|           kleavor| 890|     bug|\n",
      "|    24|       null|[{ursaluna, https...|901|          ursaluna|2900|  ground|\n",
      "|    30|       null|[{basculegion-mal...|902|  basculegion-male|1100|   water|\n",
      "|    13|       null|[{sneasler, https...|903|          sneasler| 430|fighting|\n",
      "|    25|       null|[{overqwil, https...|904|          overqwil| 605|    dark|\n",
      "|    16|       null|[{enamorus-incarn...|905|enamorus-incarnate| 480|   fairy|\n",
      "|     4|       null|[{sprigatito, htt...|906|        sprigatito|  41|   grass|\n",
      "|     9|       null|[{floragato, http...|907|         floragato| 122|   grass|\n",
      "|    15|       null|[{meowscarada, ht...|908|       meowscarada| 312|   grass|\n",
      "|     4|       null|[{fuecoco, https:...|909|           fuecoco|  98|    fire|\n",
      "|    10|       null|[{crocalor, https...|910|          crocalor| 307|    fire|\n",
      "|    16|       null|[{skeledirge, htt...|911|        skeledirge|3265|    fire|\n",
      "|     5|       null|[{quaxly, https:/...|912|            quaxly|  61|   water|\n",
      "|    12|       null|[{quaxwell, https...|913|          quaxwell| 215|   water|\n",
      "|    18|       null|[{quaquaval, http...|914|         quaquaval| 619|   water|\n",
      "|     5|       null|[{lechonk, https:...|915|           lechonk| 102|  normal|\n",
      "|    10|       null|[{oinkologne, htt...|916|        oinkologne|1200|  normal|\n",
      "|     3|       null|[{tarountula, htt...|917|        tarountula|  40|     bug|\n",
      "|    10|       null|[{spidops, https:...|918|           spidops| 165|     bug|\n",
      "+------+-----------+--------------------+---+------------------+----+--------+\n",
      "only showing top 20 rows\n",
      "\n"
     ]
    }
   ],
   "source": [
    "# retorne os pokemons que não possuem experiência\n",
    "                                            #OR\n",
    "dfPokemon.filter( (fn.col('experiencia') < 1) |  (fn.col('experiencia').isNull() ) ).show()"
   ]
  },
  {
   "cell_type": "markdown",
   "metadata": {},
   "source": [
    "### Exercício 04"
   ]
  },
  {
   "cell_type": "code",
   "execution_count": 71,
   "metadata": {
    "application/vnd.databricks.v1+cell": {
     "cellMetadata": {},
     "inputWidgets": {},
     "nuid": "edd9eadb-ab85-42a3-b638-a7d1645568e7",
     "showTitle": true,
     "title": "Pergunta 4"
    }
   },
   "outputs": [
    {
     "name": "stdout",
     "output_type": "stream",
     "text": [
      "Maior peso: 10000kg\n",
      "+------+-----------+--------------------+-----+--------------+-----+-----+\n",
      "|altura|experiencia|              formas|   id|          nome| peso| type|\n",
      "+------+-----------+--------------------+-----+--------------+-----+-----+\n",
      "|   240|        236|[{venusaur-gmax, ...|10195| venusaur-gmax|10000|grass|\n",
      "|   280|        240|[{charizard-gmax,...|10196|charizard-gmax|10000| fire|\n",
      "|   250|        239|[{blastoise-gmax,...|10197|blastoise-gmax|10000|water|\n",
      "+------+-----------+--------------------+-----+--------------+-----+-----+\n",
      "only showing top 3 rows\n",
      "\n"
     ]
    }
   ],
   "source": [
    "# retorne o(s) pokemon(s) mais pesado(s)\n",
    "\n",
    "max_peso = dfPokemon.select(fn.max('peso')).first()[0]\n",
    "print(f'Maior peso: {max_peso}kg')\n",
    "\n",
    "dfPokemon.filter(fn.col('peso') == max_peso).show(3)"
   ]
  },
  {
   "cell_type": "markdown",
   "metadata": {},
   "source": [
    "### Exercício 05"
   ]
  },
  {
   "cell_type": "code",
   "execution_count": 73,
   "metadata": {
    "application/vnd.databricks.v1+cell": {
     "cellMetadata": {},
     "inputWidgets": {},
     "nuid": "d421ebd0-2de3-4ea5-8245-cd79841da473",
     "showTitle": true,
     "title": "Pergunta 5"
    }
   },
   "outputs": [
    {
     "name": "stdout",
     "output_type": "stream",
     "text": [
      "Menor altura: 1m\n",
      "+------+-----------+--------------------+-----+------------------+----+-------+\n",
      "|altura|experiencia|              formas|   id|              nome|peso|   type|\n",
      "+------+-----------+--------------------+-----+------------------+----+-------+\n",
      "|     1|         64|[{joltik, https:/...|  595|            joltik|   6|    bug|\n",
      "|     1|         61|[{flabebe-red, ht...|  669|           flabebe|   1|  fairy|\n",
      "|     1|         61|[{cutiefly, https...|  742|          cutiefly|   2|    bug|\n",
      "|     1|        170|[{comfey, https:/...|  764|            comfey|   3|  fairy|\n",
      "|     1|        140|[{cosmoem, https:...|  790|           cosmoem|9999|psychic|\n",
      "|     1|         62|[{sinistea-phony,...|  854|          sinistea|   2|  ghost|\n",
      "|     1|       null|[{gimmighoul-roam...|10263|gimmighoul-roaming|  10|  ghost|\n",
      "+------+-----------+--------------------+-----+------------------+----+-------+\n",
      "\n"
     ]
    }
   ],
   "source": [
    "# retorne o(s) pokemon(s) mais baixos(s)\n",
    "\n",
    "menor_altura = dfPokemon.select(fn.min('altura')).first()[0]\n",
    "print(f'Menor altura: {menor_altura}m')\n",
    "\n",
    "dfPokemon.filter(fn.col('altura') == menor_altura).show()"
   ]
  },
  {
   "cell_type": "markdown",
   "metadata": {},
   "source": [
    "### Exercício 06"
   ]
  },
  {
   "cell_type": "code",
   "execution_count": 83,
   "metadata": {
    "application/vnd.databricks.v1+cell": {
     "cellMetadata": {},
     "inputWidgets": {},
     "nuid": "148b8c02-bd5b-485b-861c-443be7b5260c",
     "showTitle": true,
     "title": "Pergunta 6"
    }
   },
   "outputs": [
    {
     "name": "stdout",
     "output_type": "stream",
     "text": [
      "+---------+\n",
      "|count(id)|\n",
      "+---------+\n",
      "|      289|\n",
      "+---------+\n",
      "\n",
      "+--------------+-----------+\n",
      "|          nome|experiencia|\n",
      "+--------------+-----------+\n",
      "|manectric-mega|        201|\n",
      "|   glalie-mega|        203|\n",
      "|  lopunny-mega|        203|\n",
      "+--------------+-----------+\n",
      "only showing top 3 rows\n",
      "\n"
     ]
    }
   ],
   "source": [
    "# quantos pokemons tem mais de 200 pontos de experiencia? E quais são?\n",
    "\n",
    "df_200_mais = dfPokemon.filter(fn.col('experiencia') > 200)\n",
    "\n",
    "df_200_mais.select(fn.count('id')).show()\n",
    "\n",
    "df_200_mais.select('nome', 'experiencia').orderBy('experiencia').show(3)"
   ]
  },
  {
   "cell_type": "markdown",
   "metadata": {},
   "source": [
    "### Exercício 07"
   ]
  },
  {
   "cell_type": "code",
   "execution_count": 90,
   "metadata": {
    "application/vnd.databricks.v1+cell": {
     "cellMetadata": {},
     "inputWidgets": {},
     "nuid": "3f1d0e40-f37a-4fdb-a10a-6253c20368ae",
     "showTitle": true,
     "title": "Pergunta 7"
    }
   },
   "outputs": [
    {
     "name": "stdout",
     "output_type": "stream",
     "text": [
      "+---------+\n",
      "|count(id)|\n",
      "+---------+\n",
      "|       29|\n",
      "+---------+\n",
      "\n",
      "+---------------+------+----+\n",
      "|           nome|altura|peso|\n",
      "+---------------+------+----+\n",
      "|      hatterene|    21|  51|\n",
      "|aerodactyl-mega|    21| 790|\n",
      "|     eelektross|    21| 805|\n",
      "+---------------+------+----+\n",
      "only showing top 3 rows\n",
      "\n"
     ]
    }
   ],
   "source": [
    "# quantos pokemons possuem mais de 20m e menos de 1000kg? E quais são?\n",
    "\n",
    "df_20_1000 = (dfPokemon\n",
    "              .filter(fn.col('altura') > 20)\n",
    "              .filter(fn.col('peso') < 1000)\n",
    "             )\n",
    "\n",
    "df_20_1000.select(fn.count('id')).show()\n",
    "\n",
    "df_20_1000.select('nome', 'altura', 'peso').orderBy('altura', 'peso').show(3)"
   ]
  },
  {
   "cell_type": "markdown",
   "metadata": {},
   "source": [
    "### Exercício 08"
   ]
  },
  {
   "cell_type": "code",
   "execution_count": 98,
   "metadata": {
    "application/vnd.databricks.v1+cell": {
     "cellMetadata": {},
     "inputWidgets": {},
     "nuid": "83b48db5-25be-467b-8cb1-cbe47dc66dfe",
     "showTitle": true,
     "title": "Pergunta 8"
    }
   },
   "outputs": [
    {
     "name": "stdout",
     "output_type": "stream",
     "text": [
      "+------+-----------+--------------------+---+----------+----+--------+-------------------+\n",
      "|altura|experiencia|              formas| id|      nome|peso|    type|tamanho_lista_forma|\n",
      "+------+-----------+--------------------+---+----------+----+--------+-------------------+\n",
      "|     3|         41|[{pichu, https://...|172|     pichu|  20|electric|                  2|\n",
      "|     5|        118|[{unown-a, https:...|201|     unown|  50| psychic|                 28|\n",
      "|     2|         45|[{burmy-plant, ht...|412|     burmy|  34|     bug|                  3|\n",
      "|     9|        148|[{mothim-plant, h...|414|    mothim| 233|     bug|                  3|\n",
      "|     5|        158|[{cherrim-overcas...|421|   cherrim|  93|   grass|                  2|\n",
      "|     3|         65|[{shellos-west, h...|422|   shellos|  63|   water|                  2|\n",
      "|     9|        166|[{gastrodon-west,...|423| gastrodon| 299|   water|                  2|\n",
      "|    32|        324|[{arceus-normal, ...|493|    arceus|3200|  normal|                 19|\n",
      "|     6|         67|[{deerling-spring...|585|  deerling| 195|  normal|                  4|\n",
      "|    19|        166|[{sawsbuck-spring...|586|  sawsbuck| 925|  normal|                  4|\n",
      "|    15|        300|[{genesect, https...|649|  genesect| 825|     bug|                  5|\n",
      "|     3|         40|[{scatterbug-icy-...|664|scatterbug|  25|     bug|                 20|\n",
      "|     3|         75|[{spewpa-icy-snow...|665|    spewpa|  84|     bug|                 20|\n",
      "|    12|        185|[{vivillon-meadow...|666|  vivillon| 170|     bug|                 20|\n",
      "|     1|         61|[{flabebe-red, ht...|669|   flabebe|   1|   fairy|                  5|\n",
      "|     2|        130|[{floette-red, ht...|670|   floette|   9|   fairy|                  5|\n",
      "|    11|        248|[{florges-red, ht...|671|   florges| 100|   fairy|                  5|\n",
      "|    12|        165|[{furfrou-natural...|676|   furfrou| 280|  normal|                 10|\n",
      "|    30|        340|[{xerneas-active,...|716|   xerneas|2150|   fairy|                  2|\n",
      "|    23|        285|[{silvally-normal...|773|  silvally|1005|  normal|                 18|\n",
      "+------+-----------+--------------------+---+----------+----+--------+-------------------+\n",
      "only showing top 20 rows\n",
      "\n"
     ]
    }
   ],
   "source": [
    "# retorne os pokemons que possuem mais de uma forma\n",
    "\n",
    "df_size = dfPokemon.withColumn('tamanho_lista_forma', fn.size('formas'))\n",
    "\n",
    "df_size.filter(fn.col('tamanho_lista_forma') > 1).show()"
   ]
  },
  {
   "cell_type": "code",
   "execution_count": 102,
   "metadata": {},
   "outputs": [
    {
     "name": "stdout",
     "output_type": "stream",
     "text": [
      "+---+-----------+--------------------+\n",
      "| id|       nome|              formas|\n",
      "+---+-----------+--------------------+\n",
      "|172|      pichu|[{pichu, https://...|\n",
      "|201|      unown|[{unown-a, https:...|\n",
      "|412|      burmy|[{burmy-plant, ht...|\n",
      "|414|     mothim|[{mothim-plant, h...|\n",
      "|421|    cherrim|[{cherrim-overcas...|\n",
      "|422|    shellos|[{shellos-west, h...|\n",
      "|423|  gastrodon|[{gastrodon-west,...|\n",
      "|493|     arceus|[{arceus-normal, ...|\n",
      "|585|   deerling|[{deerling-spring...|\n",
      "|586|   sawsbuck|[{sawsbuck-spring...|\n",
      "|649|   genesect|[{genesect, https...|\n",
      "|664| scatterbug|[{scatterbug-icy-...|\n",
      "|665|     spewpa|[{spewpa-icy-snow...|\n",
      "|666|   vivillon|[{vivillon-meadow...|\n",
      "|669|    flabebe|[{flabebe-red, ht...|\n",
      "|670|    floette|[{floette-red, ht...|\n",
      "|671|    florges|[{florges-red, ht...|\n",
      "|676|    furfrou|[{furfrou-natural...|\n",
      "|716|    xerneas|[{xerneas-active,...|\n",
      "|773|   silvally|[{silvally-normal...|\n",
      "|854|   sinistea|[{sinistea-phony,...|\n",
      "|855|polteageist|[{polteageist-pho...|\n",
      "|869|   alcremie|[{alcremie-vanill...|\n",
      "+---+-----------+--------------------+\n",
      "\n"
     ]
    }
   ],
   "source": [
    "(dfPokemon.select('id', 'nome', 'formas').filter(fn.size('formas') > 1).show(dfPokemon.count())\n",
    ")"
   ]
  },
  {
   "cell_type": "code",
   "execution_count": 104,
   "metadata": {},
   "outputs": [
    {
     "name": "stdout",
     "output_type": "stream",
     "text": [
      "+------+-----------+--------------------+---+----------+----+--------+\n",
      "|altura|experiencia|              formas| id|      nome|peso|    type|\n",
      "+------+-----------+--------------------+---+----------+----+--------+\n",
      "|     3|         41|[{pichu, https://...|172|     pichu|  20|electric|\n",
      "|     5|        118|[{unown-a, https:...|201|     unown|  50| psychic|\n",
      "|     2|         45|[{burmy-plant, ht...|412|     burmy|  34|     bug|\n",
      "|     9|        148|[{mothim-plant, h...|414|    mothim| 233|     bug|\n",
      "|     5|        158|[{cherrim-overcas...|421|   cherrim|  93|   grass|\n",
      "|     3|         65|[{shellos-west, h...|422|   shellos|  63|   water|\n",
      "|     9|        166|[{gastrodon-west,...|423| gastrodon| 299|   water|\n",
      "|    32|        324|[{arceus-normal, ...|493|    arceus|3200|  normal|\n",
      "|     6|         67|[{deerling-spring...|585|  deerling| 195|  normal|\n",
      "|    19|        166|[{sawsbuck-spring...|586|  sawsbuck| 925|  normal|\n",
      "|    15|        300|[{genesect, https...|649|  genesect| 825|     bug|\n",
      "|     3|         40|[{scatterbug-icy-...|664|scatterbug|  25|     bug|\n",
      "|     3|         75|[{spewpa-icy-snow...|665|    spewpa|  84|     bug|\n",
      "|    12|        185|[{vivillon-meadow...|666|  vivillon| 170|     bug|\n",
      "|     1|         61|[{flabebe-red, ht...|669|   flabebe|   1|   fairy|\n",
      "|     2|        130|[{floette-red, ht...|670|   floette|   9|   fairy|\n",
      "|    11|        248|[{florges-red, ht...|671|   florges| 100|   fairy|\n",
      "|    12|        165|[{furfrou-natural...|676|   furfrou| 280|  normal|\n",
      "|    30|        340|[{xerneas-active,...|716|   xerneas|2150|   fairy|\n",
      "|    23|        285|[{silvally-normal...|773|  silvally|1005|  normal|\n",
      "+------+-----------+--------------------+---+----------+----+--------+\n",
      "only showing top 20 rows\n",
      "\n"
     ]
    }
   ],
   "source": [
    "pokemons_com_mais_de_uma_forma = dfPokemon.filter(fn.size(dfPokemon[\"formas\"]) > 1)\n",
    "pokemons_com_mais_de_uma_forma.show()"
   ]
  }
 ],
 "metadata": {
  "application/vnd.databricks.v1+notebook": {
   "dashboards": [],
   "language": "python",
   "notebookMetadata": {
    "mostRecentlyExecutedCommandWithImplicitDF": {
     "commandId": -1,
     "dataframes": [
      "_sqldf"
     ]
    },
    "pythonIndentUnit": 2
   },
   "notebookName": "Aula Spark Na Pratica - 01",
   "widgets": {}
  },
  "kernelspec": {
   "display_name": "Python 3 (ipykernel)",
   "language": "python",
   "name": "python3"
  },
  "language_info": {
   "codemirror_mode": {
    "name": "ipython",
    "version": 3
   },
   "file_extension": ".py",
   "mimetype": "text/x-python",
   "name": "python",
   "nbconvert_exporter": "python",
   "pygments_lexer": "ipython3",
   "version": "3.10.5"
  }
 },
 "nbformat": 4,
 "nbformat_minor": 4
}
